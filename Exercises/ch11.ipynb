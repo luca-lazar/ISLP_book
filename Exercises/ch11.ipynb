{
 "cells": [
  {
   "cell_type": "code",
   "execution_count": 70,
   "metadata": {},
   "outputs": [],
   "source": [
    "from matplotlib.pyplot import subplots\n",
    "import numpy as np\n",
    "import pandas as pd\n",
    "from ISLP.models import ModelSpec as MS\n",
    "from ISLP import load_data\n"
   ]
  },
  {
   "cell_type": "code",
   "execution_count": 71,
   "metadata": {},
   "outputs": [],
   "source": [
    "from lifelines import \\\n",
    "     (KaplanMeierFitter,\n",
    "      CoxPHFitter)\n",
    "from lifelines.statistics import \\\n",
    "     (logrank_test,\n",
    "      multivariate_logrank_test)\n",
    "from ISLP.survival import sim_time\n"
   ]
  },
  {
   "cell_type": "markdown",
   "metadata": {},
   "source": [
    "# Exercise 10"
   ]
  },
  {
   "cell_type": "code",
   "execution_count": 72,
   "metadata": {},
   "outputs": [
    {
     "data": {
      "text/plain": [
       "Index(['sex', 'diagnosis', 'loc', 'ki', 'gtv', 'stereo', 'status', 'time'], dtype='object')"
      ]
     },
     "execution_count": 72,
     "metadata": {},
     "output_type": "execute_result"
    }
   ],
   "source": [
    "BrainCancer = load_data('BrainCancer')\n",
    "BrainCancer.columns"
   ]
  },
  {
   "cell_type": "code",
   "execution_count": 73,
   "metadata": {},
   "outputs": [
    {
     "data": {
      "text/plain": [
       "Float64Index([  0.0,  0.07,  1.18,  1.41,  1.54,  2.03,  3.38,  4.16,  4.56,\n",
       "               5.15,  5.51,   6.1,  6.23,   6.3,  6.39,  6.82,  6.92,  7.05,\n",
       "               7.18,  7.25,  8.98,  9.77,  10.1, 10.49, 10.82, 11.02, 11.48,\n",
       "              11.51, 11.57,  13.9,  14.0, 14.56, 14.62, 14.75, 16.43, 16.92,\n",
       "              17.57, 18.95, 19.41, 19.74,  19.9, 20.13, 20.69, 22.03, 23.67,\n",
       "              24.39, 25.02, 26.46, 26.85,  29.7, 30.16, 31.15, 31.25, 31.67,\n",
       "              32.82, 32.98, 33.41, 33.67, 34.26, 34.66, 35.93,  36.1, 39.25,\n",
       "              39.54, 41.44, 42.07,  42.1, 44.39, 45.74, 46.16, 47.11,  47.8,\n",
       "              49.05, 50.85, 51.02, 52.23, 52.75, 54.43,  55.8, 57.11, 57.25,\n",
       "              57.64, 65.02, 67.38, 73.74, 78.75, 82.56],\n",
       "             dtype='float64', name='timeline')"
      ]
     },
     "execution_count": 73,
     "metadata": {},
     "output_type": "execute_result"
    },
    {
     "data": {
      "image/png": "[encoded data removed]",
      "text/plain": [
       "<Figure size 800x800 with 1 Axes>"
      ]
     },
     "metadata": {},
     "output_type": "display_data"
    }
   ],
   "source": [
    "fig, ax = subplots(figsize=(8,8))\n",
    "km = KaplanMeierFitter(alpha=0.682)\n",
    "km_brain = km.fit(BrainCancer['time'], BrainCancer['status'])\n",
    "km_brain_2 = km_brain\n",
    "km_brain.plot(label='Kaplan Meier estimate', ax=ax)\n",
    "dir(km_brain)\n",
    "km_brain.survival_function_.index"
   ]
  },
  {
   "cell_type": "code",
   "execution_count": 74,
   "metadata": {},
   "outputs": [
    {
     "data": {
      "text/plain": [
       "(64, 47, (64,))"
      ]
     },
     "execution_count": 74,
     "metadata": {},
     "output_type": "execute_result"
    }
   ],
   "source": [
    "import warnings\n",
    "warnings.filterwarnings('ignore')\n",
    "km_curves_df = pd.DataFrame()\n",
    "arrays = []\n",
    "index_arrays = []\n",
    "for i in range(600):\n",
    "    bootstrap = BrainCancer.sample(n=88, replace=True)\n",
    "    km = KaplanMeierFitter()\n",
    "    km_brain = km.fit(bootstrap['time'], bootstrap['status'])\n",
    "    arrays.append(np.array([x[0] for x in km_brain.survival_function_.values]))\n",
    "    index_arrays.append(km_brain.survival_function_.index)\n",
    "    # km_curves_df[f'it_{i+1}'] = np.array([x[0] for x in km_brain.survival_function_.values])\n",
    "\n",
    "max_len = 0\n",
    "min_len = 300\n",
    "for array, index_array in zip(arrays, index_arrays):\n",
    "    if len(array) > max_len:\n",
    "        max_len = len(array)\n",
    "        i_arr = index_array\n",
    "    if len(array) < min_len:\n",
    "        min_len = len(array)\n",
    "\n",
    "max_len, min_len, i_arr.shape\n",
    "    "
   ]
  },
  {
   "cell_type": "code",
   "execution_count": 75,
   "metadata": {},
   "outputs": [
    {
     "data": {
      "text/html": [
       "<div>\n",
       "<style scoped>\n",
       "    .dataframe tbody tr th:only-of-type {\n",
       "        vertical-align: middle;\n",
       "    }\n",
       "\n",
       "    .dataframe tbody tr th {\n",
       "        vertical-align: top;\n",
       "    }\n",
       "\n",
       "    .dataframe thead th {\n",
       "        text-align: right;\n",
       "    }\n",
       "</style>\n",
       "<table border=\"1\" class=\"dataframe\">\n",
       "  <thead>\n",
       "    <tr style=\"text-align: right;\">\n",
       "      <th></th>\n",
       "      <th>it_1</th>\n",
       "      <th>it_2</th>\n",
       "      <th>it_3</th>\n",
       "      <th>it_4</th>\n",
       "      <th>it_5</th>\n",
       "      <th>it_6</th>\n",
       "      <th>it_7</th>\n",
       "      <th>it_8</th>\n",
       "      <th>it_9</th>\n",
       "      <th>it_10</th>\n",
       "      <th>...</th>\n",
       "      <th>it_591</th>\n",
       "      <th>it_592</th>\n",
       "      <th>it_593</th>\n",
       "      <th>it_594</th>\n",
       "      <th>it_595</th>\n",
       "      <th>it_596</th>\n",
       "      <th>it_597</th>\n",
       "      <th>it_598</th>\n",
       "      <th>it_599</th>\n",
       "      <th>it_600</th>\n",
       "    </tr>\n",
       "  </thead>\n",
       "  <tbody>\n",
       "    <tr>\n",
       "      <th>0</th>\n",
       "      <td>1.000000</td>\n",
       "      <td>1.000000</td>\n",
       "      <td>1.000000</td>\n",
       "      <td>1.000000</td>\n",
       "      <td>1.000000</td>\n",
       "      <td>1.000000</td>\n",
       "      <td>1.000000</td>\n",
       "      <td>1.000000</td>\n",
       "      <td>1.000000</td>\n",
       "      <td>1.000000</td>\n",
       "      <td>...</td>\n",
       "      <td>1.000000</td>\n",
       "      <td>1.000000</td>\n",
       "      <td>1.000000</td>\n",
       "      <td>1.000000</td>\n",
       "      <td>1.000000</td>\n",
       "      <td>1.000000</td>\n",
       "      <td>1.000000</td>\n",
       "      <td>1.000000</td>\n",
       "      <td>1.000000</td>\n",
       "      <td>1.000000</td>\n",
       "    </tr>\n",
       "    <tr>\n",
       "      <th>1</th>\n",
       "      <td>1.000000</td>\n",
       "      <td>0.988636</td>\n",
       "      <td>1.000000</td>\n",
       "      <td>1.000000</td>\n",
       "      <td>0.988636</td>\n",
       "      <td>0.977273</td>\n",
       "      <td>0.977273</td>\n",
       "      <td>0.988636</td>\n",
       "      <td>0.988636</td>\n",
       "      <td>0.988636</td>\n",
       "      <td>...</td>\n",
       "      <td>0.988636</td>\n",
       "      <td>0.988636</td>\n",
       "      <td>1.000000</td>\n",
       "      <td>0.977273</td>\n",
       "      <td>1.000000</td>\n",
       "      <td>1.000000</td>\n",
       "      <td>0.988636</td>\n",
       "      <td>1.000000</td>\n",
       "      <td>1.000000</td>\n",
       "      <td>0.988636</td>\n",
       "    </tr>\n",
       "    <tr>\n",
       "      <th>2</th>\n",
       "      <td>0.965517</td>\n",
       "      <td>0.977273</td>\n",
       "      <td>0.977011</td>\n",
       "      <td>0.965517</td>\n",
       "      <td>0.988636</td>\n",
       "      <td>0.977273</td>\n",
       "      <td>0.909091</td>\n",
       "      <td>0.988636</td>\n",
       "      <td>0.988636</td>\n",
       "      <td>0.988636</td>\n",
       "      <td>...</td>\n",
       "      <td>0.931818</td>\n",
       "      <td>0.988636</td>\n",
       "      <td>1.000000</td>\n",
       "      <td>0.977273</td>\n",
       "      <td>0.963855</td>\n",
       "      <td>0.988506</td>\n",
       "      <td>0.977273</td>\n",
       "      <td>0.976744</td>\n",
       "      <td>0.988372</td>\n",
       "      <td>0.988636</td>\n",
       "    </tr>\n",
       "    <tr>\n",
       "      <th>3</th>\n",
       "      <td>0.965517</td>\n",
       "      <td>0.977273</td>\n",
       "      <td>0.977011</td>\n",
       "      <td>0.965517</td>\n",
       "      <td>0.977141</td>\n",
       "      <td>0.977273</td>\n",
       "      <td>0.909091</td>\n",
       "      <td>0.988636</td>\n",
       "      <td>0.988636</td>\n",
       "      <td>0.965374</td>\n",
       "      <td>...</td>\n",
       "      <td>0.931818</td>\n",
       "      <td>0.988636</td>\n",
       "      <td>0.976744</td>\n",
       "      <td>0.965775</td>\n",
       "      <td>0.951807</td>\n",
       "      <td>0.965517</td>\n",
       "      <td>0.977273</td>\n",
       "      <td>0.976744</td>\n",
       "      <td>0.988372</td>\n",
       "      <td>0.977005</td>\n",
       "    </tr>\n",
       "    <tr>\n",
       "      <th>4</th>\n",
       "      <td>0.953597</td>\n",
       "      <td>0.965775</td>\n",
       "      <td>0.977011</td>\n",
       "      <td>0.965517</td>\n",
       "      <td>0.977141</td>\n",
       "      <td>0.977273</td>\n",
       "      <td>0.897583</td>\n",
       "      <td>0.988636</td>\n",
       "      <td>0.976867</td>\n",
       "      <td>0.965374</td>\n",
       "      <td>...</td>\n",
       "      <td>0.931818</td>\n",
       "      <td>0.965097</td>\n",
       "      <td>0.953488</td>\n",
       "      <td>0.965775</td>\n",
       "      <td>0.951807</td>\n",
       "      <td>0.965517</td>\n",
       "      <td>0.965775</td>\n",
       "      <td>0.976744</td>\n",
       "      <td>0.988372</td>\n",
       "      <td>0.977005</td>\n",
       "    </tr>\n",
       "    <tr>\n",
       "      <th>...</th>\n",
       "      <td>...</td>\n",
       "      <td>...</td>\n",
       "      <td>...</td>\n",
       "      <td>...</td>\n",
       "      <td>...</td>\n",
       "      <td>...</td>\n",
       "      <td>...</td>\n",
       "      <td>...</td>\n",
       "      <td>...</td>\n",
       "      <td>...</td>\n",
       "      <td>...</td>\n",
       "      <td>...</td>\n",
       "      <td>...</td>\n",
       "      <td>...</td>\n",
       "      <td>...</td>\n",
       "      <td>...</td>\n",
       "      <td>...</td>\n",
       "      <td>...</td>\n",
       "      <td>...</td>\n",
       "      <td>...</td>\n",
       "      <td>...</td>\n",
       "    </tr>\n",
       "    <tr>\n",
       "      <th>59</th>\n",
       "      <td>NaN</td>\n",
       "      <td>0.512516</td>\n",
       "      <td>0.344824</td>\n",
       "      <td>NaN</td>\n",
       "      <td>NaN</td>\n",
       "      <td>NaN</td>\n",
       "      <td>NaN</td>\n",
       "      <td>NaN</td>\n",
       "      <td>NaN</td>\n",
       "      <td>NaN</td>\n",
       "      <td>...</td>\n",
       "      <td>NaN</td>\n",
       "      <td>NaN</td>\n",
       "      <td>NaN</td>\n",
       "      <td>NaN</td>\n",
       "      <td>NaN</td>\n",
       "      <td>NaN</td>\n",
       "      <td>NaN</td>\n",
       "      <td>NaN</td>\n",
       "      <td>NaN</td>\n",
       "      <td>NaN</td>\n",
       "    </tr>\n",
       "    <tr>\n",
       "      <th>60</th>\n",
       "      <td>NaN</td>\n",
       "      <td>0.512516</td>\n",
       "      <td>NaN</td>\n",
       "      <td>NaN</td>\n",
       "      <td>NaN</td>\n",
       "      <td>NaN</td>\n",
       "      <td>NaN</td>\n",
       "      <td>NaN</td>\n",
       "      <td>NaN</td>\n",
       "      <td>NaN</td>\n",
       "      <td>...</td>\n",
       "      <td>NaN</td>\n",
       "      <td>NaN</td>\n",
       "      <td>NaN</td>\n",
       "      <td>NaN</td>\n",
       "      <td>NaN</td>\n",
       "      <td>NaN</td>\n",
       "      <td>NaN</td>\n",
       "      <td>NaN</td>\n",
       "      <td>NaN</td>\n",
       "      <td>NaN</td>\n",
       "    </tr>\n",
       "    <tr>\n",
       "      <th>61</th>\n",
       "      <td>NaN</td>\n",
       "      <td>NaN</td>\n",
       "      <td>NaN</td>\n",
       "      <td>NaN</td>\n",
       "      <td>NaN</td>\n",
       "      <td>NaN</td>\n",
       "      <td>NaN</td>\n",
       "      <td>NaN</td>\n",
       "      <td>NaN</td>\n",
       "      <td>NaN</td>\n",
       "      <td>...</td>\n",
       "      <td>NaN</td>\n",
       "      <td>NaN</td>\n",
       "      <td>NaN</td>\n",
       "      <td>NaN</td>\n",
       "      <td>NaN</td>\n",
       "      <td>NaN</td>\n",
       "      <td>NaN</td>\n",
       "      <td>NaN</td>\n",
       "      <td>NaN</td>\n",
       "      <td>NaN</td>\n",
       "    </tr>\n",
       "    <tr>\n",
       "      <th>62</th>\n",
       "      <td>NaN</td>\n",
       "      <td>NaN</td>\n",
       "      <td>NaN</td>\n",
       "      <td>NaN</td>\n",
       "      <td>NaN</td>\n",
       "      <td>NaN</td>\n",
       "      <td>NaN</td>\n",
       "      <td>NaN</td>\n",
       "      <td>NaN</td>\n",
       "      <td>NaN</td>\n",
       "      <td>...</td>\n",
       "      <td>NaN</td>\n",
       "      <td>NaN</td>\n",
       "      <td>NaN</td>\n",
       "      <td>NaN</td>\n",
       "      <td>NaN</td>\n",
       "      <td>NaN</td>\n",
       "      <td>NaN</td>\n",
       "      <td>NaN</td>\n",
       "      <td>NaN</td>\n",
       "      <td>NaN</td>\n",
       "    </tr>\n",
       "    <tr>\n",
       "      <th>63</th>\n",
       "      <td>NaN</td>\n",
       "      <td>NaN</td>\n",
       "      <td>NaN</td>\n",
       "      <td>NaN</td>\n",
       "      <td>NaN</td>\n",
       "      <td>NaN</td>\n",
       "      <td>NaN</td>\n",
       "      <td>NaN</td>\n",
       "      <td>NaN</td>\n",
       "      <td>NaN</td>\n",
       "      <td>...</td>\n",
       "      <td>NaN</td>\n",
       "      <td>NaN</td>\n",
       "      <td>NaN</td>\n",
       "      <td>NaN</td>\n",
       "      <td>NaN</td>\n",
       "      <td>NaN</td>\n",
       "      <td>NaN</td>\n",
       "      <td>NaN</td>\n",
       "      <td>NaN</td>\n",
       "      <td>NaN</td>\n",
       "    </tr>\n",
       "  </tbody>\n",
       "</table>\n",
       "<p>64 rows × 600 columns</p>\n",
       "</div>"
      ],
      "text/plain": [
       "        it_1      it_2      it_3      it_4      it_5      it_6      it_7  \\\n",
       "0   1.000000  1.000000  1.000000  1.000000  1.000000  1.000000  1.000000   \n",
       "1   1.000000  0.988636  1.000000  1.000000  0.988636  0.977273  0.977273   \n",
       "2   0.965517  0.977273  0.977011  0.965517  0.988636  0.977273  0.909091   \n",
       "3   0.965517  0.977273  0.977011  0.965517  0.977141  0.977273  0.909091   \n",
       "4   0.953597  0.965775  0.977011  0.965517  0.977141  0.977273  0.897583   \n",
       "..       ...       ...       ...       ...       ...       ...       ...   \n",
       "59       NaN  0.512516  0.344824       NaN       NaN       NaN       NaN   \n",
       "60       NaN  0.512516       NaN       NaN       NaN       NaN       NaN   \n",
       "61       NaN       NaN       NaN       NaN       NaN       NaN       NaN   \n",
       "62       NaN       NaN       NaN       NaN       NaN       NaN       NaN   \n",
       "63       NaN       NaN       NaN       NaN       NaN       NaN       NaN   \n",
       "\n",
       "        it_8      it_9     it_10  ...    it_591    it_592    it_593    it_594  \\\n",
       "0   1.000000  1.000000  1.000000  ...  1.000000  1.000000  1.000000  1.000000   \n",
       "1   0.988636  0.988636  0.988636  ...  0.988636  0.988636  1.000000  0.977273   \n",
       "2   0.988636  0.988636  0.988636  ...  0.931818  0.988636  1.000000  0.977273   \n",
       "3   0.988636  0.988636  0.965374  ...  0.931818  0.988636  0.976744  0.965775   \n",
       "4   0.988636  0.976867  0.965374  ...  0.931818  0.965097  0.953488  0.965775   \n",
       "..       ...       ...       ...  ...       ...       ...       ...       ...   \n",
       "59       NaN       NaN       NaN  ...       NaN       NaN       NaN       NaN   \n",
       "60       NaN       NaN       NaN  ...       NaN       NaN       NaN       NaN   \n",
       "61       NaN       NaN       NaN  ...       NaN       NaN       NaN       NaN   \n",
       "62       NaN       NaN       NaN  ...       NaN       NaN       NaN       NaN   \n",
       "63       NaN       NaN       NaN  ...       NaN       NaN       NaN       NaN   \n",
       "\n",
       "      it_595    it_596    it_597    it_598    it_599    it_600  \n",
       "0   1.000000  1.000000  1.000000  1.000000  1.000000  1.000000  \n",
       "1   1.000000  1.000000  0.988636  1.000000  1.000000  0.988636  \n",
       "2   0.963855  0.988506  0.977273  0.976744  0.988372  0.988636  \n",
       "3   0.951807  0.965517  0.977273  0.976744  0.988372  0.977005  \n",
       "4   0.951807  0.965517  0.965775  0.976744  0.988372  0.977005  \n",
       "..       ...       ...       ...       ...       ...       ...  \n",
       "59       NaN       NaN       NaN       NaN       NaN       NaN  \n",
       "60       NaN       NaN       NaN       NaN       NaN       NaN  \n",
       "61       NaN       NaN       NaN       NaN       NaN       NaN  \n",
       "62       NaN       NaN       NaN       NaN       NaN       NaN  \n",
       "63       NaN       NaN       NaN       NaN       NaN       NaN  \n",
       "\n",
       "[64 rows x 600 columns]"
      ]
     },
     "execution_count": 75,
     "metadata": {},
     "output_type": "execute_result"
    }
   ],
   "source": [
    "import math\n",
    "\n",
    "\n",
    "nmax_len = 0\n",
    "nmin_len = 300\n",
    "i = 0\n",
    "for array in arrays:\n",
    "    nan_to_add = max_len - len(array)\n",
    "    # Create an array of NaN values\n",
    "    nan_values = np.full(nan_to_add, math.nan)\n",
    "\n",
    "    # Append the NaN values to the original array\n",
    "    array = np.concatenate([array, nan_values])\n",
    "    if len(array) > nmax_len:\n",
    "        nmax_len = len(array)\n",
    "    if len(array) < nmin_len:\n",
    "        nmin_len = len(array)\n",
    "\n",
    "    km_curves_df[f'it_{i+1}'] = array\n",
    "    i += 1\n",
    "\n",
    "\n",
    "nmax_len, nmin_len\n",
    "km_curves_df = km_curves_df.copy()\n",
    "km_curves_df"
   ]
  },
  {
   "cell_type": "code",
   "execution_count": 76,
   "metadata": {},
   "outputs": [
    {
     "data": {
      "text/plain": [
       "<Axes: xlabel='timeline'>"
      ]
     },
     "execution_count": 76,
     "metadata": {},
     "output_type": "execute_result"
    },
    {
     "data": {
      "image/png": "[encoded data removed]",
      "text/plain": [
       "<Figure size 640x480 with 1 Axes>"
      ]
     },
     "metadata": {},
     "output_type": "display_data"
    }
   ],
   "source": [
    "# Compute the mean of each row\n",
    "mean_values_row = km_curves_df.mean(axis=1)\n",
    "\n",
    "# Compute the standard deviation of each row\n",
    "std_values_row = km_curves_df.std(axis=1)\n",
    "\n",
    "import seaborn as sns\n",
    "\n",
    "mean_plus_std = mean_values_row + std_values_row\n",
    "mean_minus_std = mean_values_row - std_values_row\n",
    "sns.lineplot(x=i_arr, y=mean_values_row, label = 'mean curve')\n",
    "sns.lineplot(x=i_arr, y=mean_plus_std, label = 'mean +')\n",
    "sns.lineplot(x=i_arr, y=mean_minus_std, label = 'mean -')"
   ]
  },
  {
   "cell_type": "code",
   "execution_count": 77,
   "metadata": {},
   "outputs": [
    {
     "data": {
      "text/plain": [
       "<Axes: xlabel='timeline'>"
      ]
     },
     "execution_count": 77,
     "metadata": {},
     "output_type": "execute_result"
    },
    {
     "data": {
      "image/png": "[encoded data removed]",
      "text/plain": [
       "<Figure size 800x800 with 1 Axes>"
      ]
     },
     "metadata": {},
     "output_type": "display_data"
    }
   ],
   "source": [
    "fig, ax = subplots(figsize=(8,8))\n",
    "km_brain_2.plot(label='Kaplan Meier estimate', ax=ax)"
   ]
  },
  {
   "cell_type": "code",
   "execution_count": 78,
   "metadata": {},
   "outputs": [
    {
     "data": {
      "text/html": [
       "<div>\n",
       "<style scoped>\n",
       "    .dataframe tbody tr th:only-of-type {\n",
       "        vertical-align: middle;\n",
       "    }\n",
       "\n",
       "    .dataframe tbody tr th {\n",
       "        vertical-align: top;\n",
       "    }\n",
       "\n",
       "    .dataframe thead th {\n",
       "        text-align: right;\n",
       "    }\n",
       "</style>\n",
       "<table border=\"1\" class=\"dataframe\">\n",
       "  <thead>\n",
       "    <tr style=\"text-align: right;\">\n",
       "      <th></th>\n",
       "      <th>sex</th>\n",
       "      <th>diagnosis</th>\n",
       "      <th>loc</th>\n",
       "      <th>ki</th>\n",
       "      <th>gtv</th>\n",
       "      <th>stereo</th>\n",
       "      <th>status</th>\n",
       "      <th>time</th>\n",
       "    </tr>\n",
       "  </thead>\n",
       "  <tbody>\n",
       "    <tr>\n",
       "      <th>0</th>\n",
       "      <td>Female</td>\n",
       "      <td>Meningioma</td>\n",
       "      <td>Infratentorial</td>\n",
       "      <td>90</td>\n",
       "      <td>6.11</td>\n",
       "      <td>SRS</td>\n",
       "      <td>0</td>\n",
       "      <td>57.64</td>\n",
       "    </tr>\n",
       "    <tr>\n",
       "      <th>1</th>\n",
       "      <td>Male</td>\n",
       "      <td>HG glioma</td>\n",
       "      <td>Supratentorial</td>\n",
       "      <td>90</td>\n",
       "      <td>19.35</td>\n",
       "      <td>SRT</td>\n",
       "      <td>1</td>\n",
       "      <td>8.98</td>\n",
       "    </tr>\n",
       "    <tr>\n",
       "      <th>2</th>\n",
       "      <td>Female</td>\n",
       "      <td>Meningioma</td>\n",
       "      <td>Infratentorial</td>\n",
       "      <td>70</td>\n",
       "      <td>7.95</td>\n",
       "      <td>SRS</td>\n",
       "      <td>0</td>\n",
       "      <td>26.46</td>\n",
       "    </tr>\n",
       "    <tr>\n",
       "      <th>3</th>\n",
       "      <td>Female</td>\n",
       "      <td>LG glioma</td>\n",
       "      <td>Supratentorial</td>\n",
       "      <td>80</td>\n",
       "      <td>7.61</td>\n",
       "      <td>SRT</td>\n",
       "      <td>1</td>\n",
       "      <td>47.80</td>\n",
       "    </tr>\n",
       "    <tr>\n",
       "      <th>4</th>\n",
       "      <td>Male</td>\n",
       "      <td>HG glioma</td>\n",
       "      <td>Supratentorial</td>\n",
       "      <td>90</td>\n",
       "      <td>5.06</td>\n",
       "      <td>SRT</td>\n",
       "      <td>1</td>\n",
       "      <td>6.30</td>\n",
       "    </tr>\n",
       "  </tbody>\n",
       "</table>\n",
       "</div>"
      ],
      "text/plain": [
       "      sex   diagnosis             loc  ki    gtv stereo  status   time\n",
       "0  Female  Meningioma  Infratentorial  90   6.11    SRS       0  57.64\n",
       "1    Male   HG glioma  Supratentorial  90  19.35    SRT       1   8.98\n",
       "2  Female  Meningioma  Infratentorial  70   7.95    SRS       0  26.46\n",
       "3  Female   LG glioma  Supratentorial  80   7.61    SRT       1  47.80\n",
       "4    Male   HG glioma  Supratentorial  90   5.06    SRT       1   6.30"
      ]
     },
     "execution_count": 78,
     "metadata": {},
     "output_type": "execute_result"
    }
   ],
   "source": [
    "BrainCancer[:5]"
   ]
  },
  {
   "cell_type": "code",
   "execution_count": 79,
   "metadata": {},
   "outputs": [
    {
     "data": {
      "text/html": [
       "<div>\n",
       "<style scoped>\n",
       "    .dataframe tbody tr th:only-of-type {\n",
       "        vertical-align: middle;\n",
       "    }\n",
       "\n",
       "    .dataframe tbody tr th {\n",
       "        vertical-align: top;\n",
       "    }\n",
       "\n",
       "    .dataframe thead th {\n",
       "        text-align: right;\n",
       "    }\n",
       "</style>\n",
       "<table border=\"1\" class=\"dataframe\">\n",
       "  <thead>\n",
       "    <tr style=\"text-align: right;\">\n",
       "      <th></th>\n",
       "      <th>coef</th>\n",
       "      <th>se(coef)</th>\n",
       "      <th>p</th>\n",
       "    </tr>\n",
       "    <tr>\n",
       "      <th>covariate</th>\n",
       "      <th></th>\n",
       "      <th></th>\n",
       "      <th></th>\n",
       "    </tr>\n",
       "  </thead>\n",
       "  <tbody>\n",
       "    <tr>\n",
       "      <th>sex[Male]</th>\n",
       "      <td>0.097854</td>\n",
       "      <td>0.360701</td>\n",
       "      <td>0.786169</td>\n",
       "    </tr>\n",
       "    <tr>\n",
       "      <th>diagnosis[LG glioma]</th>\n",
       "      <td>-1.091266</td>\n",
       "      <td>0.573943</td>\n",
       "      <td>0.057256</td>\n",
       "    </tr>\n",
       "    <tr>\n",
       "      <th>diagnosis[Meningioma]</th>\n",
       "      <td>-2.082012</td>\n",
       "      <td>0.453688</td>\n",
       "      <td>0.000004</td>\n",
       "    </tr>\n",
       "    <tr>\n",
       "      <th>diagnosis[Other]</th>\n",
       "      <td>-1.235849</td>\n",
       "      <td>0.625866</td>\n",
       "      <td>0.048311</td>\n",
       "    </tr>\n",
       "    <tr>\n",
       "      <th>loc[Supratentorial]</th>\n",
       "      <td>0.375835</td>\n",
       "      <td>0.697787</td>\n",
       "      <td>0.590156</td>\n",
       "    </tr>\n",
       "    <tr>\n",
       "      <th>ki</th>\n",
       "      <td>-0.057920</td>\n",
       "      <td>0.018313</td>\n",
       "      <td>0.001563</td>\n",
       "    </tr>\n",
       "    <tr>\n",
       "      <th>gtv</th>\n",
       "      <td>0.036041</td>\n",
       "      <td>0.022623</td>\n",
       "      <td>0.111125</td>\n",
       "    </tr>\n",
       "    <tr>\n",
       "      <th>stereo[SRT]</th>\n",
       "      <td>0.139636</td>\n",
       "      <td>0.598031</td>\n",
       "      <td>0.815379</td>\n",
       "    </tr>\n",
       "  </tbody>\n",
       "</table>\n",
       "</div>"
      ],
      "text/plain": [
       "                           coef  se(coef)         p\n",
       "covariate                                          \n",
       "sex[Male]              0.097854  0.360701  0.786169\n",
       "diagnosis[LG glioma]  -1.091266  0.573943  0.057256\n",
       "diagnosis[Meningioma] -2.082012  0.453688  0.000004\n",
       "diagnosis[Other]      -1.235849  0.625866  0.048311\n",
       "loc[Supratentorial]    0.375835  0.697787  0.590156\n",
       "ki                    -0.057920  0.018313  0.001563\n",
       "gtv                    0.036041  0.022623  0.111125\n",
       "stereo[SRT]            0.139636  0.598031  0.815379"
      ]
     },
     "execution_count": 79,
     "metadata": {},
     "output_type": "execute_result"
    }
   ],
   "source": [
    "coxph = CoxPHFitter # shorthand\n",
    "\n",
    "X = MS(BrainCancer.columns,\n",
    "       intercept=False).fit_transform(BrainCancer)\n",
    "fit_queuing = coxph().fit(\n",
    "                  X,\n",
    "                 'time',\n",
    "                 'status')\n",
    "fit_queuing.summary[['coef', 'se(coef)', 'p']]"
   ]
  },
  {
   "cell_type": "code",
   "execution_count": 80,
   "metadata": {},
   "outputs": [
    {
     "data": {
      "text/plain": [
       "80     36\n",
       "90     27\n",
       "70     14\n",
       "60      6\n",
       "100     5\n",
       "Name: ki, dtype: int64"
      ]
     },
     "execution_count": 80,
     "metadata": {},
     "output_type": "execute_result"
    }
   ],
   "source": [
    "BrainCancer.loc[BrainCancer['ki'] == 40, 'ki'] = 60\n",
    "BrainCancer['ki'].value_counts()"
   ]
  },
  {
   "cell_type": "code",
   "execution_count": 83,
   "metadata": {},
   "outputs": [
    {
     "data": {
      "image/png": "[encoded data removed]",
      "text/plain": [
       "<Figure size 800x800 with 1 Axes>"
      ]
     },
     "metadata": {},
     "output_type": "display_data"
    }
   ],
   "source": [
    "fig, ax = subplots(figsize=(8,8))\n",
    "by_ki = {}\n",
    "km = KaplanMeierFitter(alpha=0.01)\n",
    "for ki, df in BrainCancer.groupby('ki'):\n",
    "    by_ki[ki] = df\n",
    "    km_ki = km.fit(df['time'], df['status'])\n",
    "    km_ki.plot(label='Ki=%s' % ki, ax=ax)"
   ]
  },
  {
   "cell_type": "markdown",
   "metadata": {},
   "source": [
    "# Exercise 11"
   ]
  },
  {
   "cell_type": "code",
   "execution_count": 92,
   "metadata": {},
   "outputs": [],
   "source": [
    "df = pd.DataFrame()\n",
    "df['x'] = np.array([0.1, 11, -0.3, 2.8, 1.8, 0.4])\n",
    "df['time'] = np.array([26.5, 37.2, 57.3, 90.8, 20.2, 89.8])\n",
    "df['status'] = np.array([1, 1, 1, 0, 0, 0])\n",
    "df['group'] = 0\n",
    "df.loc[df['x'] >= 2, 'group'] = 1\n",
    "df\n",
    "ex_df = df"
   ]
  },
  {
   "cell_type": "code",
   "execution_count": 93,
   "metadata": {},
   "outputs": [
    {
     "data": {
      "image/png": "[encoded data removed]",
      "text/plain": [
       "<Figure size 800x800 with 1 Axes>"
      ]
     },
     "metadata": {},
     "output_type": "display_data"
    }
   ],
   "source": [
    "fig, ax = subplots(figsize=(8,8))\n",
    "by_gr = {}\n",
    "km = KaplanMeierFitter()\n",
    "for gr, df in ex_df.groupby('group'):\n",
    "    by_gr[gr] = df\n",
    "    km_gr = km.fit(df['time'], df['status'])\n",
    "    km_gr.plot(label='Gr=%s' % gr, ax=ax)"
   ]
  },
  {
   "cell_type": "code",
   "execution_count": 94,
   "metadata": {},
   "outputs": [
    {
     "data": {
      "text/html": [
       "<div>\n",
       "<style scoped>\n",
       "    .dataframe tbody tr th:only-of-type {\n",
       "        vertical-align: middle;\n",
       "    }\n",
       "\n",
       "    .dataframe tbody tr th {\n",
       "        vertical-align: top;\n",
       "    }\n",
       "\n",
       "    .dataframe thead th {\n",
       "        text-align: right;\n",
       "    }\n",
       "</style>\n",
       "<table border=\"1\" class=\"dataframe\">\n",
       "  <tbody>\n",
       "    <tr>\n",
       "      <th>null_distribution</th>\n",
       "      <td>chi squared</td>\n",
       "    </tr>\n",
       "    <tr>\n",
       "      <th>degrees_freedom</th>\n",
       "      <td>1</td>\n",
       "    </tr>\n",
       "    <tr>\n",
       "      <th>test_name</th>\n",
       "      <td>log-likelihood ratio test</td>\n",
       "    </tr>\n",
       "  </tbody>\n",
       "</table>\n",
       "</div><table border=\"1\" class=\"dataframe\">\n",
       "  <thead>\n",
       "    <tr style=\"text-align: right;\">\n",
       "      <th></th>\n",
       "      <th>test_statistic</th>\n",
       "      <th>p</th>\n",
       "      <th>-log2(p)</th>\n",
       "    </tr>\n",
       "  </thead>\n",
       "  <tbody>\n",
       "    <tr>\n",
       "      <th>0</th>\n",
       "      <td>0.08</td>\n",
       "      <td>0.78</td>\n",
       "      <td>0.36</td>\n",
       "    </tr>\n",
       "  </tbody>\n",
       "</table>"
      ],
      "text/latex": [
       "\\begin{tabular}{lrrr}\n",
       " & test_statistic & p & -log2(p) \\\\\n",
       "0 & 0.08 & 0.78 & 0.36 \\\\\n",
       "\\end{tabular}\n"
      ],
      "text/plain": [
       "<lifelines.StatisticalResult: log-likelihood ratio test>\n",
       "null_distribution = chi squared\n",
       "  degrees_freedom = 1\n",
       "        test_name = log-likelihood ratio test\n",
       "\n",
       "---\n",
       " test_statistic    p  -log2(p)\n",
       "           0.08 0.78      0.36"
      ]
     },
     "execution_count": 94,
     "metadata": {},
     "output_type": "execute_result"
    }
   ],
   "source": [
    "X = MS(['time',\n",
    "        'status',\n",
    "        'group'],\n",
    "       intercept=False).fit_transform(ex_df)\n",
    "F = coxph().fit(X, 'time', 'status')\n",
    "F.log_likelihood_ratio_test()\n"
   ]
  },
  {
   "cell_type": "code",
   "execution_count": 108,
   "metadata": {},
   "outputs": [
    {
     "data": {
      "text/html": [
       "<div>\n",
       "<style scoped>\n",
       "    .dataframe tbody tr th:only-of-type {\n",
       "        vertical-align: middle;\n",
       "    }\n",
       "\n",
       "    .dataframe tbody tr th {\n",
       "        vertical-align: top;\n",
       "    }\n",
       "\n",
       "    .dataframe thead th {\n",
       "        text-align: right;\n",
       "    }\n",
       "</style>\n",
       "<table border=\"1\" class=\"dataframe\">\n",
       "  <tbody>\n",
       "    <tr>\n",
       "      <th>t_0</th>\n",
       "      <td>-1</td>\n",
       "    </tr>\n",
       "    <tr>\n",
       "      <th>null_distribution</th>\n",
       "      <td>chi squared</td>\n",
       "    </tr>\n",
       "    <tr>\n",
       "      <th>degrees_of_freedom</th>\n",
       "      <td>1</td>\n",
       "    </tr>\n",
       "    <tr>\n",
       "      <th>test_name</th>\n",
       "      <td>logrank_test</td>\n",
       "    </tr>\n",
       "  </tbody>\n",
       "</table>\n",
       "</div><table border=\"1\" class=\"dataframe\">\n",
       "  <thead>\n",
       "    <tr style=\"text-align: right;\">\n",
       "      <th></th>\n",
       "      <th>test_statistic</th>\n",
       "      <th>p</th>\n",
       "      <th>-log2(p)</th>\n",
       "    </tr>\n",
       "  </thead>\n",
       "  <tbody>\n",
       "    <tr>\n",
       "      <th>0</th>\n",
       "      <td>0.08</td>\n",
       "      <td>0.78</td>\n",
       "      <td>0.35</td>\n",
       "    </tr>\n",
       "  </tbody>\n",
       "</table>"
      ],
      "text/latex": [
       "\\begin{tabular}{lrrr}\n",
       " & test_statistic & p & -log2(p) \\\\\n",
       "0 & 0.08 & 0.78 & 0.35 \\\\\n",
       "\\end{tabular}\n"
      ],
      "text/plain": [
       "<lifelines.StatisticalResult: logrank_test>\n",
       "               t_0 = -1\n",
       " null_distribution = chi squared\n",
       "degrees_of_freedom = 1\n",
       "         test_name = logrank_test\n",
       "\n",
       "---\n",
       " test_statistic    p  -log2(p)\n",
       "           0.08 0.78      0.35"
      ]
     },
     "execution_count": 108,
     "metadata": {},
     "output_type": "execute_result"
    }
   ],
   "source": [
    "logrank_test(by_gr[0]['time'],\n",
    "             by_gr[1]['time'],\n",
    "             by_gr[0]['status'],\n",
    "             by_gr[1]['status'])"
   ]
  },
  {
   "cell_type": "code",
   "execution_count": 95,
   "metadata": {},
   "outputs": [
    {
     "data": {
      "text/html": [
       "<div>\n",
       "<style scoped>\n",
       "    .dataframe tbody tr th:only-of-type {\n",
       "        vertical-align: middle;\n",
       "    }\n",
       "\n",
       "    .dataframe tbody tr th {\n",
       "        vertical-align: top;\n",
       "    }\n",
       "\n",
       "    .dataframe thead th {\n",
       "        text-align: right;\n",
       "    }\n",
       "</style>\n",
       "<table border=\"1\" class=\"dataframe\">\n",
       "  <thead>\n",
       "    <tr style=\"text-align: right;\">\n",
       "      <th></th>\n",
       "      <th>coef</th>\n",
       "      <th>se(coef)</th>\n",
       "      <th>p</th>\n",
       "    </tr>\n",
       "    <tr>\n",
       "      <th>covariate</th>\n",
       "      <th></th>\n",
       "      <th></th>\n",
       "      <th></th>\n",
       "    </tr>\n",
       "  </thead>\n",
       "  <tbody>\n",
       "    <tr>\n",
       "      <th>group</th>\n",
       "      <td>-0.340143</td>\n",
       "      <td>1.235876</td>\n",
       "      <td>0.783144</td>\n",
       "    </tr>\n",
       "  </tbody>\n",
       "</table>\n",
       "</div>"
      ],
      "text/plain": [
       "               coef  se(coef)         p\n",
       "covariate                              \n",
       "group     -0.340143  1.235876  0.783144"
      ]
     },
     "execution_count": 95,
     "metadata": {},
     "output_type": "execute_result"
    }
   ],
   "source": [
    "F.summary[['coef', 'se(coef)', 'p']]"
   ]
  },
  {
   "cell_type": "code",
   "execution_count": 105,
   "metadata": {},
   "outputs": [
    {
     "data": {
      "text/plain": [
       "0.7116991492890664"
      ]
     },
     "execution_count": 105,
     "metadata": {},
     "output_type": "execute_result"
    }
   ],
   "source": [
    "math.exp(-0.3401)"
   ]
  },
  {
   "cell_type": "markdown",
   "metadata": {},
   "source": [
    "If you look at section 11.5.2 page 478 (book, or page 485 pdf) for answering ex 11 part b you see that this -0.3401 estimated coefficient (though there is not enough evidence to reject the null hypothesis) communicates that group B (1) would be at an instanteneous risk of = risk group A * exp(-0.3401) = risk group A * 0.71 = 30% lower risk"
   ]
  },
  {
   "cell_type": "code",
   "execution_count": 117,
   "metadata": {},
   "outputs": [
    {
     "data": {
      "text/html": [
       "<div>\n",
       "<style scoped>\n",
       "    .dataframe tbody tr th:only-of-type {\n",
       "        vertical-align: middle;\n",
       "    }\n",
       "\n",
       "    .dataframe tbody tr th {\n",
       "        vertical-align: top;\n",
       "    }\n",
       "\n",
       "    .dataframe thead th {\n",
       "        text-align: right;\n",
       "    }\n",
       "</style>\n",
       "<table border=\"1\" class=\"dataframe\">\n",
       "  <thead>\n",
       "    <tr style=\"text-align: right;\">\n",
       "      <th></th>\n",
       "      <th>baseline cumulative hazard</th>\n",
       "    </tr>\n",
       "  </thead>\n",
       "  <tbody>\n",
       "    <tr>\n",
       "      <th>20.2</th>\n",
       "      <td>0.000000</td>\n",
       "    </tr>\n",
       "    <tr>\n",
       "      <th>26.5</th>\n",
       "      <td>0.201841</td>\n",
       "    </tr>\n",
       "    <tr>\n",
       "      <th>37.2</th>\n",
       "      <td>0.462642</td>\n",
       "    </tr>\n",
       "    <tr>\n",
       "      <th>57.3</th>\n",
       "      <td>0.791890</td>\n",
       "    </tr>\n",
       "    <tr>\n",
       "      <th>89.8</th>\n",
       "      <td>0.791890</td>\n",
       "    </tr>\n",
       "    <tr>\n",
       "      <th>90.8</th>\n",
       "      <td>0.791890</td>\n",
       "    </tr>\n",
       "  </tbody>\n",
       "</table>\n",
       "</div>"
      ],
      "text/plain": [
       "      baseline cumulative hazard\n",
       "20.2                    0.000000\n",
       "26.5                    0.201841\n",
       "37.2                    0.462642\n",
       "57.3                    0.791890\n",
       "89.8                    0.791890\n",
       "90.8                    0.791890"
      ]
     },
     "execution_count": 117,
     "metadata": {},
     "output_type": "execute_result"
    }
   ],
   "source": [
    "dir(F)[90:]\n",
    "F.baseline_cumulative_hazard_"
   ]
  }
 ],
 "metadata": {
  "kernelspec": {
   "display_name": "Python 3.10.7 64-bit",
   "language": "python",
   "name": "python3"
  },
  "language_info": {
   "codemirror_mode": {
    "name": "ipython",
    "version": 3
   },
   "file_extension": ".py",
   "mimetype": "text/x-python",
   "name": "python",
   "nbconvert_exporter": "python",
   "pygments_lexer": "ipython3",
   "version": "3.10.7"
  },
  "orig_nbformat": 4,
  "vscode": {
   "interpreter": {
    "hash": "aee8b7b246df8f9039afb4144a1f6fd8d2ca17a180786b69acc140d282b71a49"
   }
  }
 },
 "nbformat": 4,
 "nbformat_minor": 2
}
