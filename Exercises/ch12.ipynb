{
 "cells": [
  {
   "cell_type": "code",
   "execution_count": 810,
   "metadata": {},
   "outputs": [],
   "source": [
    "import numpy as np\n",
    "import pandas as pd\n",
    "import matplotlib.pyplot as plt\n",
    "from statsmodels.datasets import get_rdataset\n",
    "from sklearn.decomposition import PCA\n",
    "from sklearn.preprocessing import StandardScaler\n",
    "from ISLP import load_data\n"
   ]
  },
  {
   "cell_type": "code",
   "execution_count": 811,
   "metadata": {},
   "outputs": [],
   "source": [
    "from sklearn.cluster import \\\n",
    "     (KMeans,\n",
    "      AgglomerativeClustering)\n",
    "from scipy.cluster.hierarchy import \\\n",
    "     (dendrogram,\n",
    "      cut_tree)\n",
    "from ISLP.cluster import compute_linkage\n"
   ]
  },
  {
   "cell_type": "markdown",
   "metadata": {},
   "source": [
    "# Ex 7"
   ]
  },
  {
   "cell_type": "code",
   "execution_count": 812,
   "metadata": {},
   "outputs": [
    {
     "data": {
      "text/html": [
       "<div>\n",
       "<style scoped>\n",
       "    .dataframe tbody tr th:only-of-type {\n",
       "        vertical-align: middle;\n",
       "    }\n",
       "\n",
       "    .dataframe tbody tr th {\n",
       "        vertical-align: top;\n",
       "    }\n",
       "\n",
       "    .dataframe thead th {\n",
       "        text-align: right;\n",
       "    }\n",
       "</style>\n",
       "<table border=\"1\" class=\"dataframe\">\n",
       "  <thead>\n",
       "    <tr style=\"text-align: right;\">\n",
       "      <th></th>\n",
       "      <th>Murder</th>\n",
       "      <th>Assault</th>\n",
       "      <th>UrbanPop</th>\n",
       "      <th>Rape</th>\n",
       "    </tr>\n",
       "    <tr>\n",
       "      <th>rownames</th>\n",
       "      <th></th>\n",
       "      <th></th>\n",
       "      <th></th>\n",
       "      <th></th>\n",
       "    </tr>\n",
       "  </thead>\n",
       "  <tbody>\n",
       "    <tr>\n",
       "      <th>Alabama</th>\n",
       "      <td>13.2</td>\n",
       "      <td>236</td>\n",
       "      <td>58</td>\n",
       "      <td>21.2</td>\n",
       "    </tr>\n",
       "    <tr>\n",
       "      <th>Alaska</th>\n",
       "      <td>10.0</td>\n",
       "      <td>263</td>\n",
       "      <td>48</td>\n",
       "      <td>44.5</td>\n",
       "    </tr>\n",
       "    <tr>\n",
       "      <th>Arizona</th>\n",
       "      <td>8.1</td>\n",
       "      <td>294</td>\n",
       "      <td>80</td>\n",
       "      <td>31.0</td>\n",
       "    </tr>\n",
       "    <tr>\n",
       "      <th>Arkansas</th>\n",
       "      <td>8.8</td>\n",
       "      <td>190</td>\n",
       "      <td>50</td>\n",
       "      <td>19.5</td>\n",
       "    </tr>\n",
       "    <tr>\n",
       "      <th>California</th>\n",
       "      <td>9.0</td>\n",
       "      <td>276</td>\n",
       "      <td>91</td>\n",
       "      <td>40.6</td>\n",
       "    </tr>\n",
       "    <tr>\n",
       "      <th>Colorado</th>\n",
       "      <td>7.9</td>\n",
       "      <td>204</td>\n",
       "      <td>78</td>\n",
       "      <td>38.7</td>\n",
       "    </tr>\n",
       "    <tr>\n",
       "      <th>Connecticut</th>\n",
       "      <td>3.3</td>\n",
       "      <td>110</td>\n",
       "      <td>77</td>\n",
       "      <td>11.1</td>\n",
       "    </tr>\n",
       "    <tr>\n",
       "      <th>Delaware</th>\n",
       "      <td>5.9</td>\n",
       "      <td>238</td>\n",
       "      <td>72</td>\n",
       "      <td>15.8</td>\n",
       "    </tr>\n",
       "    <tr>\n",
       "      <th>Florida</th>\n",
       "      <td>15.4</td>\n",
       "      <td>335</td>\n",
       "      <td>80</td>\n",
       "      <td>31.9</td>\n",
       "    </tr>\n",
       "    <tr>\n",
       "      <th>Georgia</th>\n",
       "      <td>17.4</td>\n",
       "      <td>211</td>\n",
       "      <td>60</td>\n",
       "      <td>25.8</td>\n",
       "    </tr>\n",
       "    <tr>\n",
       "      <th>Hawaii</th>\n",
       "      <td>5.3</td>\n",
       "      <td>46</td>\n",
       "      <td>83</td>\n",
       "      <td>20.2</td>\n",
       "    </tr>\n",
       "    <tr>\n",
       "      <th>Idaho</th>\n",
       "      <td>2.6</td>\n",
       "      <td>120</td>\n",
       "      <td>54</td>\n",
       "      <td>14.2</td>\n",
       "    </tr>\n",
       "    <tr>\n",
       "      <th>Illinois</th>\n",
       "      <td>10.4</td>\n",
       "      <td>249</td>\n",
       "      <td>83</td>\n",
       "      <td>24.0</td>\n",
       "    </tr>\n",
       "    <tr>\n",
       "      <th>Indiana</th>\n",
       "      <td>7.2</td>\n",
       "      <td>113</td>\n",
       "      <td>65</td>\n",
       "      <td>21.0</td>\n",
       "    </tr>\n",
       "    <tr>\n",
       "      <th>Iowa</th>\n",
       "      <td>2.2</td>\n",
       "      <td>56</td>\n",
       "      <td>57</td>\n",
       "      <td>11.3</td>\n",
       "    </tr>\n",
       "    <tr>\n",
       "      <th>Kansas</th>\n",
       "      <td>6.0</td>\n",
       "      <td>115</td>\n",
       "      <td>66</td>\n",
       "      <td>18.0</td>\n",
       "    </tr>\n",
       "    <tr>\n",
       "      <th>Kentucky</th>\n",
       "      <td>9.7</td>\n",
       "      <td>109</td>\n",
       "      <td>52</td>\n",
       "      <td>16.3</td>\n",
       "    </tr>\n",
       "    <tr>\n",
       "      <th>Louisiana</th>\n",
       "      <td>15.4</td>\n",
       "      <td>249</td>\n",
       "      <td>66</td>\n",
       "      <td>22.2</td>\n",
       "    </tr>\n",
       "    <tr>\n",
       "      <th>Maine</th>\n",
       "      <td>2.1</td>\n",
       "      <td>83</td>\n",
       "      <td>51</td>\n",
       "      <td>7.8</td>\n",
       "    </tr>\n",
       "    <tr>\n",
       "      <th>Maryland</th>\n",
       "      <td>11.3</td>\n",
       "      <td>300</td>\n",
       "      <td>67</td>\n",
       "      <td>27.8</td>\n",
       "    </tr>\n",
       "    <tr>\n",
       "      <th>Massachusetts</th>\n",
       "      <td>4.4</td>\n",
       "      <td>149</td>\n",
       "      <td>85</td>\n",
       "      <td>16.3</td>\n",
       "    </tr>\n",
       "    <tr>\n",
       "      <th>Michigan</th>\n",
       "      <td>12.1</td>\n",
       "      <td>255</td>\n",
       "      <td>74</td>\n",
       "      <td>35.1</td>\n",
       "    </tr>\n",
       "    <tr>\n",
       "      <th>Minnesota</th>\n",
       "      <td>2.7</td>\n",
       "      <td>72</td>\n",
       "      <td>66</td>\n",
       "      <td>14.9</td>\n",
       "    </tr>\n",
       "    <tr>\n",
       "      <th>Mississippi</th>\n",
       "      <td>16.1</td>\n",
       "      <td>259</td>\n",
       "      <td>44</td>\n",
       "      <td>17.1</td>\n",
       "    </tr>\n",
       "    <tr>\n",
       "      <th>Missouri</th>\n",
       "      <td>9.0</td>\n",
       "      <td>178</td>\n",
       "      <td>70</td>\n",
       "      <td>28.2</td>\n",
       "    </tr>\n",
       "    <tr>\n",
       "      <th>Montana</th>\n",
       "      <td>6.0</td>\n",
       "      <td>109</td>\n",
       "      <td>53</td>\n",
       "      <td>16.4</td>\n",
       "    </tr>\n",
       "    <tr>\n",
       "      <th>Nebraska</th>\n",
       "      <td>4.3</td>\n",
       "      <td>102</td>\n",
       "      <td>62</td>\n",
       "      <td>16.5</td>\n",
       "    </tr>\n",
       "    <tr>\n",
       "      <th>Nevada</th>\n",
       "      <td>12.2</td>\n",
       "      <td>252</td>\n",
       "      <td>81</td>\n",
       "      <td>46.0</td>\n",
       "    </tr>\n",
       "    <tr>\n",
       "      <th>New Hampshire</th>\n",
       "      <td>2.1</td>\n",
       "      <td>57</td>\n",
       "      <td>56</td>\n",
       "      <td>9.5</td>\n",
       "    </tr>\n",
       "    <tr>\n",
       "      <th>New Jersey</th>\n",
       "      <td>7.4</td>\n",
       "      <td>159</td>\n",
       "      <td>89</td>\n",
       "      <td>18.8</td>\n",
       "    </tr>\n",
       "    <tr>\n",
       "      <th>New Mexico</th>\n",
       "      <td>11.4</td>\n",
       "      <td>285</td>\n",
       "      <td>70</td>\n",
       "      <td>32.1</td>\n",
       "    </tr>\n",
       "    <tr>\n",
       "      <th>New York</th>\n",
       "      <td>11.1</td>\n",
       "      <td>254</td>\n",
       "      <td>86</td>\n",
       "      <td>26.1</td>\n",
       "    </tr>\n",
       "    <tr>\n",
       "      <th>North Carolina</th>\n",
       "      <td>13.0</td>\n",
       "      <td>337</td>\n",
       "      <td>45</td>\n",
       "      <td>16.1</td>\n",
       "    </tr>\n",
       "    <tr>\n",
       "      <th>North Dakota</th>\n",
       "      <td>0.8</td>\n",
       "      <td>45</td>\n",
       "      <td>44</td>\n",
       "      <td>7.3</td>\n",
       "    </tr>\n",
       "    <tr>\n",
       "      <th>Ohio</th>\n",
       "      <td>7.3</td>\n",
       "      <td>120</td>\n",
       "      <td>75</td>\n",
       "      <td>21.4</td>\n",
       "    </tr>\n",
       "    <tr>\n",
       "      <th>Oklahoma</th>\n",
       "      <td>6.6</td>\n",
       "      <td>151</td>\n",
       "      <td>68</td>\n",
       "      <td>20.0</td>\n",
       "    </tr>\n",
       "    <tr>\n",
       "      <th>Oregon</th>\n",
       "      <td>4.9</td>\n",
       "      <td>159</td>\n",
       "      <td>67</td>\n",
       "      <td>29.3</td>\n",
       "    </tr>\n",
       "    <tr>\n",
       "      <th>Pennsylvania</th>\n",
       "      <td>6.3</td>\n",
       "      <td>106</td>\n",
       "      <td>72</td>\n",
       "      <td>14.9</td>\n",
       "    </tr>\n",
       "    <tr>\n",
       "      <th>Rhode Island</th>\n",
       "      <td>3.4</td>\n",
       "      <td>174</td>\n",
       "      <td>87</td>\n",
       "      <td>8.3</td>\n",
       "    </tr>\n",
       "    <tr>\n",
       "      <th>South Carolina</th>\n",
       "      <td>14.4</td>\n",
       "      <td>279</td>\n",
       "      <td>48</td>\n",
       "      <td>22.5</td>\n",
       "    </tr>\n",
       "    <tr>\n",
       "      <th>South Dakota</th>\n",
       "      <td>3.8</td>\n",
       "      <td>86</td>\n",
       "      <td>45</td>\n",
       "      <td>12.8</td>\n",
       "    </tr>\n",
       "    <tr>\n",
       "      <th>Tennessee</th>\n",
       "      <td>13.2</td>\n",
       "      <td>188</td>\n",
       "      <td>59</td>\n",
       "      <td>26.9</td>\n",
       "    </tr>\n",
       "    <tr>\n",
       "      <th>Texas</th>\n",
       "      <td>12.7</td>\n",
       "      <td>201</td>\n",
       "      <td>80</td>\n",
       "      <td>25.5</td>\n",
       "    </tr>\n",
       "    <tr>\n",
       "      <th>Utah</th>\n",
       "      <td>3.2</td>\n",
       "      <td>120</td>\n",
       "      <td>80</td>\n",
       "      <td>22.9</td>\n",
       "    </tr>\n",
       "    <tr>\n",
       "      <th>Vermont</th>\n",
       "      <td>2.2</td>\n",
       "      <td>48</td>\n",
       "      <td>32</td>\n",
       "      <td>11.2</td>\n",
       "    </tr>\n",
       "    <tr>\n",
       "      <th>Virginia</th>\n",
       "      <td>8.5</td>\n",
       "      <td>156</td>\n",
       "      <td>63</td>\n",
       "      <td>20.7</td>\n",
       "    </tr>\n",
       "    <tr>\n",
       "      <th>Washington</th>\n",
       "      <td>4.0</td>\n",
       "      <td>145</td>\n",
       "      <td>73</td>\n",
       "      <td>26.2</td>\n",
       "    </tr>\n",
       "    <tr>\n",
       "      <th>West Virginia</th>\n",
       "      <td>5.7</td>\n",
       "      <td>81</td>\n",
       "      <td>39</td>\n",
       "      <td>9.3</td>\n",
       "    </tr>\n",
       "    <tr>\n",
       "      <th>Wisconsin</th>\n",
       "      <td>2.6</td>\n",
       "      <td>53</td>\n",
       "      <td>66</td>\n",
       "      <td>10.8</td>\n",
       "    </tr>\n",
       "    <tr>\n",
       "      <th>Wyoming</th>\n",
       "      <td>6.8</td>\n",
       "      <td>161</td>\n",
       "      <td>60</td>\n",
       "      <td>15.6</td>\n",
       "    </tr>\n",
       "  </tbody>\n",
       "</table>\n",
       "</div>"
      ],
      "text/plain": [
       "                Murder  Assault  UrbanPop  Rape\n",
       "rownames                                       \n",
       "Alabama           13.2      236        58  21.2\n",
       "Alaska            10.0      263        48  44.5\n",
       "Arizona            8.1      294        80  31.0\n",
       "Arkansas           8.8      190        50  19.5\n",
       "California         9.0      276        91  40.6\n",
       "Colorado           7.9      204        78  38.7\n",
       "Connecticut        3.3      110        77  11.1\n",
       "Delaware           5.9      238        72  15.8\n",
       "Florida           15.4      335        80  31.9\n",
       "Georgia           17.4      211        60  25.8\n",
       "Hawaii             5.3       46        83  20.2\n",
       "Idaho              2.6      120        54  14.2\n",
       "Illinois          10.4      249        83  24.0\n",
       "Indiana            7.2      113        65  21.0\n",
       "Iowa               2.2       56        57  11.3\n",
       "Kansas             6.0      115        66  18.0\n",
       "Kentucky           9.7      109        52  16.3\n",
       "Louisiana         15.4      249        66  22.2\n",
       "Maine              2.1       83        51   7.8\n",
       "Maryland          11.3      300        67  27.8\n",
       "Massachusetts      4.4      149        85  16.3\n",
       "Michigan          12.1      255        74  35.1\n",
       "Minnesota          2.7       72        66  14.9\n",
       "Mississippi       16.1      259        44  17.1\n",
       "Missouri           9.0      178        70  28.2\n",
       "Montana            6.0      109        53  16.4\n",
       "Nebraska           4.3      102        62  16.5\n",
       "Nevada            12.2      252        81  46.0\n",
       "New Hampshire      2.1       57        56   9.5\n",
       "New Jersey         7.4      159        89  18.8\n",
       "New Mexico        11.4      285        70  32.1\n",
       "New York          11.1      254        86  26.1\n",
       "North Carolina    13.0      337        45  16.1\n",
       "North Dakota       0.8       45        44   7.3\n",
       "Ohio               7.3      120        75  21.4\n",
       "Oklahoma           6.6      151        68  20.0\n",
       "Oregon             4.9      159        67  29.3\n",
       "Pennsylvania       6.3      106        72  14.9\n",
       "Rhode Island       3.4      174        87   8.3\n",
       "South Carolina    14.4      279        48  22.5\n",
       "South Dakota       3.8       86        45  12.8\n",
       "Tennessee         13.2      188        59  26.9\n",
       "Texas             12.7      201        80  25.5\n",
       "Utah               3.2      120        80  22.9\n",
       "Vermont            2.2       48        32  11.2\n",
       "Virginia           8.5      156        63  20.7\n",
       "Washington         4.0      145        73  26.2\n",
       "West Virginia      5.7       81        39   9.3\n",
       "Wisconsin          2.6       53        66  10.8\n",
       "Wyoming            6.8      161        60  15.6"
      ]
     },
     "execution_count": 812,
     "metadata": {},
     "output_type": "execute_result"
    }
   ],
   "source": [
    "USArrests = get_rdataset('USArrests').data\n",
    "USArrests"
   ]
  },
  {
   "cell_type": "code",
   "execution_count": 813,
   "metadata": {},
   "outputs": [],
   "source": [
    "scaler = StandardScaler(with_std=True,\n",
    "                        with_mean=True)\n",
    "USArrests_scaled = scaler.fit_transform(USArrests)"
   ]
  },
  {
   "cell_type": "code",
   "execution_count": 814,
   "metadata": {},
   "outputs": [
    {
     "data": {
      "text/plain": [
       "(50, 4)"
      ]
     },
     "execution_count": 814,
     "metadata": {},
     "output_type": "execute_result"
    }
   ],
   "source": [
    "USArrests_scaled.shape"
   ]
  },
  {
   "cell_type": "code",
   "execution_count": 815,
   "metadata": {},
   "outputs": [],
   "source": [
    "from sklearn.metrics import pairwise_distances\n",
    "\n",
    "pairwise_d = pairwise_distances(USArrests_scaled.T)"
   ]
  },
  {
   "cell_type": "code",
   "execution_count": 816,
   "metadata": {},
   "outputs": [],
   "source": [
    "corr_d = np.corrcoef(USArrests_scaled, rowvar=False)\n",
    "pairwise_d_sq = pairwise_d**2\n",
    "proportionality = (1-corr_d) / ((pairwise_d)**2+0.001)"
   ]
  },
  {
   "cell_type": "code",
   "execution_count": 817,
   "metadata": {},
   "outputs": [
    {
     "data": {
      "text/plain": [
       "array([[1.        , 0.80187331, 0.06957262, 0.56357883],\n",
       "       [0.80187331, 1.        , 0.2588717 , 0.66524123],\n",
       "       [0.06957262, 0.2588717 , 1.        , 0.41134124],\n",
       "       [0.56357883, 0.66524123, 0.41134124, 1.        ]])"
      ]
     },
     "execution_count": 817,
     "metadata": {},
     "output_type": "execute_result"
    }
   ],
   "source": [
    "corr_d"
   ]
  },
  {
   "cell_type": "code",
   "execution_count": 818,
   "metadata": {},
   "outputs": [
    {
     "data": {
      "text/plain": [
       "array([[0.        , 4.45114242, 9.64586636, 6.60621803],\n",
       "       [4.45114242, 0.        , 8.60888087, 5.78583417],\n",
       "       [9.64586636, 8.60888087, 0.        , 7.67241008],\n",
       "       [6.60621803, 5.78583417, 7.67241008, 0.        ]])"
      ]
     },
     "execution_count": 818,
     "metadata": {},
     "output_type": "execute_result"
    }
   ],
   "source": [
    "pairwise_d"
   ]
  },
  {
   "cell_type": "code",
   "execution_count": 819,
   "metadata": {},
   "outputs": [
    {
     "data": {
      "text/html": [
       "<div>\n",
       "<style scoped>\n",
       "    .dataframe tbody tr th:only-of-type {\n",
       "        vertical-align: middle;\n",
       "    }\n",
       "\n",
       "    .dataframe tbody tr th {\n",
       "        vertical-align: top;\n",
       "    }\n",
       "\n",
       "    .dataframe thead th {\n",
       "        text-align: right;\n",
       "    }\n",
       "</style>\n",
       "<table border=\"1\" class=\"dataframe\">\n",
       "  <thead>\n",
       "    <tr style=\"text-align: right;\">\n",
       "      <th></th>\n",
       "      <th>0</th>\n",
       "      <th>1</th>\n",
       "      <th>2</th>\n",
       "      <th>3</th>\n",
       "    </tr>\n",
       "  </thead>\n",
       "  <tbody>\n",
       "    <tr>\n",
       "      <th>0</th>\n",
       "      <td>2.220446e-13</td>\n",
       "      <td>0.009999</td>\n",
       "      <td>9.999893e-03</td>\n",
       "      <td>0.01</td>\n",
       "    </tr>\n",
       "    <tr>\n",
       "      <th>1</th>\n",
       "      <td>9.999495e-03</td>\n",
       "      <td>0.000000</td>\n",
       "      <td>9.999865e-03</td>\n",
       "      <td>0.01</td>\n",
       "    </tr>\n",
       "    <tr>\n",
       "      <th>2</th>\n",
       "      <td>9.999893e-03</td>\n",
       "      <td>0.010000</td>\n",
       "      <td>2.220446e-13</td>\n",
       "      <td>0.01</td>\n",
       "    </tr>\n",
       "    <tr>\n",
       "      <th>3</th>\n",
       "      <td>9.999771e-03</td>\n",
       "      <td>0.010000</td>\n",
       "      <td>9.999830e-03</td>\n",
       "      <td>0.00</td>\n",
       "    </tr>\n",
       "  </tbody>\n",
       "</table>\n",
       "</div>"
      ],
      "text/plain": [
       "              0         1             2     3\n",
       "0  2.220446e-13  0.009999  9.999893e-03  0.01\n",
       "1  9.999495e-03  0.000000  9.999865e-03  0.01\n",
       "2  9.999893e-03  0.010000  2.220446e-13  0.01\n",
       "3  9.999771e-03  0.010000  9.999830e-03  0.00"
      ]
     },
     "execution_count": 819,
     "metadata": {},
     "output_type": "execute_result"
    }
   ],
   "source": [
    "pd.DataFrame(proportionality)"
   ]
  },
  {
   "cell_type": "code",
   "execution_count": 820,
   "metadata": {},
   "outputs": [
    {
     "data": {
      "text/html": [
       "<div>\n",
       "<style scoped>\n",
       "    .dataframe tbody tr th:only-of-type {\n",
       "        vertical-align: middle;\n",
       "    }\n",
       "\n",
       "    .dataframe tbody tr th {\n",
       "        vertical-align: top;\n",
       "    }\n",
       "\n",
       "    .dataframe thead th {\n",
       "        text-align: right;\n",
       "    }\n",
       "</style>\n",
       "<table border=\"1\" class=\"dataframe\">\n",
       "  <thead>\n",
       "    <tr style=\"text-align: right;\">\n",
       "      <th></th>\n",
       "      <th>0</th>\n",
       "      <th>1</th>\n",
       "      <th>2</th>\n",
       "      <th>3</th>\n",
       "    </tr>\n",
       "  </thead>\n",
       "  <tbody>\n",
       "    <tr>\n",
       "      <th>0</th>\n",
       "      <td>2.220446e-16</td>\n",
       "      <td>0.198127</td>\n",
       "      <td>9.304274e-01</td>\n",
       "      <td>0.436421</td>\n",
       "    </tr>\n",
       "    <tr>\n",
       "      <th>1</th>\n",
       "      <td>1.981267e-01</td>\n",
       "      <td>0.000000</td>\n",
       "      <td>7.411283e-01</td>\n",
       "      <td>0.334759</td>\n",
       "    </tr>\n",
       "    <tr>\n",
       "      <th>2</th>\n",
       "      <td>9.304274e-01</td>\n",
       "      <td>0.741128</td>\n",
       "      <td>2.220446e-16</td>\n",
       "      <td>0.588659</td>\n",
       "    </tr>\n",
       "    <tr>\n",
       "      <th>3</th>\n",
       "      <td>4.364212e-01</td>\n",
       "      <td>0.334759</td>\n",
       "      <td>5.886588e-01</td>\n",
       "      <td>0.000000</td>\n",
       "    </tr>\n",
       "  </tbody>\n",
       "</table>\n",
       "</div>"
      ],
      "text/plain": [
       "              0         1             2         3\n",
       "0  2.220446e-16  0.198127  9.304274e-01  0.436421\n",
       "1  1.981267e-01  0.000000  7.411283e-01  0.334759\n",
       "2  9.304274e-01  0.741128  2.220446e-16  0.588659\n",
       "3  4.364212e-01  0.334759  5.886588e-01  0.000000"
      ]
     },
     "execution_count": 820,
     "metadata": {},
     "output_type": "execute_result"
    }
   ],
   "source": [
    "pd.DataFrame((1-corr_d))"
   ]
  },
  {
   "cell_type": "code",
   "execution_count": 821,
   "metadata": {},
   "outputs": [
    {
     "data": {
      "text/html": [
       "<div>\n",
       "<style scoped>\n",
       "    .dataframe tbody tr th:only-of-type {\n",
       "        vertical-align: middle;\n",
       "    }\n",
       "\n",
       "    .dataframe tbody tr th {\n",
       "        vertical-align: top;\n",
       "    }\n",
       "\n",
       "    .dataframe thead th {\n",
       "        text-align: right;\n",
       "    }\n",
       "</style>\n",
       "<table border=\"1\" class=\"dataframe\">\n",
       "  <thead>\n",
       "    <tr style=\"text-align: right;\">\n",
       "      <th></th>\n",
       "      <th>0</th>\n",
       "      <th>1</th>\n",
       "      <th>2</th>\n",
       "      <th>3</th>\n",
       "    </tr>\n",
       "  </thead>\n",
       "  <tbody>\n",
       "    <tr>\n",
       "      <th>0</th>\n",
       "      <td>0.000000</td>\n",
       "      <td>19.812669</td>\n",
       "      <td>93.042738</td>\n",
       "      <td>43.642117</td>\n",
       "    </tr>\n",
       "    <tr>\n",
       "      <th>1</th>\n",
       "      <td>19.812669</td>\n",
       "      <td>0.000000</td>\n",
       "      <td>74.112830</td>\n",
       "      <td>33.475877</td>\n",
       "    </tr>\n",
       "    <tr>\n",
       "      <th>2</th>\n",
       "      <td>93.042738</td>\n",
       "      <td>74.112830</td>\n",
       "      <td>0.000000</td>\n",
       "      <td>58.865876</td>\n",
       "    </tr>\n",
       "    <tr>\n",
       "      <th>3</th>\n",
       "      <td>43.642117</td>\n",
       "      <td>33.475877</td>\n",
       "      <td>58.865876</td>\n",
       "      <td>0.000000</td>\n",
       "    </tr>\n",
       "  </tbody>\n",
       "</table>\n",
       "</div>"
      ],
      "text/plain": [
       "           0          1          2          3\n",
       "0   0.000000  19.812669  93.042738  43.642117\n",
       "1  19.812669   0.000000  74.112830  33.475877\n",
       "2  93.042738  74.112830   0.000000  58.865876\n",
       "3  43.642117  33.475877  58.865876   0.000000"
      ]
     },
     "execution_count": 821,
     "metadata": {},
     "output_type": "execute_result"
    }
   ],
   "source": [
    "pd.DataFrame((pairwise_d**2))"
   ]
  },
  {
   "cell_type": "code",
   "execution_count": 822,
   "metadata": {},
   "outputs": [
    {
     "name": "stderr",
     "output_type": "stream",
     "text": [
      "/var/folders/0x/ssh0vq194tdf2r_zhp6kqr0r0000gn/T/ipykernel_18752/2998869761.py:1: RuntimeWarning:\n",
      "\n",
      "invalid value encountered in divide\n",
      "\n"
     ]
    },
    {
     "data": {
      "text/html": [
       "<div>\n",
       "<style scoped>\n",
       "    .dataframe tbody tr th:only-of-type {\n",
       "        vertical-align: middle;\n",
       "    }\n",
       "\n",
       "    .dataframe tbody tr th {\n",
       "        vertical-align: top;\n",
       "    }\n",
       "\n",
       "    .dataframe thead th {\n",
       "        text-align: right;\n",
       "    }\n",
       "</style>\n",
       "<table border=\"1\" class=\"dataframe\">\n",
       "  <thead>\n",
       "    <tr style=\"text-align: right;\">\n",
       "      <th></th>\n",
       "      <th>0</th>\n",
       "      <th>1</th>\n",
       "      <th>2</th>\n",
       "      <th>3</th>\n",
       "    </tr>\n",
       "  </thead>\n",
       "  <tbody>\n",
       "    <tr>\n",
       "      <th>0</th>\n",
       "      <td>0.0</td>\n",
       "      <td>100.0</td>\n",
       "      <td>100.0</td>\n",
       "      <td>100.0</td>\n",
       "    </tr>\n",
       "    <tr>\n",
       "      <th>1</th>\n",
       "      <td>100.0</td>\n",
       "      <td>NaN</td>\n",
       "      <td>100.0</td>\n",
       "      <td>100.0</td>\n",
       "    </tr>\n",
       "    <tr>\n",
       "      <th>2</th>\n",
       "      <td>100.0</td>\n",
       "      <td>100.0</td>\n",
       "      <td>0.0</td>\n",
       "      <td>100.0</td>\n",
       "    </tr>\n",
       "    <tr>\n",
       "      <th>3</th>\n",
       "      <td>100.0</td>\n",
       "      <td>100.0</td>\n",
       "      <td>100.0</td>\n",
       "      <td>NaN</td>\n",
       "    </tr>\n",
       "  </tbody>\n",
       "</table>\n",
       "</div>"
      ],
      "text/plain": [
       "       0      1      2      3\n",
       "0    0.0  100.0  100.0  100.0\n",
       "1  100.0    NaN  100.0  100.0\n",
       "2  100.0  100.0    0.0  100.0\n",
       "3  100.0  100.0  100.0    NaN"
      ]
     },
     "execution_count": 822,
     "metadata": {},
     "output_type": "execute_result"
    }
   ],
   "source": [
    "pd.DataFrame((pairwise_d**2)/(1-corr_d))"
   ]
  },
  {
   "cell_type": "markdown",
   "metadata": {},
   "source": [
    "# Exercise 8"
   ]
  },
  {
   "cell_type": "code",
   "execution_count": 823,
   "metadata": {},
   "outputs": [],
   "source": [
    "pca = PCA()"
   ]
  },
  {
   "cell_type": "code",
   "execution_count": 824,
   "metadata": {},
   "outputs": [],
   "source": [
    "pca.fit(USArrests_scaled)\n",
    "scores = pca.transform(USArrests_scaled)"
   ]
  },
  {
   "cell_type": "code",
   "execution_count": 825,
   "metadata": {},
   "outputs": [
    {
     "data": {
      "text/plain": [
       "[0.6200603947873733,\n",
       " 0.2474412881349604,\n",
       " 0.08914079514520751,\n",
       " 0.04335752193245878]"
      ]
     },
     "execution_count": 825,
     "metadata": {},
     "output_type": "execute_result"
    }
   ],
   "source": [
    "[x for x in pca.explained_variance_ratio_]"
   ]
  },
  {
   "cell_type": "code",
   "execution_count": 826,
   "metadata": {},
   "outputs": [
    {
     "data": {
      "text/plain": [
       "((50,),\n",
       " array([ 1.51632013,  2.9164354 ,  3.62876599, -0.80336612,  5.42232344,\n",
       "         3.18233366, -2.07032695,  0.24214554,  5.91585316,  2.82305441,\n",
       "        -0.98208715, -3.38223612,  3.07116039, -0.89919857, -4.35416289,\n",
       "        -1.40702542, -1.7819923 ,  2.85027717, -4.84627641,  3.191305  ,\n",
       "        -0.22337182,  4.10719683, -3.0279213 ,  1.04849099,  1.43159142,\n",
       "        -2.55954357, -2.39979559,  5.75808683, -4.62914905,  1.14238625,\n",
       "         3.70579045,  3.72995782,  1.23691494, -6.15081927, -0.05014661,\n",
       "        -0.47623531,  0.15966734, -1.36214676, -0.87548242,  1.75817382,\n",
       "        -4.29511929,  1.61902731,  2.97518235, -0.49033115, -6.20659622,\n",
       "        -0.24841306, -0.13437027, -4.71126081, -3.72359638, -1.34146984]))"
      ]
     },
     "execution_count": 826,
     "metadata": {},
     "output_type": "execute_result"
    }
   ],
   "source": [
    "sum = USArrests_scaled.sum(axis=1)\n",
    "sum.shape, sum"
   ]
  },
  {
   "cell_type": "code",
   "execution_count": 827,
   "metadata": {},
   "outputs": [
    {
     "data": {
      "text/plain": [
       "(50, 4)"
      ]
     },
     "execution_count": 827,
     "metadata": {},
     "output_type": "execute_result"
    }
   ],
   "source": [
    "scores.shape"
   ]
  },
  {
   "cell_type": "code",
   "execution_count": 828,
   "metadata": {},
   "outputs": [
    {
     "data": {
      "text/plain": [
       "array([0.62006039, 0.24744129, 0.0891408 , 0.04335752])"
      ]
     },
     "execution_count": 828,
     "metadata": {},
     "output_type": "execute_result"
    }
   ],
   "source": [
    "pca_nr = 1\n",
    "pve_up = (scores**2).sum(axis=0)\n",
    "pve_down = (USArrests_scaled**2).sum(axis=0).sum()\n",
    "pve_up/pve_down"
   ]
  },
  {
   "cell_type": "code",
   "execution_count": 829,
   "metadata": {},
   "outputs": [
    {
     "data": {
      "text/plain": [
       "array([0.62006039, 0.24744129, 0.0891408 , 0.04335752])"
      ]
     },
     "execution_count": 829,
     "metadata": {},
     "output_type": "execute_result"
    }
   ],
   "source": [
    "pca.explained_variance_ratio_"
   ]
  },
  {
   "cell_type": "markdown",
   "metadata": {},
   "source": [
    "# Exercise 9"
   ]
  },
  {
   "cell_type": "code",
   "execution_count": 830,
   "metadata": {},
   "outputs": [],
   "source": [
    "hclust = AgglomerativeClustering"
   ]
  },
  {
   "cell_type": "code",
   "execution_count": 831,
   "metadata": {},
   "outputs": [
    {
     "data": {
      "text/html": [
       "<style>#sk-container-id-23 {color: black;background-color: white;}#sk-container-id-23 pre{padding: 0;}#sk-container-id-23 div.sk-toggleable {background-color: white;}#sk-container-id-23 label.sk-toggleable__label {cursor: pointer;display: block;width: 100%;margin-bottom: 0;padding: 0.3em;box-sizing: border-box;text-align: center;}#sk-container-id-23 label.sk-toggleable__label-arrow:before {content: \"▸\";float: left;margin-right: 0.25em;color: #696969;}#sk-container-id-23 label.sk-toggleable__label-arrow:hover:before {color: black;}#sk-container-id-23 div.sk-estimator:hover label.sk-toggleable__label-arrow:before {color: black;}#sk-container-id-23 div.sk-toggleable__content {max-height: 0;max-width: 0;overflow: hidden;text-align: left;background-color: #f0f8ff;}#sk-container-id-23 div.sk-toggleable__content pre {margin: 0.2em;color: black;border-radius: 0.25em;background-color: #f0f8ff;}#sk-container-id-23 input.sk-toggleable__control:checked~div.sk-toggleable__content {max-height: 200px;max-width: 100%;overflow: auto;}#sk-container-id-23 input.sk-toggleable__control:checked~label.sk-toggleable__label-arrow:before {content: \"▾\";}#sk-container-id-23 div.sk-estimator input.sk-toggleable__control:checked~label.sk-toggleable__label {background-color: #d4ebff;}#sk-container-id-23 div.sk-label input.sk-toggleable__control:checked~label.sk-toggleable__label {background-color: #d4ebff;}#sk-container-id-23 input.sk-hidden--visually {border: 0;clip: rect(1px 1px 1px 1px);clip: rect(1px, 1px, 1px, 1px);height: 1px;margin: -1px;overflow: hidden;padding: 0;position: absolute;width: 1px;}#sk-container-id-23 div.sk-estimator {font-family: monospace;background-color: #f0f8ff;border: 1px dotted black;border-radius: 0.25em;box-sizing: border-box;margin-bottom: 0.5em;}#sk-container-id-23 div.sk-estimator:hover {background-color: #d4ebff;}#sk-container-id-23 div.sk-parallel-item::after {content: \"\";width: 100%;border-bottom: 1px solid gray;flex-grow: 1;}#sk-container-id-23 div.sk-label:hover label.sk-toggleable__label {background-color: #d4ebff;}#sk-container-id-23 div.sk-serial::before {content: \"\";position: absolute;border-left: 1px solid gray;box-sizing: border-box;top: 0;bottom: 0;left: 50%;z-index: 0;}#sk-container-id-23 div.sk-serial {display: flex;flex-direction: column;align-items: center;background-color: white;padding-right: 0.2em;padding-left: 0.2em;position: relative;}#sk-container-id-23 div.sk-item {position: relative;z-index: 1;}#sk-container-id-23 div.sk-parallel {display: flex;align-items: stretch;justify-content: center;background-color: white;position: relative;}#sk-container-id-23 div.sk-item::before, #sk-container-id-23 div.sk-parallel-item::before {content: \"\";position: absolute;border-left: 1px solid gray;box-sizing: border-box;top: 0;bottom: 0;left: 50%;z-index: -1;}#sk-container-id-23 div.sk-parallel-item {display: flex;flex-direction: column;z-index: 1;position: relative;background-color: white;}#sk-container-id-23 div.sk-parallel-item:first-child::after {align-self: flex-end;width: 50%;}#sk-container-id-23 div.sk-parallel-item:last-child::after {align-self: flex-start;width: 50%;}#sk-container-id-23 div.sk-parallel-item:only-child::after {width: 0;}#sk-container-id-23 div.sk-dashed-wrapped {border: 1px dashed gray;margin: 0 0.4em 0.5em 0.4em;box-sizing: border-box;padding-bottom: 0.4em;background-color: white;}#sk-container-id-23 div.sk-label label {font-family: monospace;font-weight: bold;display: inline-block;line-height: 1.2em;}#sk-container-id-23 div.sk-label-container {text-align: center;}#sk-container-id-23 div.sk-container {/* jupyter's `normalize.less` sets `[hidden] { display: none; }` but bootstrap.min.css set `[hidden] { display: none !important; }` so we also need the `!important` here to be able to override the default hidden behavior on the sphinx rendered scikit-learn.org. See: https://github.com/scikit-learn/scikit-learn/issues/21755 */display: inline-block !important;position: relative;}#sk-container-id-23 div.sk-text-repr-fallback {display: none;}</style><div id=\"sk-container-id-23\" class=\"sk-top-container\"><div class=\"sk-text-repr-fallback\"><pre>AgglomerativeClustering(distance_threshold=0, linkage=&#x27;complete&#x27;,\n",
       "                        n_clusters=None)</pre><b>In a Jupyter environment, please rerun this cell to show the HTML representation or trust the notebook. <br />On GitHub, the HTML representation is unable to render, please try loading this page with nbviewer.org.</b></div><div class=\"sk-container\" hidden><div class=\"sk-item\"><div class=\"sk-estimator sk-toggleable\"><input class=\"sk-toggleable__control sk-hidden--visually\" id=\"sk-estimator-id-23\" type=\"checkbox\" checked><label for=\"sk-estimator-id-23\" class=\"sk-toggleable__label sk-toggleable__label-arrow\">AgglomerativeClustering</label><div class=\"sk-toggleable__content\"><pre>AgglomerativeClustering(distance_threshold=0, linkage=&#x27;complete&#x27;,\n",
       "                        n_clusters=None)</pre></div></div></div></div></div>"
      ],
      "text/plain": [
       "AgglomerativeClustering(distance_threshold=0, linkage='complete',\n",
       "                        n_clusters=None)"
      ]
     },
     "execution_count": 831,
     "metadata": {},
     "output_type": "execute_result"
    }
   ],
   "source": [
    "hc_comp = hclust(distance_threshold=0,\n",
    "                 n_clusters=None,\n",
    "                 linkage='complete')\n",
    "hc_comp.fit(USArrests)"
   ]
  },
  {
   "cell_type": "code",
   "execution_count": 832,
   "metadata": {},
   "outputs": [
    {
     "data": {
      "text/plain": [
       "{'icoord': [[5.0, 5.0, 15.0, 15.0],\n",
       "  [35.0, 35.0, 45.0, 45.0],\n",
       "  [25.0, 25.0, 40.0, 40.0],\n",
       "  [65.0, 65.0, 75.0, 75.0],\n",
       "  [55.0, 55.0, 70.0, 70.0],\n",
       "  [32.5, 32.5, 62.5, 62.5],\n",
       "  [95.0, 95.0, 105.0, 105.0],\n",
       "  [85.0, 85.0, 100.0, 100.0],\n",
       "  [125.0, 125.0, 135.0, 135.0],\n",
       "  [145.0, 145.0, 155.0, 155.0],\n",
       "  [130.0, 130.0, 150.0, 150.0],\n",
       "  [115.0, 115.0, 140.0, 140.0],\n",
       "  [92.5, 92.5, 127.5, 127.5],\n",
       "  [47.5, 47.5, 110.0, 110.0],\n",
       "  [10.0, 10.0, 78.75, 78.75],\n",
       "  [175.0, 175.0, 185.0, 185.0],\n",
       "  [165.0, 165.0, 180.0, 180.0],\n",
       "  [205.0, 205.0, 215.0, 215.0],\n",
       "  [195.0, 195.0, 210.0, 210.0],\n",
       "  [172.5, 172.5, 202.5, 202.5],\n",
       "  [255.0, 255.0, 265.0, 265.0],\n",
       "  [245.0, 245.0, 260.0, 260.0],\n",
       "  [235.0, 235.0, 252.5, 252.5],\n",
       "  [285.0, 285.0, 295.0, 295.0],\n",
       "  [275.0, 275.0, 290.0, 290.0],\n",
       "  [243.75, 243.75, 282.5, 282.5],\n",
       "  [225.0, 225.0, 263.125, 263.125],\n",
       "  [187.5, 187.5, 244.0625, 244.0625],\n",
       "  [305.0, 305.0, 315.0, 315.0],\n",
       "  [325.0, 325.0, 335.0, 335.0],\n",
       "  [310.0, 310.0, 330.0, 330.0],\n",
       "  [355.0, 355.0, 365.0, 365.0],\n",
       "  [345.0, 345.0, 360.0, 360.0],\n",
       "  [385.0, 385.0, 395.0, 395.0],\n",
       "  [375.0, 375.0, 390.0, 390.0],\n",
       "  [352.5, 352.5, 382.5, 382.5],\n",
       "  [320.0, 320.0, 367.5, 367.5],\n",
       "  [435.0, 435.0, 445.0, 445.0],\n",
       "  [425.0, 425.0, 440.0, 440.0],\n",
       "  [415.0, 415.0, 432.5, 432.5],\n",
       "  [405.0, 405.0, 423.75, 423.75],\n",
       "  [465.0, 465.0, 475.0, 475.0],\n",
       "  [455.0, 455.0, 470.0, 470.0],\n",
       "  [485.0, 485.0, 495.0, 495.0],\n",
       "  [462.5, 462.5, 490.0, 490.0],\n",
       "  [414.375, 414.375, 476.25, 476.25],\n",
       "  [343.75, 343.75, 445.3125, 445.3125],\n",
       "  [215.78125, 215.78125, 394.53125, 394.53125],\n",
       "  [44.375, 44.375, 305.15625, 305.15625]],\n",
       " 'dcoord': [[0.0, 38.5279119600323, 38.5279119600323, 0.0],\n",
       "  [0.0, 15.4544491975612, 15.4544491975612, 0.0],\n",
       "  [0.0, 16.976748805351395, 16.976748805351395, 15.4544491975612],\n",
       "  [0.0, 21.167191594540828, 21.167191594540828, 0.0],\n",
       "  [0.0, 28.63511829903973, 28.63511829903973, 21.167191594540828],\n",
       "  [16.976748805351395,\n",
       "   48.72514751132109,\n",
       "   48.72514751132109,\n",
       "   28.63511829903973],\n",
       "  [0.0, 13.896042602122375, 13.896042602122375, 0.0],\n",
       "  [0.0, 15.890248582070704, 15.890248582070704, 13.896042602122375],\n",
       "  [0.0, 6.23698645180507, 6.23698645180507, 0.0],\n",
       "  [0.0, 13.297368160654948, 13.297368160654948, 0.0],\n",
       "  [6.23698645180507, 22.36604569431083, 22.36604569431083, 13.297368160654948],\n",
       "  [0.0, 32.7188019340562, 32.7188019340562, 22.36604569431083],\n",
       "  [15.890248582070704, 53.59337645642417, 53.59337645642417, 32.7188019340562],\n",
       "  [48.72514751132109, 64.99361507102063, 64.99361507102063, 53.59337645642417],\n",
       "  [38.5279119600323,\n",
       "   102.86155744494636,\n",
       "   102.86155744494636,\n",
       "   64.99361507102063],\n",
       "  [0.0, 12.61427762497718, 12.61427762497718, 0.0],\n",
       "  [0.0, 24.894376875109767, 24.894376875109767, 12.61427762497718],\n",
       "  [0.0, 14.501034445859373, 14.501034445859373, 0.0],\n",
       "  [0.0, 25.09302691984369, 25.09302691984369, 14.501034445859373],\n",
       "  [24.894376875109767,\n",
       "   36.734860827285026,\n",
       "   36.734860827285026,\n",
       "   25.09302691984369],\n",
       "  [0.0, 7.355270219373317, 7.355270219373317, 0.0],\n",
       "  [0.0, 12.424974849069113, 12.424974849069113, 7.355270219373317],\n",
       "  [0.0, 15.630099167951558, 15.630099167951558, 12.424974849069113],\n",
       "  [0.0, 11.4564392373896, 11.4564392373896, 0.0],\n",
       "  [0.0, 22.7666422645062, 22.7666422645062, 11.4564392373896],\n",
       "  [15.630099167951558, 29.25064101861701, 29.25064101861701, 22.7666422645062],\n",
       "  [0.0, 36.84793074244468, 36.84793074244468, 29.25064101861701],\n",
       "  [36.734860827285026,\n",
       "   68.76227163205125,\n",
       "   68.76227163205125,\n",
       "   36.84793074244468],\n",
       "  [0.0, 6.637770710110436, 6.637770710110436, 0.0],\n",
       "  [0.0, 8.027452896155792, 8.027452896155792, 0.0],\n",
       "  [6.637770710110436,\n",
       "   18.264993840677857,\n",
       "   18.264993840677857,\n",
       "   8.027452896155792],\n",
       "  [0.0, 3.834057902536162, 3.834057902536162, 0.0],\n",
       "  [0.0, 13.349157276772193, 13.349157276772193, 3.834057902536162],\n",
       "  [0.0, 3.9293765408777004, 3.9293765408777004, 0.0],\n",
       "  [0.0, 15.407790237409127, 15.407790237409127, 3.9293765408777004],\n",
       "  [13.349157276772193,\n",
       "   19.904270898478046,\n",
       "   19.904270898478046,\n",
       "   15.407790237409127],\n",
       "  [18.264993840677857,\n",
       "   31.477134558278966,\n",
       "   31.477134558278966,\n",
       "   19.904270898478046],\n",
       "  [0.0, 2.2912878474779204, 2.2912878474779204, 0.0],\n",
       "  [0.0, 10.860018416190647, 10.860018416190647, 2.2912878474779204],\n",
       "  [0.0, 19.437592443510077, 19.437592443510077, 10.860018416190647],\n",
       "  [0.0, 31.62040480449294, 31.62040480449294, 19.437592443510077],\n",
       "  [0.0, 8.537564055396599, 8.537564055396599, 0.0],\n",
       "  [0.0, 12.7753669223236, 12.7753669223236, 8.537564055396599],\n",
       "  [0.0, 13.044922383824291, 13.044922383824291, 0.0],\n",
       "  [12.7753669223236, 41.48795005781799, 41.48795005781799, 13.044922383824291],\n",
       "  [31.62040480449294, 57.27102234114561, 57.27102234114561, 41.48795005781799],\n",
       "  [31.477134558278966,\n",
       "   87.32634195934237,\n",
       "   87.32634195934237,\n",
       "   57.27102234114561],\n",
       "  [68.76227163205125, 168.6114171697753, 168.6114171697753, 87.32634195934237],\n",
       "  [102.86155744494636,\n",
       "   293.6227511620992,\n",
       "   293.6227511620992,\n",
       "   168.6114171697753]],\n",
       " 'ivl': ['8',\n",
       "  '32',\n",
       "  '7',\n",
       "  '0',\n",
       "  '17',\n",
       "  '1',\n",
       "  '23',\n",
       "  '39',\n",
       "  '19',\n",
       "  '2',\n",
       "  '30',\n",
       "  '4',\n",
       "  '12',\n",
       "  '31',\n",
       "  '21',\n",
       "  '27',\n",
       "  '24',\n",
       "  '3',\n",
       "  '41',\n",
       "  '9',\n",
       "  '5',\n",
       "  '42',\n",
       "  '38',\n",
       "  '49',\n",
       "  '36',\n",
       "  '35',\n",
       "  '45',\n",
       "  '46',\n",
       "  '20',\n",
       "  '29',\n",
       "  '34',\n",
       "  '43',\n",
       "  '6',\n",
       "  '37',\n",
       "  '26',\n",
       "  '16',\n",
       "  '25',\n",
       "  '11',\n",
       "  '13',\n",
       "  '15',\n",
       "  '10',\n",
       "  '22',\n",
       "  '48',\n",
       "  '14',\n",
       "  '28',\n",
       "  '47',\n",
       "  '18',\n",
       "  '40',\n",
       "  '33',\n",
       "  '44'],\n",
       " 'leaves': [8,\n",
       "  32,\n",
       "  7,\n",
       "  0,\n",
       "  17,\n",
       "  1,\n",
       "  23,\n",
       "  39,\n",
       "  19,\n",
       "  2,\n",
       "  30,\n",
       "  4,\n",
       "  12,\n",
       "  31,\n",
       "  21,\n",
       "  27,\n",
       "  24,\n",
       "  3,\n",
       "  41,\n",
       "  9,\n",
       "  5,\n",
       "  42,\n",
       "  38,\n",
       "  49,\n",
       "  36,\n",
       "  35,\n",
       "  45,\n",
       "  46,\n",
       "  20,\n",
       "  29,\n",
       "  34,\n",
       "  43,\n",
       "  6,\n",
       "  37,\n",
       "  26,\n",
       "  16,\n",
       "  25,\n",
       "  11,\n",
       "  13,\n",
       "  15,\n",
       "  10,\n",
       "  22,\n",
       "  48,\n",
       "  14,\n",
       "  28,\n",
       "  47,\n",
       "  18,\n",
       "  40,\n",
       "  33,\n",
       "  44],\n",
       " 'color_list': ['black',\n",
       "  'black',\n",
       "  'black',\n",
       "  'black',\n",
       "  'black',\n",
       "  'black',\n",
       "  'black',\n",
       "  'black',\n",
       "  'black',\n",
       "  'black',\n",
       "  'black',\n",
       "  'black',\n",
       "  'black',\n",
       "  'black',\n",
       "  'black',\n",
       "  'black',\n",
       "  'black',\n",
       "  'black',\n",
       "  'black',\n",
       "  'black',\n",
       "  'black',\n",
       "  'black',\n",
       "  'black',\n",
       "  'black',\n",
       "  'black',\n",
       "  'black',\n",
       "  'black',\n",
       "  'black',\n",
       "  'black',\n",
       "  'black',\n",
       "  'black',\n",
       "  'black',\n",
       "  'black',\n",
       "  'black',\n",
       "  'black',\n",
       "  'black',\n",
       "  'black',\n",
       "  'black',\n",
       "  'black',\n",
       "  'black',\n",
       "  'black',\n",
       "  'black',\n",
       "  'black',\n",
       "  'black',\n",
       "  'black',\n",
       "  'black',\n",
       "  'black',\n",
       "  'black',\n",
       "  'black'],\n",
       " 'leaves_color_list': ['black',\n",
       "  'black',\n",
       "  'black',\n",
       "  'black',\n",
       "  'black',\n",
       "  'black',\n",
       "  'black',\n",
       "  'black',\n",
       "  'black',\n",
       "  'black',\n",
       "  'black',\n",
       "  'black',\n",
       "  'black',\n",
       "  'black',\n",
       "  'black',\n",
       "  'black',\n",
       "  'black',\n",
       "  'black',\n",
       "  'black',\n",
       "  'black',\n",
       "  'black',\n",
       "  'black',\n",
       "  'black',\n",
       "  'black',\n",
       "  'black',\n",
       "  'black',\n",
       "  'black',\n",
       "  'black',\n",
       "  'black',\n",
       "  'black',\n",
       "  'black',\n",
       "  'black',\n",
       "  'black',\n",
       "  'black',\n",
       "  'black',\n",
       "  'black',\n",
       "  'black',\n",
       "  'black',\n",
       "  'black',\n",
       "  'black',\n",
       "  'black',\n",
       "  'black',\n",
       "  'black',\n",
       "  'black',\n",
       "  'black',\n",
       "  'black',\n",
       "  'black',\n",
       "  'black',\n",
       "  'black',\n",
       "  'black']}"
      ]
     },
     "execution_count": 832,
     "metadata": {},
     "output_type": "execute_result"
    },
    {
     "data": {
      "image/png": "[encoded data removed]",
      "text/plain": [
       "<Figure size 800x800 with 1 Axes>"
      ]
     },
     "metadata": {},
     "output_type": "display_data"
    }
   ],
   "source": [
    "cargs = {'color_threshold':-np.inf,\n",
    "         'above_threshold_color':'black'}\n",
    "linkage_comp = compute_linkage(hc_comp)\n",
    "fig, ax = plt.subplots(1, 1, figsize=(8, 8))\n",
    "dendrogram(linkage_comp,\n",
    "           ax=ax,\n",
    "           **cargs)"
   ]
  },
  {
   "cell_type": "code",
   "execution_count": 833,
   "metadata": {},
   "outputs": [
    {
     "data": {
      "image/png": "[encoded data removed]",
      "text/plain": [
       "<Figure size 800x800 with 1 Axes>"
      ]
     },
     "metadata": {},
     "output_type": "display_data"
    }
   ],
   "source": [
    "fig, ax = plt.subplots(1, 1, figsize=(8, 8))\n",
    "ddata1 = dendrogram(linkage_comp,\n",
    "           ax=ax,\n",
    "           color_threshold=120,\n",
    "           above_threshold_color='black',\n",
    "           labels=USArrests.index)"
   ]
  },
  {
   "cell_type": "code",
   "execution_count": 834,
   "metadata": {},
   "outputs": [
    {
     "data": {
      "text/html": [
       "<style>#sk-container-id-24 {color: black;background-color: white;}#sk-container-id-24 pre{padding: 0;}#sk-container-id-24 div.sk-toggleable {background-color: white;}#sk-container-id-24 label.sk-toggleable__label {cursor: pointer;display: block;width: 100%;margin-bottom: 0;padding: 0.3em;box-sizing: border-box;text-align: center;}#sk-container-id-24 label.sk-toggleable__label-arrow:before {content: \"▸\";float: left;margin-right: 0.25em;color: #696969;}#sk-container-id-24 label.sk-toggleable__label-arrow:hover:before {color: black;}#sk-container-id-24 div.sk-estimator:hover label.sk-toggleable__label-arrow:before {color: black;}#sk-container-id-24 div.sk-toggleable__content {max-height: 0;max-width: 0;overflow: hidden;text-align: left;background-color: #f0f8ff;}#sk-container-id-24 div.sk-toggleable__content pre {margin: 0.2em;color: black;border-radius: 0.25em;background-color: #f0f8ff;}#sk-container-id-24 input.sk-toggleable__control:checked~div.sk-toggleable__content {max-height: 200px;max-width: 100%;overflow: auto;}#sk-container-id-24 input.sk-toggleable__control:checked~label.sk-toggleable__label-arrow:before {content: \"▾\";}#sk-container-id-24 div.sk-estimator input.sk-toggleable__control:checked~label.sk-toggleable__label {background-color: #d4ebff;}#sk-container-id-24 div.sk-label input.sk-toggleable__control:checked~label.sk-toggleable__label {background-color: #d4ebff;}#sk-container-id-24 input.sk-hidden--visually {border: 0;clip: rect(1px 1px 1px 1px);clip: rect(1px, 1px, 1px, 1px);height: 1px;margin: -1px;overflow: hidden;padding: 0;position: absolute;width: 1px;}#sk-container-id-24 div.sk-estimator {font-family: monospace;background-color: #f0f8ff;border: 1px dotted black;border-radius: 0.25em;box-sizing: border-box;margin-bottom: 0.5em;}#sk-container-id-24 div.sk-estimator:hover {background-color: #d4ebff;}#sk-container-id-24 div.sk-parallel-item::after {content: \"\";width: 100%;border-bottom: 1px solid gray;flex-grow: 1;}#sk-container-id-24 div.sk-label:hover label.sk-toggleable__label {background-color: #d4ebff;}#sk-container-id-24 div.sk-serial::before {content: \"\";position: absolute;border-left: 1px solid gray;box-sizing: border-box;top: 0;bottom: 0;left: 50%;z-index: 0;}#sk-container-id-24 div.sk-serial {display: flex;flex-direction: column;align-items: center;background-color: white;padding-right: 0.2em;padding-left: 0.2em;position: relative;}#sk-container-id-24 div.sk-item {position: relative;z-index: 1;}#sk-container-id-24 div.sk-parallel {display: flex;align-items: stretch;justify-content: center;background-color: white;position: relative;}#sk-container-id-24 div.sk-item::before, #sk-container-id-24 div.sk-parallel-item::before {content: \"\";position: absolute;border-left: 1px solid gray;box-sizing: border-box;top: 0;bottom: 0;left: 50%;z-index: -1;}#sk-container-id-24 div.sk-parallel-item {display: flex;flex-direction: column;z-index: 1;position: relative;background-color: white;}#sk-container-id-24 div.sk-parallel-item:first-child::after {align-self: flex-end;width: 50%;}#sk-container-id-24 div.sk-parallel-item:last-child::after {align-self: flex-start;width: 50%;}#sk-container-id-24 div.sk-parallel-item:only-child::after {width: 0;}#sk-container-id-24 div.sk-dashed-wrapped {border: 1px dashed gray;margin: 0 0.4em 0.5em 0.4em;box-sizing: border-box;padding-bottom: 0.4em;background-color: white;}#sk-container-id-24 div.sk-label label {font-family: monospace;font-weight: bold;display: inline-block;line-height: 1.2em;}#sk-container-id-24 div.sk-label-container {text-align: center;}#sk-container-id-24 div.sk-container {/* jupyter's `normalize.less` sets `[hidden] { display: none; }` but bootstrap.min.css set `[hidden] { display: none !important; }` so we also need the `!important` here to be able to override the default hidden behavior on the sphinx rendered scikit-learn.org. See: https://github.com/scikit-learn/scikit-learn/issues/21755 */display: inline-block !important;position: relative;}#sk-container-id-24 div.sk-text-repr-fallback {display: none;}</style><div id=\"sk-container-id-24\" class=\"sk-top-container\"><div class=\"sk-text-repr-fallback\"><pre>AgglomerativeClustering(distance_threshold=0, linkage=&#x27;complete&#x27;,\n",
       "                        n_clusters=None)</pre><b>In a Jupyter environment, please rerun this cell to show the HTML representation or trust the notebook. <br />On GitHub, the HTML representation is unable to render, please try loading this page with nbviewer.org.</b></div><div class=\"sk-container\" hidden><div class=\"sk-item\"><div class=\"sk-estimator sk-toggleable\"><input class=\"sk-toggleable__control sk-hidden--visually\" id=\"sk-estimator-id-24\" type=\"checkbox\" checked><label for=\"sk-estimator-id-24\" class=\"sk-toggleable__label sk-toggleable__label-arrow\">AgglomerativeClustering</label><div class=\"sk-toggleable__content\"><pre>AgglomerativeClustering(distance_threshold=0, linkage=&#x27;complete&#x27;,\n",
       "                        n_clusters=None)</pre></div></div></div></div></div>"
      ],
      "text/plain": [
       "AgglomerativeClustering(distance_threshold=0, linkage='complete',\n",
       "                        n_clusters=None)"
      ]
     },
     "execution_count": 834,
     "metadata": {},
     "output_type": "execute_result"
    }
   ],
   "source": [
    "hc_comp_scaled = hclust(distance_threshold=0,\n",
    "                 n_clusters=None,\n",
    "                 linkage='complete')\n",
    "hc_comp_scaled.fit(USArrests_scaled)"
   ]
  },
  {
   "cell_type": "code",
   "execution_count": 835,
   "metadata": {},
   "outputs": [
    {
     "data": {
      "image/png": "[encoded data removed]",
      "text/plain": [
       "<Figure size 800x800 with 1 Axes>"
      ]
     },
     "metadata": {},
     "output_type": "display_data"
    }
   ],
   "source": [
    "linkage_comp = compute_linkage(hc_comp_scaled)\n",
    "fig, ax = plt.subplots(1, 1, figsize=(8, 8))\n",
    "ddata = dendrogram(linkage_comp,\n",
    "           ax=ax,\n",
    "           color_threshold=4.45,\n",
    "           above_threshold_color='black',\n",
    "           labels=USArrests.index)"
   ]
  },
  {
   "cell_type": "code",
   "execution_count": 836,
   "metadata": {},
   "outputs": [
    {
     "data": {
      "text/plain": [
       "array(['C1', 'C1', 'C1', 'C1', 'C1', 'C1', 'C1', 'C1', 'C1', 'C1', 'C1',\n",
       "       'C1', 'C1', 'C1', 'C1', 'C1', 'C1', 'C1', 'C1', 'C1', 'C1', 'C1',\n",
       "       'C1', 'C1', 'C1', 'C1', 'C1', 'C1', 'C1', 'C1', 'C1', 'C2', 'C2',\n",
       "       'C2', 'C2', 'C2', 'C2', 'C2', 'C2', 'C2', 'C2', 'C2', 'C3', 'C3',\n",
       "       'C3', 'C3', 'C3', 'C3', 'C3', 'C3'], dtype='<U2')"
      ]
     },
     "execution_count": 836,
     "metadata": {},
     "output_type": "execute_result"
    }
   ],
   "source": [
    "import json\n",
    "values = ddata.items()\n",
    "\n",
    "# for what in values:\n",
    "#     print(what)\n",
    "\n",
    "len(values.mapping['leaves_color_list'])\n",
    "list_st = np.array(values.mapping['leaves_color_list'], dtype=str)\n",
    "list_st"
   ]
  },
  {
   "cell_type": "code",
   "execution_count": 837,
   "metadata": {},
   "outputs": [
    {
     "data": {
      "application/vnd.plotly.v1+json": {
       "config": {
        "plotlyServerURL": "https://plot.ly"
       },
       "data": [
        {
         "colorscale": [
          [
           0,
           "orange"
          ],
          [
           1,
           "orange"
          ]
         ],
         "geo": "geo",
         "hovertemplate": "cluster=C1<br>state_abbrev=%{location}<extra></extra>",
         "locationmode": "USA-states",
         "locations": [
          "SD",
          "WV",
          "ND",
          "VT",
          "ME",
          "IA",
          "NH",
          "ID",
          "MT",
          "NE",
          "KY",
          "AR",
          "VA",
          "WY",
          "MO",
          "OR",
          "WA",
          "DE",
          "RI",
          "MA",
          "NJ",
          "CT",
          "MN",
          "WI",
          "OK",
          "IN",
          "KS",
          "OH",
          "PA",
          "HI",
          "UT"
         ],
         "name": "C1",
         "showlegend": true,
         "showscale": false,
         "type": "choropleth",
         "z": [
          1,
          1,
          1,
          1,
          1,
          1,
          1,
          1,
          1,
          1,
          1,
          1,
          1,
          1,
          1,
          1,
          1,
          1,
          1,
          1,
          1,
          1,
          1,
          1,
          1,
          1,
          1,
          1,
          1,
          1,
          1
         ]
        },
        {
         "colorscale": [
          [
           0,
           "green"
          ],
          [
           1,
           "green"
          ]
         ],
         "geo": "geo",
         "hovertemplate": "cluster=C2<br>state_abbrev=%{location}<extra></extra>",
         "locationmode": "USA-states",
         "locations": [
          "CO",
          "CA",
          "NV",
          "FL",
          "TX",
          "IL",
          "NY",
          "AZ",
          "MI",
          "MD",
          "NM"
         ],
         "name": "C2",
         "showlegend": true,
         "showscale": false,
         "type": "choropleth",
         "z": [
          1,
          1,
          1,
          1,
          1,
          1,
          1,
          1,
          1,
          1,
          1
         ]
        },
        {
         "colorscale": [
          [
           0,
           "red"
          ],
          [
           1,
           "red"
          ]
         ],
         "geo": "geo",
         "hovertemplate": "cluster=C3<br>state_abbrev=%{location}<extra></extra>",
         "locationmode": "USA-states",
         "locations": [
          "AK",
          "AL",
          "LA",
          "GA",
          "TN",
          "NC",
          "MS",
          "SC"
         ],
         "name": "C3",
         "showlegend": true,
         "showscale": false,
         "type": "choropleth",
         "z": [
          1,
          1,
          1,
          1,
          1,
          1,
          1,
          1
         ]
        }
       ],
       "layout": {
        "geo": {
         "center": {},
         "domain": {
          "x": [
           0,
           1
          ],
          "y": [
           0,
           1
          ]
         },
         "lakecolor": "rgb(255, 255, 255)",
         "scope": "usa"
        },
        "legend": {
         "title": {
          "text": "cluster"
         },
         "tracegroupgap": 0
        },
        "template": {
         "data": {
          "bar": [
           {
            "error_x": {
             "color": "#2a3f5f"
            },
            "error_y": {
             "color": "#2a3f5f"
            },
            "marker": {
             "line": {
              "color": "#E5ECF6",
              "width": 0.5
             },
             "pattern": {
              "fillmode": "overlay",
              "size": 10,
              "solidity": 0.2
             }
            },
            "type": "bar"
           }
          ],
          "barpolar": [
           {
            "marker": {
             "line": {
              "color": "#E5ECF6",
              "width": 0.5
             },
             "pattern": {
              "fillmode": "overlay",
              "size": 10,
              "solidity": 0.2
             }
            },
            "type": "barpolar"
           }
          ],
          "carpet": [
           {
            "aaxis": {
             "endlinecolor": "#2a3f5f",
             "gridcolor": "white",
             "linecolor": "white",
             "minorgridcolor": "white",
             "startlinecolor": "#2a3f5f"
            },
            "baxis": {
             "endlinecolor": "#2a3f5f",
             "gridcolor": "white",
             "linecolor": "white",
             "minorgridcolor": "white",
             "startlinecolor": "#2a3f5f"
            },
            "type": "carpet"
           }
          ],
          "choropleth": [
           {
            "colorbar": {
             "outlinewidth": 0,
             "ticks": ""
            },
            "type": "choropleth"
           }
          ],
          "contour": [
           {
            "colorbar": {
             "outlinewidth": 0,
             "ticks": ""
            },
            "colorscale": [
             [
              0,
              "#0d0887"
             ],
             [
              0.1111111111111111,
              "#46039f"
             ],
             [
              0.2222222222222222,
              "#7201a8"
             ],
             [
              0.3333333333333333,
              "#9c179e"
             ],
             [
              0.4444444444444444,
              "#bd3786"
             ],
             [
              0.5555555555555556,
              "#d8576b"
             ],
             [
              0.6666666666666666,
              "#ed7953"
             ],
             [
              0.7777777777777778,
              "#fb9f3a"
             ],
             [
              0.8888888888888888,
              "#fdca26"
             ],
             [
              1,
              "#f0f921"
             ]
            ],
            "type": "contour"
           }
          ],
          "contourcarpet": [
           {
            "colorbar": {
             "outlinewidth": 0,
             "ticks": ""
            },
            "type": "contourcarpet"
           }
          ],
          "heatmap": [
           {
            "colorbar": {
             "outlinewidth": 0,
             "ticks": ""
            },
            "colorscale": [
             [
              0,
              "#0d0887"
             ],
             [
              0.1111111111111111,
              "#46039f"
             ],
             [
              0.2222222222222222,
              "#7201a8"
             ],
             [
              0.3333333333333333,
              "#9c179e"
             ],
             [
              0.4444444444444444,
              "#bd3786"
             ],
             [
              0.5555555555555556,
              "#d8576b"
             ],
             [
              0.6666666666666666,
              "#ed7953"
             ],
             [
              0.7777777777777778,
              "#fb9f3a"
             ],
             [
              0.8888888888888888,
              "#fdca26"
             ],
             [
              1,
              "#f0f921"
             ]
            ],
            "type": "heatmap"
           }
          ],
          "heatmapgl": [
           {
            "colorbar": {
             "outlinewidth": 0,
             "ticks": ""
            },
            "colorscale": [
             [
              0,
              "#0d0887"
             ],
             [
              0.1111111111111111,
              "#46039f"
             ],
             [
              0.2222222222222222,
              "#7201a8"
             ],
             [
              0.3333333333333333,
              "#9c179e"
             ],
             [
              0.4444444444444444,
              "#bd3786"
             ],
             [
              0.5555555555555556,
              "#d8576b"
             ],
             [
              0.6666666666666666,
              "#ed7953"
             ],
             [
              0.7777777777777778,
              "#fb9f3a"
             ],
             [
              0.8888888888888888,
              "#fdca26"
             ],
             [
              1,
              "#f0f921"
             ]
            ],
            "type": "heatmapgl"
           }
          ],
          "histogram": [
           {
            "marker": {
             "pattern": {
              "fillmode": "overlay",
              "size": 10,
              "solidity": 0.2
             }
            },
            "type": "histogram"
           }
          ],
          "histogram2d": [
           {
            "colorbar": {
             "outlinewidth": 0,
             "ticks": ""
            },
            "colorscale": [
             [
              0,
              "#0d0887"
             ],
             [
              0.1111111111111111,
              "#46039f"
             ],
             [
              0.2222222222222222,
              "#7201a8"
             ],
             [
              0.3333333333333333,
              "#9c179e"
             ],
             [
              0.4444444444444444,
              "#bd3786"
             ],
             [
              0.5555555555555556,
              "#d8576b"
             ],
             [
              0.6666666666666666,
              "#ed7953"
             ],
             [
              0.7777777777777778,
              "#fb9f3a"
             ],
             [
              0.8888888888888888,
              "#fdca26"
             ],
             [
              1,
              "#f0f921"
             ]
            ],
            "type": "histogram2d"
           }
          ],
          "histogram2dcontour": [
           {
            "colorbar": {
             "outlinewidth": 0,
             "ticks": ""
            },
            "colorscale": [
             [
              0,
              "#0d0887"
             ],
             [
              0.1111111111111111,
              "#46039f"
             ],
             [
              0.2222222222222222,
              "#7201a8"
             ],
             [
              0.3333333333333333,
              "#9c179e"
             ],
             [
              0.4444444444444444,
              "#bd3786"
             ],
             [
              0.5555555555555556,
              "#d8576b"
             ],
             [
              0.6666666666666666,
              "#ed7953"
             ],
             [
              0.7777777777777778,
              "#fb9f3a"
             ],
             [
              0.8888888888888888,
              "#fdca26"
             ],
             [
              1,
              "#f0f921"
             ]
            ],
            "type": "histogram2dcontour"
           }
          ],
          "mesh3d": [
           {
            "colorbar": {
             "outlinewidth": 0,
             "ticks": ""
            },
            "type": "mesh3d"
           }
          ],
          "parcoords": [
           {
            "line": {
             "colorbar": {
              "outlinewidth": 0,
              "ticks": ""
             }
            },
            "type": "parcoords"
           }
          ],
          "pie": [
           {
            "automargin": true,
            "type": "pie"
           }
          ],
          "scatter": [
           {
            "fillpattern": {
             "fillmode": "overlay",
             "size": 10,
             "solidity": 0.2
            },
            "type": "scatter"
           }
          ],
          "scatter3d": [
           {
            "line": {
             "colorbar": {
              "outlinewidth": 0,
              "ticks": ""
             }
            },
            "marker": {
             "colorbar": {
              "outlinewidth": 0,
              "ticks": ""
             }
            },
            "type": "scatter3d"
           }
          ],
          "scattercarpet": [
           {
            "marker": {
             "colorbar": {
              "outlinewidth": 0,
              "ticks": ""
             }
            },
            "type": "scattercarpet"
           }
          ],
          "scattergeo": [
           {
            "marker": {
             "colorbar": {
              "outlinewidth": 0,
              "ticks": ""
             }
            },
            "type": "scattergeo"
           }
          ],
          "scattergl": [
           {
            "marker": {
             "colorbar": {
              "outlinewidth": 0,
              "ticks": ""
             }
            },
            "type": "scattergl"
           }
          ],
          "scattermapbox": [
           {
            "marker": {
             "colorbar": {
              "outlinewidth": 0,
              "ticks": ""
             }
            },
            "type": "scattermapbox"
           }
          ],
          "scatterpolar": [
           {
            "marker": {
             "colorbar": {
              "outlinewidth": 0,
              "ticks": ""
             }
            },
            "type": "scatterpolar"
           }
          ],
          "scatterpolargl": [
           {
            "marker": {
             "colorbar": {
              "outlinewidth": 0,
              "ticks": ""
             }
            },
            "type": "scatterpolargl"
           }
          ],
          "scatterternary": [
           {
            "marker": {
             "colorbar": {
              "outlinewidth": 0,
              "ticks": ""
             }
            },
            "type": "scatterternary"
           }
          ],
          "surface": [
           {
            "colorbar": {
             "outlinewidth": 0,
             "ticks": ""
            },
            "colorscale": [
             [
              0,
              "#0d0887"
             ],
             [
              0.1111111111111111,
              "#46039f"
             ],
             [
              0.2222222222222222,
              "#7201a8"
             ],
             [
              0.3333333333333333,
              "#9c179e"
             ],
             [
              0.4444444444444444,
              "#bd3786"
             ],
             [
              0.5555555555555556,
              "#d8576b"
             ],
             [
              0.6666666666666666,
              "#ed7953"
             ],
             [
              0.7777777777777778,
              "#fb9f3a"
             ],
             [
              0.8888888888888888,
              "#fdca26"
             ],
             [
              1,
              "#f0f921"
             ]
            ],
            "type": "surface"
           }
          ],
          "table": [
           {
            "cells": {
             "fill": {
              "color": "#EBF0F8"
             },
             "line": {
              "color": "white"
             }
            },
            "header": {
             "fill": {
              "color": "#C8D4E3"
             },
             "line": {
              "color": "white"
             }
            },
            "type": "table"
           }
          ]
         },
         "layout": {
          "annotationdefaults": {
           "arrowcolor": "#2a3f5f",
           "arrowhead": 0,
           "arrowwidth": 1
          },
          "autotypenumbers": "strict",
          "coloraxis": {
           "colorbar": {
            "outlinewidth": 0,
            "ticks": ""
           }
          },
          "colorscale": {
           "diverging": [
            [
             0,
             "#8e0152"
            ],
            [
             0.1,
             "#c51b7d"
            ],
            [
             0.2,
             "#de77ae"
            ],
            [
             0.3,
             "#f1b6da"
            ],
            [
             0.4,
             "#fde0ef"
            ],
            [
             0.5,
             "#f7f7f7"
            ],
            [
             0.6,
             "#e6f5d0"
            ],
            [
             0.7,
             "#b8e186"
            ],
            [
             0.8,
             "#7fbc41"
            ],
            [
             0.9,
             "#4d9221"
            ],
            [
             1,
             "#276419"
            ]
           ],
           "sequential": [
            [
             0,
             "#0d0887"
            ],
            [
             0.1111111111111111,
             "#46039f"
            ],
            [
             0.2222222222222222,
             "#7201a8"
            ],
            [
             0.3333333333333333,
             "#9c179e"
            ],
            [
             0.4444444444444444,
             "#bd3786"
            ],
            [
             0.5555555555555556,
             "#d8576b"
            ],
            [
             0.6666666666666666,
             "#ed7953"
            ],
            [
             0.7777777777777778,
             "#fb9f3a"
            ],
            [
             0.8888888888888888,
             "#fdca26"
            ],
            [
             1,
             "#f0f921"
            ]
           ],
           "sequentialminus": [
            [
             0,
             "#0d0887"
            ],
            [
             0.1111111111111111,
             "#46039f"
            ],
            [
             0.2222222222222222,
             "#7201a8"
            ],
            [
             0.3333333333333333,
             "#9c179e"
            ],
            [
             0.4444444444444444,
             "#bd3786"
            ],
            [
             0.5555555555555556,
             "#d8576b"
            ],
            [
             0.6666666666666666,
             "#ed7953"
            ],
            [
             0.7777777777777778,
             "#fb9f3a"
            ],
            [
             0.8888888888888888,
             "#fdca26"
            ],
            [
             1,
             "#f0f921"
            ]
           ]
          },
          "colorway": [
           "#636efa",
           "#EF553B",
           "#00cc96",
           "#ab63fa",
           "#FFA15A",
           "#19d3f3",
           "#FF6692",
           "#B6E880",
           "#FF97FF",
           "#FECB52"
          ],
          "font": {
           "color": "#2a3f5f"
          },
          "geo": {
           "bgcolor": "white",
           "lakecolor": "white",
           "landcolor": "#E5ECF6",
           "showlakes": true,
           "showland": true,
           "subunitcolor": "white"
          },
          "hoverlabel": {
           "align": "left"
          },
          "hovermode": "closest",
          "mapbox": {
           "style": "light"
          },
          "paper_bgcolor": "white",
          "plot_bgcolor": "#E5ECF6",
          "polar": {
           "angularaxis": {
            "gridcolor": "white",
            "linecolor": "white",
            "ticks": ""
           },
           "bgcolor": "#E5ECF6",
           "radialaxis": {
            "gridcolor": "white",
            "linecolor": "white",
            "ticks": ""
           }
          },
          "scene": {
           "xaxis": {
            "backgroundcolor": "#E5ECF6",
            "gridcolor": "white",
            "gridwidth": 2,
            "linecolor": "white",
            "showbackground": true,
            "ticks": "",
            "zerolinecolor": "white"
           },
           "yaxis": {
            "backgroundcolor": "#E5ECF6",
            "gridcolor": "white",
            "gridwidth": 2,
            "linecolor": "white",
            "showbackground": true,
            "ticks": "",
            "zerolinecolor": "white"
           },
           "zaxis": {
            "backgroundcolor": "#E5ECF6",
            "gridcolor": "white",
            "gridwidth": 2,
            "linecolor": "white",
            "showbackground": true,
            "ticks": "",
            "zerolinecolor": "white"
           }
          },
          "shapedefaults": {
           "line": {
            "color": "#2a3f5f"
           }
          },
          "ternary": {
           "aaxis": {
            "gridcolor": "white",
            "linecolor": "white",
            "ticks": ""
           },
           "baxis": {
            "gridcolor": "white",
            "linecolor": "white",
            "ticks": ""
           },
           "bgcolor": "#E5ECF6",
           "caxis": {
            "gridcolor": "white",
            "linecolor": "white",
            "ticks": ""
           }
          },
          "title": {
           "x": 0.05
          },
          "xaxis": {
           "automargin": true,
           "gridcolor": "white",
           "linecolor": "white",
           "ticks": "",
           "title": {
            "standoff": 15
           },
           "zerolinecolor": "white",
           "zerolinewidth": 2
          },
          "yaxis": {
           "automargin": true,
           "gridcolor": "white",
           "linecolor": "white",
           "ticks": "",
           "title": {
            "standoff": 15
           },
           "zerolinecolor": "white",
           "zerolinewidth": 2
          }
         }
        },
        "title": {
         "text": "US States Clustering"
        }
       }
      }
     },
     "metadata": {},
     "output_type": "display_data"
    }
   ],
   "source": [
    "import plotly.express as px\n",
    "import pandas as pd\n",
    "\n",
    "states = ['South Dakota', 'West Virginia', 'North Dakota', 'Vermont',\n",
    "          'Maine', 'Iowa', 'New Hampshire', 'Idaho', 'Montana', 'Nebraska',\n",
    "          'Kentucky', 'Arkansas', 'Virginia', 'Wyoming', 'Missouri',\n",
    "          'Oregon', 'Washington', 'Delaware', 'Rhode Island',\n",
    "          'Massachusetts', 'New Jersey', 'Connecticut', 'Minnesota',\n",
    "          'Wisconsin', 'Oklahoma', 'Indiana', 'Kansas', 'Ohio',\n",
    "          'Pennsylvania', 'Hawaii', 'Utah', 'Colorado', 'California',\n",
    "          'Nevada', 'Florida', 'Texas', 'Illinois', 'New York', 'Arizona',\n",
    "          'Michigan', 'Maryland', 'New Mexico', 'Alaska', 'Alabama',\n",
    "          'Louisiana', 'Georgia', 'Tennessee', 'North Carolina',\n",
    "          'Mississippi', 'South Carolina']\n",
    "\n",
    "clusters = ['C1', 'C1', 'C1', 'C1', 'C1', 'C1', 'C1', 'C1', 'C1', 'C1', 'C1',\n",
    "       'C1', 'C1', 'C1', 'C1', 'C1', 'C1', 'C1', 'C1', 'C1', 'C1', 'C1',\n",
    "       'C1', 'C1', 'C1', 'C1', 'C1', 'C1', 'C1', 'C1', 'C1', 'C2', 'C2',\n",
    "       'C2', 'C2', 'C2', 'C2', 'C2', 'C2', 'C2', 'C2', 'C2', 'C3', 'C3',\n",
    "       'C3', 'C3', 'C3', 'C3', 'C3', 'C3']\n",
    "\n",
    "state_abbrev = {\n",
    "    'Alabama': 'AL', 'Alaska': 'AK', 'Arizona': 'AZ', 'Arkansas': 'AR', \n",
    "    'California': 'CA', 'Colorado': 'CO', 'Connecticut': 'CT', 'Delaware': 'DE', \n",
    "    'Florida': 'FL', 'Georgia': 'GA', 'Hawaii': 'HI', 'Idaho': 'ID', 'Illinois': 'IL', \n",
    "    'Indiana': 'IN', 'Iowa': 'IA', 'Kansas': 'KS', 'Kentucky': 'KY', 'Louisiana': 'LA', \n",
    "    'Maine': 'ME', 'Maryland': 'MD', 'Massachusetts': 'MA', 'Michigan': 'MI', \n",
    "    'Minnesota': 'MN', 'Mississippi': 'MS', 'Missouri': 'MO', 'Montana': 'MT', \n",
    "    'Nebraska': 'NE', 'Nevada': 'NV', 'New Hampshire': 'NH', 'New Jersey': 'NJ', \n",
    "    'New Mexico': 'NM', 'New York': 'NY', 'North Carolina': 'NC', 'North Dakota': 'ND', \n",
    "    'Ohio': 'OH', 'Oklahoma': 'OK', 'Oregon': 'OR', 'Pennsylvania': 'PA', \n",
    "    'Rhode Island': 'RI', 'South Carolina': 'SC', 'South Dakota': 'SD', \n",
    "    'Tennessee': 'TN', 'Texas': 'TX', 'Utah': 'UT', 'Vermont': 'VT', \n",
    "    'Virginia': 'VA', 'Washington': 'WA', 'West Virginia': 'WV', \n",
    "    'Wisconsin': 'WI', 'Wyoming': 'WY'\n",
    "}\n",
    "\n",
    "# Sample data: Replace this with your actual state and cluster data\n",
    "data = {\n",
    "    'state': states,\n",
    "    'cluster': values.mapping['leaves_color_list']\n",
    "}\n",
    "\n",
    "# Create a DataFrame\n",
    "df = pd.DataFrame(data)\n",
    "\n",
    "# Create a color map\n",
    "color_map = {'C1': 'orange', 'C2': 'green', 'C3': 'red'}\n",
    "\n",
    "# # Add color to the DataFrame\n",
    "# df['color'] = df['cluster'].map(color_map)\n",
    "\n",
    "# Map state names to abbreviations\n",
    "df['state_abbrev'] = df['state'].map(state_abbrev)\n",
    "\n",
    "# Plotting the map\n",
    "fig = px.choropleth(df, \n",
    "                    locations='state_abbrev', \n",
    "                    locationmode='USA-states', \n",
    "                    color='cluster',\n",
    "                    color_discrete_map=color_map,\n",
    "                    scope='usa',\n",
    "                    title='US States Clustering')\n",
    "\n",
    "# Update layout for better visuals\n",
    "fig.update_layout(\n",
    "    geo=dict(\n",
    "        lakecolor='rgb(255, 255, 255)',\n",
    "    )\n",
    ")\n",
    "\n",
    "# Show the figure\n",
    "fig.show()\n"
   ]
  },
  {
   "cell_type": "code",
   "execution_count": 838,
   "metadata": {},
   "outputs": [
    {
     "data": {
      "application/vnd.plotly.v1+json": {
       "config": {
        "plotlyServerURL": "https://plot.ly"
       },
       "data": [
        {
         "colorscale": [
          [
           0,
           "red"
          ],
          [
           1,
           "red"
          ]
         ],
         "geo": "geo",
         "hovertemplate": "cluster=C1<br>state_abbrev=%{location}<extra></extra>",
         "locationmode": "USA-states",
         "locations": [
          "SD",
          "WV",
          "ND",
          "VT",
          "ME",
          "IA",
          "NH",
          "ID",
          "MT",
          "NE",
          "KY",
          "AR",
          "VA",
          "WY",
          "MO",
          "OR"
         ],
         "name": "C1",
         "showlegend": true,
         "showscale": false,
         "type": "choropleth",
         "z": [
          1,
          1,
          1,
          1,
          1,
          1,
          1,
          1,
          1,
          1,
          1,
          1,
          1,
          1,
          1,
          1
         ]
        },
        {
         "colorscale": [
          [
           0,
           "orange"
          ],
          [
           1,
           "orange"
          ]
         ],
         "geo": "geo",
         "hovertemplate": "cluster=C2<br>state_abbrev=%{location}<extra></extra>",
         "locationmode": "USA-states",
         "locations": [
          "WA",
          "DE",
          "RI",
          "MA",
          "NJ",
          "CT",
          "MN",
          "WI",
          "OK",
          "IN",
          "KS",
          "OH",
          "PA",
          "HI"
         ],
         "name": "C2",
         "showlegend": true,
         "showscale": false,
         "type": "choropleth",
         "z": [
          1,
          1,
          1,
          1,
          1,
          1,
          1,
          1,
          1,
          1,
          1,
          1,
          1,
          1
         ]
        },
        {
         "colorscale": [
          [
           0,
           "green"
          ],
          [
           1,
           "green"
          ]
         ],
         "geo": "geo",
         "hovertemplate": "cluster=C3<br>state_abbrev=%{location}<extra></extra>",
         "locationmode": "USA-states",
         "locations": [
          "UT",
          "CO",
          "CA",
          "NV",
          "FL",
          "TX",
          "IL",
          "NY",
          "AZ",
          "MI",
          "MD",
          "NM",
          "AK",
          "AL",
          "LA",
          "GA",
          "TN",
          "NC",
          "MS",
          "SC"
         ],
         "name": "C3",
         "showlegend": true,
         "showscale": false,
         "type": "choropleth",
         "z": [
          1,
          1,
          1,
          1,
          1,
          1,
          1,
          1,
          1,
          1,
          1,
          1,
          1,
          1,
          1,
          1,
          1,
          1,
          1,
          1
         ]
        }
       ],
       "layout": {
        "geo": {
         "center": {},
         "domain": {
          "x": [
           0,
           1
          ],
          "y": [
           0,
           1
          ]
         },
         "lakecolor": "rgb(255, 255, 255)",
         "scope": "usa"
        },
        "legend": {
         "title": {
          "text": "cluster"
         },
         "tracegroupgap": 0
        },
        "template": {
         "data": {
          "bar": [
           {
            "error_x": {
             "color": "#2a3f5f"
            },
            "error_y": {
             "color": "#2a3f5f"
            },
            "marker": {
             "line": {
              "color": "#E5ECF6",
              "width": 0.5
             },
             "pattern": {
              "fillmode": "overlay",
              "size": 10,
              "solidity": 0.2
             }
            },
            "type": "bar"
           }
          ],
          "barpolar": [
           {
            "marker": {
             "line": {
              "color": "#E5ECF6",
              "width": 0.5
             },
             "pattern": {
              "fillmode": "overlay",
              "size": 10,
              "solidity": 0.2
             }
            },
            "type": "barpolar"
           }
          ],
          "carpet": [
           {
            "aaxis": {
             "endlinecolor": "#2a3f5f",
             "gridcolor": "white",
             "linecolor": "white",
             "minorgridcolor": "white",
             "startlinecolor": "#2a3f5f"
            },
            "baxis": {
             "endlinecolor": "#2a3f5f",
             "gridcolor": "white",
             "linecolor": "white",
             "minorgridcolor": "white",
             "startlinecolor": "#2a3f5f"
            },
            "type": "carpet"
           }
          ],
          "choropleth": [
           {
            "colorbar": {
             "outlinewidth": 0,
             "ticks": ""
            },
            "type": "choropleth"
           }
          ],
          "contour": [
           {
            "colorbar": {
             "outlinewidth": 0,
             "ticks": ""
            },
            "colorscale": [
             [
              0,
              "#0d0887"
             ],
             [
              0.1111111111111111,
              "#46039f"
             ],
             [
              0.2222222222222222,
              "#7201a8"
             ],
             [
              0.3333333333333333,
              "#9c179e"
             ],
             [
              0.4444444444444444,
              "#bd3786"
             ],
             [
              0.5555555555555556,
              "#d8576b"
             ],
             [
              0.6666666666666666,
              "#ed7953"
             ],
             [
              0.7777777777777778,
              "#fb9f3a"
             ],
             [
              0.8888888888888888,
              "#fdca26"
             ],
             [
              1,
              "#f0f921"
             ]
            ],
            "type": "contour"
           }
          ],
          "contourcarpet": [
           {
            "colorbar": {
             "outlinewidth": 0,
             "ticks": ""
            },
            "type": "contourcarpet"
           }
          ],
          "heatmap": [
           {
            "colorbar": {
             "outlinewidth": 0,
             "ticks": ""
            },
            "colorscale": [
             [
              0,
              "#0d0887"
             ],
             [
              0.1111111111111111,
              "#46039f"
             ],
             [
              0.2222222222222222,
              "#7201a8"
             ],
             [
              0.3333333333333333,
              "#9c179e"
             ],
             [
              0.4444444444444444,
              "#bd3786"
             ],
             [
              0.5555555555555556,
              "#d8576b"
             ],
             [
              0.6666666666666666,
              "#ed7953"
             ],
             [
              0.7777777777777778,
              "#fb9f3a"
             ],
             [
              0.8888888888888888,
              "#fdca26"
             ],
             [
              1,
              "#f0f921"
             ]
            ],
            "type": "heatmap"
           }
          ],
          "heatmapgl": [
           {
            "colorbar": {
             "outlinewidth": 0,
             "ticks": ""
            },
            "colorscale": [
             [
              0,
              "#0d0887"
             ],
             [
              0.1111111111111111,
              "#46039f"
             ],
             [
              0.2222222222222222,
              "#7201a8"
             ],
             [
              0.3333333333333333,
              "#9c179e"
             ],
             [
              0.4444444444444444,
              "#bd3786"
             ],
             [
              0.5555555555555556,
              "#d8576b"
             ],
             [
              0.6666666666666666,
              "#ed7953"
             ],
             [
              0.7777777777777778,
              "#fb9f3a"
             ],
             [
              0.8888888888888888,
              "#fdca26"
             ],
             [
              1,
              "#f0f921"
             ]
            ],
            "type": "heatmapgl"
           }
          ],
          "histogram": [
           {
            "marker": {
             "pattern": {
              "fillmode": "overlay",
              "size": 10,
              "solidity": 0.2
             }
            },
            "type": "histogram"
           }
          ],
          "histogram2d": [
           {
            "colorbar": {
             "outlinewidth": 0,
             "ticks": ""
            },
            "colorscale": [
             [
              0,
              "#0d0887"
             ],
             [
              0.1111111111111111,
              "#46039f"
             ],
             [
              0.2222222222222222,
              "#7201a8"
             ],
             [
              0.3333333333333333,
              "#9c179e"
             ],
             [
              0.4444444444444444,
              "#bd3786"
             ],
             [
              0.5555555555555556,
              "#d8576b"
             ],
             [
              0.6666666666666666,
              "#ed7953"
             ],
             [
              0.7777777777777778,
              "#fb9f3a"
             ],
             [
              0.8888888888888888,
              "#fdca26"
             ],
             [
              1,
              "#f0f921"
             ]
            ],
            "type": "histogram2d"
           }
          ],
          "histogram2dcontour": [
           {
            "colorbar": {
             "outlinewidth": 0,
             "ticks": ""
            },
            "colorscale": [
             [
              0,
              "#0d0887"
             ],
             [
              0.1111111111111111,
              "#46039f"
             ],
             [
              0.2222222222222222,
              "#7201a8"
             ],
             [
              0.3333333333333333,
              "#9c179e"
             ],
             [
              0.4444444444444444,
              "#bd3786"
             ],
             [
              0.5555555555555556,
              "#d8576b"
             ],
             [
              0.6666666666666666,
              "#ed7953"
             ],
             [
              0.7777777777777778,
              "#fb9f3a"
             ],
             [
              0.8888888888888888,
              "#fdca26"
             ],
             [
              1,
              "#f0f921"
             ]
            ],
            "type": "histogram2dcontour"
           }
          ],
          "mesh3d": [
           {
            "colorbar": {
             "outlinewidth": 0,
             "ticks": ""
            },
            "type": "mesh3d"
           }
          ],
          "parcoords": [
           {
            "line": {
             "colorbar": {
              "outlinewidth": 0,
              "ticks": ""
             }
            },
            "type": "parcoords"
           }
          ],
          "pie": [
           {
            "automargin": true,
            "type": "pie"
           }
          ],
          "scatter": [
           {
            "fillpattern": {
             "fillmode": "overlay",
             "size": 10,
             "solidity": 0.2
            },
            "type": "scatter"
           }
          ],
          "scatter3d": [
           {
            "line": {
             "colorbar": {
              "outlinewidth": 0,
              "ticks": ""
             }
            },
            "marker": {
             "colorbar": {
              "outlinewidth": 0,
              "ticks": ""
             }
            },
            "type": "scatter3d"
           }
          ],
          "scattercarpet": [
           {
            "marker": {
             "colorbar": {
              "outlinewidth": 0,
              "ticks": ""
             }
            },
            "type": "scattercarpet"
           }
          ],
          "scattergeo": [
           {
            "marker": {
             "colorbar": {
              "outlinewidth": 0,
              "ticks": ""
             }
            },
            "type": "scattergeo"
           }
          ],
          "scattergl": [
           {
            "marker": {
             "colorbar": {
              "outlinewidth": 0,
              "ticks": ""
             }
            },
            "type": "scattergl"
           }
          ],
          "scattermapbox": [
           {
            "marker": {
             "colorbar": {
              "outlinewidth": 0,
              "ticks": ""
             }
            },
            "type": "scattermapbox"
           }
          ],
          "scatterpolar": [
           {
            "marker": {
             "colorbar": {
              "outlinewidth": 0,
              "ticks": ""
             }
            },
            "type": "scatterpolar"
           }
          ],
          "scatterpolargl": [
           {
            "marker": {
             "colorbar": {
              "outlinewidth": 0,
              "ticks": ""
             }
            },
            "type": "scatterpolargl"
           }
          ],
          "scatterternary": [
           {
            "marker": {
             "colorbar": {
              "outlinewidth": 0,
              "ticks": ""
             }
            },
            "type": "scatterternary"
           }
          ],
          "surface": [
           {
            "colorbar": {
             "outlinewidth": 0,
             "ticks": ""
            },
            "colorscale": [
             [
              0,
              "#0d0887"
             ],
             [
              0.1111111111111111,
              "#46039f"
             ],
             [
              0.2222222222222222,
              "#7201a8"
             ],
             [
              0.3333333333333333,
              "#9c179e"
             ],
             [
              0.4444444444444444,
              "#bd3786"
             ],
             [
              0.5555555555555556,
              "#d8576b"
             ],
             [
              0.6666666666666666,
              "#ed7953"
             ],
             [
              0.7777777777777778,
              "#fb9f3a"
             ],
             [
              0.8888888888888888,
              "#fdca26"
             ],
             [
              1,
              "#f0f921"
             ]
            ],
            "type": "surface"
           }
          ],
          "table": [
           {
            "cells": {
             "fill": {
              "color": "#EBF0F8"
             },
             "line": {
              "color": "white"
             }
            },
            "header": {
             "fill": {
              "color": "#C8D4E3"
             },
             "line": {
              "color": "white"
             }
            },
            "type": "table"
           }
          ]
         },
         "layout": {
          "annotationdefaults": {
           "arrowcolor": "#2a3f5f",
           "arrowhead": 0,
           "arrowwidth": 1
          },
          "autotypenumbers": "strict",
          "coloraxis": {
           "colorbar": {
            "outlinewidth": 0,
            "ticks": ""
           }
          },
          "colorscale": {
           "diverging": [
            [
             0,
             "#8e0152"
            ],
            [
             0.1,
             "#c51b7d"
            ],
            [
             0.2,
             "#de77ae"
            ],
            [
             0.3,
             "#f1b6da"
            ],
            [
             0.4,
             "#fde0ef"
            ],
            [
             0.5,
             "#f7f7f7"
            ],
            [
             0.6,
             "#e6f5d0"
            ],
            [
             0.7,
             "#b8e186"
            ],
            [
             0.8,
             "#7fbc41"
            ],
            [
             0.9,
             "#4d9221"
            ],
            [
             1,
             "#276419"
            ]
           ],
           "sequential": [
            [
             0,
             "#0d0887"
            ],
            [
             0.1111111111111111,
             "#46039f"
            ],
            [
             0.2222222222222222,
             "#7201a8"
            ],
            [
             0.3333333333333333,
             "#9c179e"
            ],
            [
             0.4444444444444444,
             "#bd3786"
            ],
            [
             0.5555555555555556,
             "#d8576b"
            ],
            [
             0.6666666666666666,
             "#ed7953"
            ],
            [
             0.7777777777777778,
             "#fb9f3a"
            ],
            [
             0.8888888888888888,
             "#fdca26"
            ],
            [
             1,
             "#f0f921"
            ]
           ],
           "sequentialminus": [
            [
             0,
             "#0d0887"
            ],
            [
             0.1111111111111111,
             "#46039f"
            ],
            [
             0.2222222222222222,
             "#7201a8"
            ],
            [
             0.3333333333333333,
             "#9c179e"
            ],
            [
             0.4444444444444444,
             "#bd3786"
            ],
            [
             0.5555555555555556,
             "#d8576b"
            ],
            [
             0.6666666666666666,
             "#ed7953"
            ],
            [
             0.7777777777777778,
             "#fb9f3a"
            ],
            [
             0.8888888888888888,
             "#fdca26"
            ],
            [
             1,
             "#f0f921"
            ]
           ]
          },
          "colorway": [
           "#636efa",
           "#EF553B",
           "#00cc96",
           "#ab63fa",
           "#FFA15A",
           "#19d3f3",
           "#FF6692",
           "#B6E880",
           "#FF97FF",
           "#FECB52"
          ],
          "font": {
           "color": "#2a3f5f"
          },
          "geo": {
           "bgcolor": "white",
           "lakecolor": "white",
           "landcolor": "#E5ECF6",
           "showlakes": true,
           "showland": true,
           "subunitcolor": "white"
          },
          "hoverlabel": {
           "align": "left"
          },
          "hovermode": "closest",
          "mapbox": {
           "style": "light"
          },
          "paper_bgcolor": "white",
          "plot_bgcolor": "#E5ECF6",
          "polar": {
           "angularaxis": {
            "gridcolor": "white",
            "linecolor": "white",
            "ticks": ""
           },
           "bgcolor": "#E5ECF6",
           "radialaxis": {
            "gridcolor": "white",
            "linecolor": "white",
            "ticks": ""
           }
          },
          "scene": {
           "xaxis": {
            "backgroundcolor": "#E5ECF6",
            "gridcolor": "white",
            "gridwidth": 2,
            "linecolor": "white",
            "showbackground": true,
            "ticks": "",
            "zerolinecolor": "white"
           },
           "yaxis": {
            "backgroundcolor": "#E5ECF6",
            "gridcolor": "white",
            "gridwidth": 2,
            "linecolor": "white",
            "showbackground": true,
            "ticks": "",
            "zerolinecolor": "white"
           },
           "zaxis": {
            "backgroundcolor": "#E5ECF6",
            "gridcolor": "white",
            "gridwidth": 2,
            "linecolor": "white",
            "showbackground": true,
            "ticks": "",
            "zerolinecolor": "white"
           }
          },
          "shapedefaults": {
           "line": {
            "color": "#2a3f5f"
           }
          },
          "ternary": {
           "aaxis": {
            "gridcolor": "white",
            "linecolor": "white",
            "ticks": ""
           },
           "baxis": {
            "gridcolor": "white",
            "linecolor": "white",
            "ticks": ""
           },
           "bgcolor": "#E5ECF6",
           "caxis": {
            "gridcolor": "white",
            "linecolor": "white",
            "ticks": ""
           }
          },
          "title": {
           "x": 0.05
          },
          "xaxis": {
           "automargin": true,
           "gridcolor": "white",
           "linecolor": "white",
           "ticks": "",
           "title": {
            "standoff": 15
           },
           "zerolinecolor": "white",
           "zerolinewidth": 2
          },
          "yaxis": {
           "automargin": true,
           "gridcolor": "white",
           "linecolor": "white",
           "ticks": "",
           "title": {
            "standoff": 15
           },
           "zerolinecolor": "white",
           "zerolinewidth": 2
          }
         }
        },
        "title": {
         "text": "US States Clustering"
        }
       }
      }
     },
     "metadata": {},
     "output_type": "display_data"
    }
   ],
   "source": [
    "import plotly.express as px\n",
    "import pandas as pd\n",
    "\n",
    "states = ['South Dakota', 'West Virginia', 'North Dakota', 'Vermont',\n",
    "          'Maine', 'Iowa', 'New Hampshire', 'Idaho', 'Montana', 'Nebraska',\n",
    "          'Kentucky', 'Arkansas', 'Virginia', 'Wyoming', 'Missouri',\n",
    "          'Oregon', 'Washington', 'Delaware', 'Rhode Island',\n",
    "          'Massachusetts', 'New Jersey', 'Connecticut', 'Minnesota',\n",
    "          'Wisconsin', 'Oklahoma', 'Indiana', 'Kansas', 'Ohio',\n",
    "          'Pennsylvania', 'Hawaii', 'Utah', 'Colorado', 'California',\n",
    "          'Nevada', 'Florida', 'Texas', 'Illinois', 'New York', 'Arizona',\n",
    "          'Michigan', 'Maryland', 'New Mexico', 'Alaska', 'Alabama',\n",
    "          'Louisiana', 'Georgia', 'Tennessee', 'North Carolina',\n",
    "          'Mississippi', 'South Carolina']\n",
    "\n",
    "clusters = ddata1.items().mapping['leaves_color_list']\n",
    "\n",
    "state_abbrev = {\n",
    "    'Alabama': 'AL', 'Alaska': 'AK', 'Arizona': 'AZ', 'Arkansas': 'AR', \n",
    "    'California': 'CA', 'Colorado': 'CO', 'Connecticut': 'CT', 'Delaware': 'DE', \n",
    "    'Florida': 'FL', 'Georgia': 'GA', 'Hawaii': 'HI', 'Idaho': 'ID', 'Illinois': 'IL', \n",
    "    'Indiana': 'IN', 'Iowa': 'IA', 'Kansas': 'KS', 'Kentucky': 'KY', 'Louisiana': 'LA', \n",
    "    'Maine': 'ME', 'Maryland': 'MD', 'Massachusetts': 'MA', 'Michigan': 'MI', \n",
    "    'Minnesota': 'MN', 'Mississippi': 'MS', 'Missouri': 'MO', 'Montana': 'MT', \n",
    "    'Nebraska': 'NE', 'Nevada': 'NV', 'New Hampshire': 'NH', 'New Jersey': 'NJ', \n",
    "    'New Mexico': 'NM', 'New York': 'NY', 'North Carolina': 'NC', 'North Dakota': 'ND', \n",
    "    'Ohio': 'OH', 'Oklahoma': 'OK', 'Oregon': 'OR', 'Pennsylvania': 'PA', \n",
    "    'Rhode Island': 'RI', 'South Carolina': 'SC', 'South Dakota': 'SD', \n",
    "    'Tennessee': 'TN', 'Texas': 'TX', 'Utah': 'UT', 'Vermont': 'VT', \n",
    "    'Virginia': 'VA', 'Washington': 'WA', 'West Virginia': 'WV', \n",
    "    'Wisconsin': 'WI', 'Wyoming': 'WY'\n",
    "}\n",
    "\n",
    "# Sample data: Replace this with your actual state and cluster data\n",
    "data = {\n",
    "    'state': states,\n",
    "    'cluster': clusters\n",
    "}\n",
    "\n",
    "# Create a DataFrame\n",
    "df = pd.DataFrame(data)\n",
    "\n",
    "# Create a color map\n",
    "color_map = {'C1': 'red', 'C2': 'orange', 'C3': 'green'}\n",
    "\n",
    "# # Add color to the DataFrame\n",
    "# df['color'] = df['cluster'].map(color_map)\n",
    "\n",
    "# Map state names to abbreviations\n",
    "df['state_abbrev'] = df['state'].map(state_abbrev)\n",
    "\n",
    "# Plotting the map\n",
    "fig = px.choropleth(df, \n",
    "                    locations='state_abbrev', \n",
    "                    locationmode='USA-states', \n",
    "                    color='cluster',\n",
    "                    color_discrete_map=color_map,\n",
    "                    scope='usa',\n",
    "                    title='US States Clustering')\n",
    "\n",
    "# Update layout for better visuals\n",
    "fig.update_layout(\n",
    "    geo=dict(\n",
    "        lakecolor='rgb(255, 255, 255)',\n",
    "    )\n",
    ")\n",
    "\n",
    "# Show the figure\n",
    "fig.show()\n"
   ]
  },
  {
   "cell_type": "markdown",
   "metadata": {},
   "source": [
    "# Exercise 10"
   ]
  },
  {
   "cell_type": "code",
   "execution_count": 839,
   "metadata": {},
   "outputs": [
    {
     "data": {
      "text/html": [
       "<div>\n",
       "<style scoped>\n",
       "    .dataframe tbody tr th:only-of-type {\n",
       "        vertical-align: middle;\n",
       "    }\n",
       "\n",
       "    .dataframe tbody tr th {\n",
       "        vertical-align: top;\n",
       "    }\n",
       "\n",
       "    .dataframe thead th {\n",
       "        text-align: right;\n",
       "    }\n",
       "</style>\n",
       "<table border=\"1\" class=\"dataframe\">\n",
       "  <thead>\n",
       "    <tr style=\"text-align: right;\">\n",
       "      <th></th>\n",
       "      <th>i1</th>\n",
       "      <th>i2</th>\n",
       "      <th>i3</th>\n",
       "      <th>i4</th>\n",
       "      <th>i5</th>\n",
       "      <th>i6</th>\n",
       "      <th>i7</th>\n",
       "      <th>i8</th>\n",
       "      <th>i9</th>\n",
       "      <th>i10</th>\n",
       "      <th>...</th>\n",
       "      <th>i41</th>\n",
       "      <th>i42</th>\n",
       "      <th>i43</th>\n",
       "      <th>i44</th>\n",
       "      <th>i45</th>\n",
       "      <th>i46</th>\n",
       "      <th>i47</th>\n",
       "      <th>i48</th>\n",
       "      <th>i49</th>\n",
       "      <th>i50</th>\n",
       "    </tr>\n",
       "  </thead>\n",
       "  <tbody>\n",
       "    <tr>\n",
       "      <th>19</th>\n",
       "      <td>7.506057</td>\n",
       "      <td>8.463671</td>\n",
       "      <td>5.816424</td>\n",
       "      <td>6.908130</td>\n",
       "      <td>8.557179</td>\n",
       "      <td>8.026578</td>\n",
       "      <td>6.732179</td>\n",
       "      <td>3.848870</td>\n",
       "      <td>8.819400</td>\n",
       "      <td>7.777741</td>\n",
       "      <td>...</td>\n",
       "      <td>7.060880</td>\n",
       "      <td>5.770010</td>\n",
       "      <td>5.451429</td>\n",
       "      <td>7.240337</td>\n",
       "      <td>5.089624</td>\n",
       "      <td>5.574099</td>\n",
       "      <td>5.251940</td>\n",
       "      <td>8.486678</td>\n",
       "      <td>6.499713</td>\n",
       "      <td>8.581162</td>\n",
       "    </tr>\n",
       "    <tr>\n",
       "      <th>20</th>\n",
       "      <td>8.165588</td>\n",
       "      <td>5.571715</td>\n",
       "      <td>7.949497</td>\n",
       "      <td>5.788718</td>\n",
       "      <td>7.640728</td>\n",
       "      <td>7.963474</td>\n",
       "      <td>4.826977</td>\n",
       "      <td>4.956500</td>\n",
       "      <td>8.604626</td>\n",
       "      <td>9.919182</td>\n",
       "      <td>...</td>\n",
       "      <td>6.163625</td>\n",
       "      <td>6.315771</td>\n",
       "      <td>5.837270</td>\n",
       "      <td>7.234096</td>\n",
       "      <td>10.129823</td>\n",
       "      <td>5.645942</td>\n",
       "      <td>7.418565</td>\n",
       "      <td>8.595196</td>\n",
       "      <td>7.603331</td>\n",
       "      <td>5.944024</td>\n",
       "    </tr>\n",
       "    <tr>\n",
       "      <th>21</th>\n",
       "      <td>6.996028</td>\n",
       "      <td>4.972005</td>\n",
       "      <td>7.244908</td>\n",
       "      <td>7.074716</td>\n",
       "      <td>8.592149</td>\n",
       "      <td>8.497600</td>\n",
       "      <td>4.383189</td>\n",
       "      <td>6.457873</td>\n",
       "      <td>9.216366</td>\n",
       "      <td>9.148438</td>\n",
       "      <td>...</td>\n",
       "      <td>6.302671</td>\n",
       "      <td>4.724075</td>\n",
       "      <td>6.705243</td>\n",
       "      <td>6.473915</td>\n",
       "      <td>5.812839</td>\n",
       "      <td>6.067332</td>\n",
       "      <td>6.752533</td>\n",
       "      <td>7.480112</td>\n",
       "      <td>7.257097</td>\n",
       "      <td>4.987715</td>\n",
       "    </tr>\n",
       "    <tr>\n",
       "      <th>22</th>\n",
       "      <td>8.596727</td>\n",
       "      <td>5.343148</td>\n",
       "      <td>7.066918</td>\n",
       "      <td>5.423482</td>\n",
       "      <td>8.517058</td>\n",
       "      <td>8.643348</td>\n",
       "      <td>5.857370</td>\n",
       "      <td>4.634340</td>\n",
       "      <td>7.498704</td>\n",
       "      <td>7.239053</td>\n",
       "      <td>...</td>\n",
       "      <td>8.168878</td>\n",
       "      <td>7.188878</td>\n",
       "      <td>6.413544</td>\n",
       "      <td>6.358408</td>\n",
       "      <td>9.361721</td>\n",
       "      <td>6.815576</td>\n",
       "      <td>7.546932</td>\n",
       "      <td>7.752516</td>\n",
       "      <td>8.575275</td>\n",
       "      <td>6.160871</td>\n",
       "    </tr>\n",
       "  </tbody>\n",
       "</table>\n",
       "<p>4 rows × 50 columns</p>\n",
       "</div>"
      ],
      "text/plain": [
       "          i1        i2        i3        i4        i5        i6        i7  \\\n",
       "19  7.506057  8.463671  5.816424  6.908130  8.557179  8.026578  6.732179   \n",
       "20  8.165588  5.571715  7.949497  5.788718  7.640728  7.963474  4.826977   \n",
       "21  6.996028  4.972005  7.244908  7.074716  8.592149  8.497600  4.383189   \n",
       "22  8.596727  5.343148  7.066918  5.423482  8.517058  8.643348  5.857370   \n",
       "\n",
       "          i8        i9       i10  ...       i41       i42       i43       i44  \\\n",
       "19  3.848870  8.819400  7.777741  ...  7.060880  5.770010  5.451429  7.240337   \n",
       "20  4.956500  8.604626  9.919182  ...  6.163625  6.315771  5.837270  7.234096   \n",
       "21  6.457873  9.216366  9.148438  ...  6.302671  4.724075  6.705243  6.473915   \n",
       "22  4.634340  7.498704  7.239053  ...  8.168878  7.188878  6.413544  6.358408   \n",
       "\n",
       "          i45       i46       i47       i48       i49       i50  \n",
       "19   5.089624  5.574099  5.251940  8.486678  6.499713  8.581162  \n",
       "20  10.129823  5.645942  7.418565  8.595196  7.603331  5.944024  \n",
       "21   5.812839  6.067332  6.752533  7.480112  7.257097  4.987715  \n",
       "22   9.361721  6.815576  7.546932  7.752516  8.575275  6.160871  \n",
       "\n",
       "[4 rows x 50 columns]"
      ]
     },
     "execution_count": 839,
     "metadata": {},
     "output_type": "execute_result"
    }
   ],
   "source": [
    "predictors = []\n",
    "for j in range(50):\n",
    "    predictors.append(f'i{j+1}')\n",
    "\n",
    "predictors\n",
    "\n",
    "df = pd.DataFrame(columns=predictors)\n",
    "\n",
    "rng = np.random.default_rng(10)\n",
    "N = len(predictors)\n",
    "\n",
    "for i in range(60):\n",
    "    if (i)%20 == 0:\n",
    "        offset = rng.choice(np.arange(5, 10), N, replace=True)\n",
    "\n",
    "    new_row = np.array([np.random.normal(loc=x) for x in offset])\n",
    "    # print(offset)\n",
    "    df.loc[len(df.index)] = new_row\n",
    "\n",
    "group = np.concatenate((np.repeat(1,20), np.repeat(2,20), np.repeat(3,20)))\n",
    "df.loc[19:22]"
   ]
  },
  {
   "cell_type": "code",
   "execution_count": 840,
   "metadata": {},
   "outputs": [
    {
     "data": {
      "text/plain": [
       "(60, 50)"
      ]
     },
     "execution_count": 840,
     "metadata": {},
     "output_type": "execute_result"
    }
   ],
   "source": [
    "pca = PCA()\n",
    "pca.fit(df)\n",
    "scores = pca.transform(df)\n",
    "scores.shape"
   ]
  },
  {
   "cell_type": "code",
   "execution_count": 841,
   "metadata": {},
   "outputs": [
    {
     "data": {
      "text/plain": [
       "Text(0, 0.5, 'PC2')"
      ]
     },
     "execution_count": 841,
     "metadata": {},
     "output_type": "execute_result"
    },
    {
     "data": {
      "image/png": "[encoded data removed]",
      "text/plain": [
       "<Figure size 800x800 with 1 Axes>"
      ]
     },
     "metadata": {},
     "output_type": "display_data"
    }
   ],
   "source": [
    "# Define colors for each group\n",
    "color_map = {1: 'red', 2: 'green', 3: 'blue'}\n",
    "colors = [color_map[gp] for gp in group]\n",
    "\n",
    "i, j = 0, 1 # which components\n",
    "fig, ax = plt.subplots(1, 1, figsize=(8, 8))\n",
    "ax.scatter(scores[:,0], scores[:,1], c=colors)\n",
    "ax.set_xlabel('PC%d' % (i+1))\n",
    "ax.set_ylabel('PC%d' % (j+1))\n"
   ]
  },
  {
   "cell_type": "code",
   "execution_count": 842,
   "metadata": {},
   "outputs": [],
   "source": [
    "kmeans = KMeans(n_clusters=4,\n",
    "                random_state=2,\n",
    "                n_init=20).fit(df)"
   ]
  },
  {
   "cell_type": "code",
   "execution_count": 843,
   "metadata": {},
   "outputs": [
    {
     "data": {
      "text/html": [
       "<div>\n",
       "<style scoped>\n",
       "    .dataframe tbody tr th:only-of-type {\n",
       "        vertical-align: middle;\n",
       "    }\n",
       "\n",
       "    .dataframe tbody tr th {\n",
       "        vertical-align: top;\n",
       "    }\n",
       "\n",
       "    .dataframe thead th {\n",
       "        text-align: right;\n",
       "    }\n",
       "</style>\n",
       "<table border=\"1\" class=\"dataframe\">\n",
       "  <thead>\n",
       "    <tr style=\"text-align: right;\">\n",
       "      <th>kmeans</th>\n",
       "      <th>0</th>\n",
       "      <th>1</th>\n",
       "      <th>2</th>\n",
       "      <th>3</th>\n",
       "    </tr>\n",
       "    <tr>\n",
       "      <th>group</th>\n",
       "      <th></th>\n",
       "      <th></th>\n",
       "      <th></th>\n",
       "      <th></th>\n",
       "    </tr>\n",
       "  </thead>\n",
       "  <tbody>\n",
       "    <tr>\n",
       "      <th>1</th>\n",
       "      <td>0</td>\n",
       "      <td>8</td>\n",
       "      <td>0</td>\n",
       "      <td>12</td>\n",
       "    </tr>\n",
       "    <tr>\n",
       "      <th>2</th>\n",
       "      <td>20</td>\n",
       "      <td>0</td>\n",
       "      <td>0</td>\n",
       "      <td>0</td>\n",
       "    </tr>\n",
       "    <tr>\n",
       "      <th>3</th>\n",
       "      <td>0</td>\n",
       "      <td>0</td>\n",
       "      <td>20</td>\n",
       "      <td>0</td>\n",
       "    </tr>\n",
       "  </tbody>\n",
       "</table>\n",
       "</div>"
      ],
      "text/plain": [
       "kmeans   0  1   2   3\n",
       "group                \n",
       "1        0  8   0  12\n",
       "2       20  0   0   0\n",
       "3        0  0  20   0"
      ]
     },
     "execution_count": 843,
     "metadata": {},
     "output_type": "execute_result"
    }
   ],
   "source": [
    "pd.crosstab(pd.Series(group, name=\"group\"), pd.Series(kmeans.labels_, name='kmeans'))"
   ]
  },
  {
   "cell_type": "code",
   "execution_count": 844,
   "metadata": {},
   "outputs": [
    {
     "data": {
      "text/plain": [
       "(60, 2)"
      ]
     },
     "execution_count": 844,
     "metadata": {},
     "output_type": "execute_result"
    }
   ],
   "source": [
    "df_pca = pd.DataFrame()\n",
    "df_pca['pc1'] = scores[:,0]\n",
    "df_pca['pc2'] = scores[:,1]\n",
    "df_pca.shape"
   ]
  },
  {
   "cell_type": "code",
   "execution_count": 845,
   "metadata": {},
   "outputs": [],
   "source": [
    "kmeans_pca = KMeans(n_clusters=3,\n",
    "                random_state=2,\n",
    "                n_init=20).fit(df_pca)"
   ]
  },
  {
   "cell_type": "code",
   "execution_count": 846,
   "metadata": {},
   "outputs": [
    {
     "data": {
      "text/html": [
       "<div>\n",
       "<style scoped>\n",
       "    .dataframe tbody tr th:only-of-type {\n",
       "        vertical-align: middle;\n",
       "    }\n",
       "\n",
       "    .dataframe tbody tr th {\n",
       "        vertical-align: top;\n",
       "    }\n",
       "\n",
       "    .dataframe thead th {\n",
       "        text-align: right;\n",
       "    }\n",
       "</style>\n",
       "<table border=\"1\" class=\"dataframe\">\n",
       "  <thead>\n",
       "    <tr style=\"text-align: right;\">\n",
       "      <th>kmeans_pca</th>\n",
       "      <th>0</th>\n",
       "      <th>1</th>\n",
       "      <th>2</th>\n",
       "    </tr>\n",
       "    <tr>\n",
       "      <th>group</th>\n",
       "      <th></th>\n",
       "      <th></th>\n",
       "      <th></th>\n",
       "    </tr>\n",
       "  </thead>\n",
       "  <tbody>\n",
       "    <tr>\n",
       "      <th>1</th>\n",
       "      <td>0</td>\n",
       "      <td>20</td>\n",
       "      <td>0</td>\n",
       "    </tr>\n",
       "    <tr>\n",
       "      <th>2</th>\n",
       "      <td>0</td>\n",
       "      <td>0</td>\n",
       "      <td>20</td>\n",
       "    </tr>\n",
       "    <tr>\n",
       "      <th>3</th>\n",
       "      <td>20</td>\n",
       "      <td>0</td>\n",
       "      <td>0</td>\n",
       "    </tr>\n",
       "  </tbody>\n",
       "</table>\n",
       "</div>"
      ],
      "text/plain": [
       "kmeans_pca   0   1   2\n",
       "group                 \n",
       "1            0  20   0\n",
       "2            0   0  20\n",
       "3           20   0   0"
      ]
     },
     "execution_count": 846,
     "metadata": {},
     "output_type": "execute_result"
    }
   ],
   "source": [
    "pd.crosstab(pd.Series(group, name=\"group\"), pd.Series(kmeans_pca.labels_, name='kmeans_pca'))"
   ]
  },
  {
   "cell_type": "code",
   "execution_count": 847,
   "metadata": {},
   "outputs": [],
   "source": [
    "scaler = StandardScaler(with_std=True,\n",
    "                        with_mean=True)\n",
    "# scaler.scale_ = np.repeat(0.1,50)\n",
    "df_scaled = scaler.fit_transform(df)"
   ]
  },
  {
   "cell_type": "code",
   "execution_count": 848,
   "metadata": {},
   "outputs": [
    {
     "data": {
      "text/plain": [
       "(60, 50)"
      ]
     },
     "execution_count": 848,
     "metadata": {},
     "output_type": "execute_result"
    }
   ],
   "source": [
    "pca = PCA()\n",
    "pca.fit(df_scaled)\n",
    "scores = pca.transform(df_scaled)\n",
    "scores.shape"
   ]
  },
  {
   "cell_type": "code",
   "execution_count": 849,
   "metadata": {},
   "outputs": [
    {
     "data": {
      "text/plain": [
       "Text(0, 0.5, 'PC2')"
      ]
     },
     "execution_count": 849,
     "metadata": {},
     "output_type": "execute_result"
    },
    {
     "data": {
      "image/png": "[encoded data removed]",
      "text/plain": [
       "<Figure size 800x800 with 1 Axes>"
      ]
     },
     "metadata": {},
     "output_type": "display_data"
    }
   ],
   "source": [
    "i, j = 0, 1 # which components\n",
    "fig, ax = plt.subplots(1, 1, figsize=(8, 8))\n",
    "ax.scatter(scores[:,0], scores[:,1])\n",
    "ax.set_xlabel('PC%d' % (i+1))\n",
    "ax.set_ylabel('PC%d' % (j+1))"
   ]
  },
  {
   "cell_type": "code",
   "execution_count": 850,
   "metadata": {},
   "outputs": [],
   "source": [
    "kmeans_scaled = KMeans(n_clusters=3,\n",
    "                random_state=2,\n",
    "                n_init=20).fit(df_scaled)"
   ]
  },
  {
   "cell_type": "code",
   "execution_count": 851,
   "metadata": {},
   "outputs": [
    {
     "data": {
      "text/html": [
       "<div>\n",
       "<style scoped>\n",
       "    .dataframe tbody tr th:only-of-type {\n",
       "        vertical-align: middle;\n",
       "    }\n",
       "\n",
       "    .dataframe tbody tr th {\n",
       "        vertical-align: top;\n",
       "    }\n",
       "\n",
       "    .dataframe thead th {\n",
       "        text-align: right;\n",
       "    }\n",
       "</style>\n",
       "<table border=\"1\" class=\"dataframe\">\n",
       "  <thead>\n",
       "    <tr style=\"text-align: right;\">\n",
       "      <th>kmeans_scaled</th>\n",
       "      <th>0</th>\n",
       "      <th>1</th>\n",
       "      <th>2</th>\n",
       "    </tr>\n",
       "    <tr>\n",
       "      <th>group</th>\n",
       "      <th></th>\n",
       "      <th></th>\n",
       "      <th></th>\n",
       "    </tr>\n",
       "  </thead>\n",
       "  <tbody>\n",
       "    <tr>\n",
       "      <th>1</th>\n",
       "      <td>0</td>\n",
       "      <td>20</td>\n",
       "      <td>0</td>\n",
       "    </tr>\n",
       "    <tr>\n",
       "      <th>2</th>\n",
       "      <td>0</td>\n",
       "      <td>0</td>\n",
       "      <td>20</td>\n",
       "    </tr>\n",
       "    <tr>\n",
       "      <th>3</th>\n",
       "      <td>20</td>\n",
       "      <td>0</td>\n",
       "      <td>0</td>\n",
       "    </tr>\n",
       "  </tbody>\n",
       "</table>\n",
       "</div>"
      ],
      "text/plain": [
       "kmeans_scaled   0   1   2\n",
       "group                    \n",
       "1               0  20   0\n",
       "2               0   0  20\n",
       "3              20   0   0"
      ]
     },
     "execution_count": 851,
     "metadata": {},
     "output_type": "execute_result"
    }
   ],
   "source": [
    "pd.crosstab(pd.Series(group, name=\"group\"), pd.Series(kmeans_scaled.labels_, name='kmeans_scaled'))"
   ]
  },
  {
   "cell_type": "code",
   "execution_count": 852,
   "metadata": {},
   "outputs": [
    {
     "data": {
      "text/html": [
       "<div>\n",
       "<style scoped>\n",
       "    .dataframe tbody tr th:only-of-type {\n",
       "        vertical-align: middle;\n",
       "    }\n",
       "\n",
       "    .dataframe tbody tr th {\n",
       "        vertical-align: top;\n",
       "    }\n",
       "\n",
       "    .dataframe thead th {\n",
       "        text-align: right;\n",
       "    }\n",
       "</style>\n",
       "<table border=\"1\" class=\"dataframe\">\n",
       "  <thead>\n",
       "    <tr style=\"text-align: right;\">\n",
       "      <th></th>\n",
       "      <th>i1</th>\n",
       "      <th>i2</th>\n",
       "      <th>i3</th>\n",
       "      <th>i4</th>\n",
       "      <th>i5</th>\n",
       "      <th>i6</th>\n",
       "      <th>i7</th>\n",
       "      <th>i8</th>\n",
       "      <th>i9</th>\n",
       "      <th>i10</th>\n",
       "      <th>...</th>\n",
       "      <th>i41</th>\n",
       "      <th>i42</th>\n",
       "      <th>i43</th>\n",
       "      <th>i44</th>\n",
       "      <th>i45</th>\n",
       "      <th>i46</th>\n",
       "      <th>i47</th>\n",
       "      <th>i48</th>\n",
       "      <th>i49</th>\n",
       "      <th>i50</th>\n",
       "    </tr>\n",
       "  </thead>\n",
       "  <tbody>\n",
       "    <tr>\n",
       "      <th>10</th>\n",
       "      <td>8.712999</td>\n",
       "      <td>9.412772</td>\n",
       "      <td>5.688119</td>\n",
       "      <td>6.433327</td>\n",
       "      <td>8.511733</td>\n",
       "      <td>7.921181</td>\n",
       "      <td>7.123087</td>\n",
       "      <td>3.719889</td>\n",
       "      <td>9.616215</td>\n",
       "      <td>7.298325</td>\n",
       "      <td>...</td>\n",
       "      <td>7.920081</td>\n",
       "      <td>5.397928</td>\n",
       "      <td>7.821117</td>\n",
       "      <td>8.096789</td>\n",
       "      <td>7.949909</td>\n",
       "      <td>7.057214</td>\n",
       "      <td>5.368487</td>\n",
       "      <td>9.447059</td>\n",
       "      <td>5.354287</td>\n",
       "      <td>6.719346</td>\n",
       "    </tr>\n",
       "    <tr>\n",
       "      <th>11</th>\n",
       "      <td>6.360634</td>\n",
       "      <td>8.664996</td>\n",
       "      <td>5.241101</td>\n",
       "      <td>6.410194</td>\n",
       "      <td>7.975677</td>\n",
       "      <td>9.144519</td>\n",
       "      <td>7.624077</td>\n",
       "      <td>6.063451</td>\n",
       "      <td>10.263643</td>\n",
       "      <td>5.485399</td>\n",
       "      <td>...</td>\n",
       "      <td>9.171566</td>\n",
       "      <td>6.630324</td>\n",
       "      <td>7.882969</td>\n",
       "      <td>10.948977</td>\n",
       "      <td>8.579722</td>\n",
       "      <td>6.310835</td>\n",
       "      <td>6.064067</td>\n",
       "      <td>7.632456</td>\n",
       "      <td>6.923696</td>\n",
       "      <td>4.789828</td>\n",
       "    </tr>\n",
       "    <tr>\n",
       "      <th>12</th>\n",
       "      <td>6.090075</td>\n",
       "      <td>9.142293</td>\n",
       "      <td>4.718285</td>\n",
       "      <td>6.723322</td>\n",
       "      <td>7.931308</td>\n",
       "      <td>8.422392</td>\n",
       "      <td>7.544365</td>\n",
       "      <td>5.226247</td>\n",
       "      <td>8.672284</td>\n",
       "      <td>6.991891</td>\n",
       "      <td>...</td>\n",
       "      <td>6.730315</td>\n",
       "      <td>5.248026</td>\n",
       "      <td>5.584349</td>\n",
       "      <td>9.173114</td>\n",
       "      <td>8.150732</td>\n",
       "      <td>8.651711</td>\n",
       "      <td>4.607421</td>\n",
       "      <td>9.799180</td>\n",
       "      <td>5.992630</td>\n",
       "      <td>8.269456</td>\n",
       "    </tr>\n",
       "    <tr>\n",
       "      <th>13</th>\n",
       "      <td>7.218148</td>\n",
       "      <td>8.946298</td>\n",
       "      <td>5.916033</td>\n",
       "      <td>5.224751</td>\n",
       "      <td>10.091271</td>\n",
       "      <td>7.693957</td>\n",
       "      <td>6.014529</td>\n",
       "      <td>4.978755</td>\n",
       "      <td>9.070569</td>\n",
       "      <td>6.763100</td>\n",
       "      <td>...</td>\n",
       "      <td>7.142503</td>\n",
       "      <td>6.286601</td>\n",
       "      <td>6.842158</td>\n",
       "      <td>8.855712</td>\n",
       "      <td>6.258930</td>\n",
       "      <td>7.542104</td>\n",
       "      <td>6.952829</td>\n",
       "      <td>8.565566</td>\n",
       "      <td>5.856657</td>\n",
       "      <td>6.224481</td>\n",
       "    </tr>\n",
       "    <tr>\n",
       "      <th>14</th>\n",
       "      <td>7.021896</td>\n",
       "      <td>9.715996</td>\n",
       "      <td>6.741302</td>\n",
       "      <td>6.707453</td>\n",
       "      <td>9.037569</td>\n",
       "      <td>8.934458</td>\n",
       "      <td>6.781105</td>\n",
       "      <td>3.002377</td>\n",
       "      <td>7.818017</td>\n",
       "      <td>6.558954</td>\n",
       "      <td>...</td>\n",
       "      <td>6.688833</td>\n",
       "      <td>8.599805</td>\n",
       "      <td>6.655126</td>\n",
       "      <td>7.846287</td>\n",
       "      <td>8.533932</td>\n",
       "      <td>7.707485</td>\n",
       "      <td>6.190131</td>\n",
       "      <td>9.301824</td>\n",
       "      <td>7.569487</td>\n",
       "      <td>4.342657</td>\n",
       "    </tr>\n",
       "    <tr>\n",
       "      <th>15</th>\n",
       "      <td>7.362975</td>\n",
       "      <td>10.314232</td>\n",
       "      <td>5.210174</td>\n",
       "      <td>6.742689</td>\n",
       "      <td>10.378203</td>\n",
       "      <td>9.103637</td>\n",
       "      <td>6.936388</td>\n",
       "      <td>6.271704</td>\n",
       "      <td>9.869259</td>\n",
       "      <td>6.535148</td>\n",
       "      <td>...</td>\n",
       "      <td>7.170486</td>\n",
       "      <td>2.984940</td>\n",
       "      <td>6.182319</td>\n",
       "      <td>8.277504</td>\n",
       "      <td>9.105471</td>\n",
       "      <td>5.440927</td>\n",
       "      <td>4.029377</td>\n",
       "      <td>8.903290</td>\n",
       "      <td>3.869687</td>\n",
       "      <td>6.718337</td>\n",
       "    </tr>\n",
       "    <tr>\n",
       "      <th>16</th>\n",
       "      <td>7.405107</td>\n",
       "      <td>7.745276</td>\n",
       "      <td>5.209245</td>\n",
       "      <td>6.857333</td>\n",
       "      <td>7.989235</td>\n",
       "      <td>8.928826</td>\n",
       "      <td>6.491648</td>\n",
       "      <td>3.648482</td>\n",
       "      <td>8.967486</td>\n",
       "      <td>6.399959</td>\n",
       "      <td>...</td>\n",
       "      <td>8.170121</td>\n",
       "      <td>3.073769</td>\n",
       "      <td>7.741454</td>\n",
       "      <td>7.076504</td>\n",
       "      <td>8.971366</td>\n",
       "      <td>7.812555</td>\n",
       "      <td>4.692994</td>\n",
       "      <td>8.314042</td>\n",
       "      <td>5.665002</td>\n",
       "      <td>7.524255</td>\n",
       "    </tr>\n",
       "    <tr>\n",
       "      <th>17</th>\n",
       "      <td>7.789233</td>\n",
       "      <td>9.421355</td>\n",
       "      <td>6.026972</td>\n",
       "      <td>5.274091</td>\n",
       "      <td>8.075485</td>\n",
       "      <td>9.003570</td>\n",
       "      <td>7.536385</td>\n",
       "      <td>6.228401</td>\n",
       "      <td>8.414768</td>\n",
       "      <td>9.534213</td>\n",
       "      <td>...</td>\n",
       "      <td>5.659050</td>\n",
       "      <td>8.230008</td>\n",
       "      <td>5.631759</td>\n",
       "      <td>8.427011</td>\n",
       "      <td>9.313853</td>\n",
       "      <td>5.453550</td>\n",
       "      <td>4.942950</td>\n",
       "      <td>9.435078</td>\n",
       "      <td>5.024799</td>\n",
       "      <td>7.869988</td>\n",
       "    </tr>\n",
       "    <tr>\n",
       "      <th>18</th>\n",
       "      <td>7.584727</td>\n",
       "      <td>8.925913</td>\n",
       "      <td>6.313144</td>\n",
       "      <td>5.201076</td>\n",
       "      <td>7.142034</td>\n",
       "      <td>10.744040</td>\n",
       "      <td>6.899991</td>\n",
       "      <td>4.397781</td>\n",
       "      <td>11.103882</td>\n",
       "      <td>7.528516</td>\n",
       "      <td>...</td>\n",
       "      <td>8.537858</td>\n",
       "      <td>6.890370</td>\n",
       "      <td>7.396424</td>\n",
       "      <td>8.468523</td>\n",
       "      <td>9.727240</td>\n",
       "      <td>6.920978</td>\n",
       "      <td>4.796065</td>\n",
       "      <td>7.937293</td>\n",
       "      <td>6.510683</td>\n",
       "      <td>8.221190</td>\n",
       "    </tr>\n",
       "    <tr>\n",
       "      <th>19</th>\n",
       "      <td>7.506057</td>\n",
       "      <td>8.463671</td>\n",
       "      <td>5.816424</td>\n",
       "      <td>6.908130</td>\n",
       "      <td>8.557179</td>\n",
       "      <td>8.026578</td>\n",
       "      <td>6.732179</td>\n",
       "      <td>3.848870</td>\n",
       "      <td>8.819400</td>\n",
       "      <td>7.777741</td>\n",
       "      <td>...</td>\n",
       "      <td>7.060880</td>\n",
       "      <td>5.770010</td>\n",
       "      <td>5.451429</td>\n",
       "      <td>7.240337</td>\n",
       "      <td>5.089624</td>\n",
       "      <td>5.574099</td>\n",
       "      <td>5.251940</td>\n",
       "      <td>8.486678</td>\n",
       "      <td>6.499713</td>\n",
       "      <td>8.581162</td>\n",
       "    </tr>\n",
       "    <tr>\n",
       "      <th>20</th>\n",
       "      <td>8.165588</td>\n",
       "      <td>5.571715</td>\n",
       "      <td>7.949497</td>\n",
       "      <td>5.788718</td>\n",
       "      <td>7.640728</td>\n",
       "      <td>7.963474</td>\n",
       "      <td>4.826977</td>\n",
       "      <td>4.956500</td>\n",
       "      <td>8.604626</td>\n",
       "      <td>9.919182</td>\n",
       "      <td>...</td>\n",
       "      <td>6.163625</td>\n",
       "      <td>6.315771</td>\n",
       "      <td>5.837270</td>\n",
       "      <td>7.234096</td>\n",
       "      <td>10.129823</td>\n",
       "      <td>5.645942</td>\n",
       "      <td>7.418565</td>\n",
       "      <td>8.595196</td>\n",
       "      <td>7.603331</td>\n",
       "      <td>5.944024</td>\n",
       "    </tr>\n",
       "    <tr>\n",
       "      <th>21</th>\n",
       "      <td>6.996028</td>\n",
       "      <td>4.972005</td>\n",
       "      <td>7.244908</td>\n",
       "      <td>7.074716</td>\n",
       "      <td>8.592149</td>\n",
       "      <td>8.497600</td>\n",
       "      <td>4.383189</td>\n",
       "      <td>6.457873</td>\n",
       "      <td>9.216366</td>\n",
       "      <td>9.148438</td>\n",
       "      <td>...</td>\n",
       "      <td>6.302671</td>\n",
       "      <td>4.724075</td>\n",
       "      <td>6.705243</td>\n",
       "      <td>6.473915</td>\n",
       "      <td>5.812839</td>\n",
       "      <td>6.067332</td>\n",
       "      <td>6.752533</td>\n",
       "      <td>7.480112</td>\n",
       "      <td>7.257097</td>\n",
       "      <td>4.987715</td>\n",
       "    </tr>\n",
       "    <tr>\n",
       "      <th>22</th>\n",
       "      <td>8.596727</td>\n",
       "      <td>5.343148</td>\n",
       "      <td>7.066918</td>\n",
       "      <td>5.423482</td>\n",
       "      <td>8.517058</td>\n",
       "      <td>8.643348</td>\n",
       "      <td>5.857370</td>\n",
       "      <td>4.634340</td>\n",
       "      <td>7.498704</td>\n",
       "      <td>7.239053</td>\n",
       "      <td>...</td>\n",
       "      <td>8.168878</td>\n",
       "      <td>7.188878</td>\n",
       "      <td>6.413544</td>\n",
       "      <td>6.358408</td>\n",
       "      <td>9.361721</td>\n",
       "      <td>6.815576</td>\n",
       "      <td>7.546932</td>\n",
       "      <td>7.752516</td>\n",
       "      <td>8.575275</td>\n",
       "      <td>6.160871</td>\n",
       "    </tr>\n",
       "    <tr>\n",
       "      <th>23</th>\n",
       "      <td>8.823311</td>\n",
       "      <td>6.761822</td>\n",
       "      <td>7.339051</td>\n",
       "      <td>5.420411</td>\n",
       "      <td>9.958436</td>\n",
       "      <td>6.168703</td>\n",
       "      <td>5.079962</td>\n",
       "      <td>5.418750</td>\n",
       "      <td>8.194305</td>\n",
       "      <td>7.058471</td>\n",
       "      <td>...</td>\n",
       "      <td>5.283221</td>\n",
       "      <td>5.297533</td>\n",
       "      <td>6.401918</td>\n",
       "      <td>7.920051</td>\n",
       "      <td>9.389245</td>\n",
       "      <td>5.501409</td>\n",
       "      <td>8.710950</td>\n",
       "      <td>6.783409</td>\n",
       "      <td>7.324229</td>\n",
       "      <td>5.683474</td>\n",
       "    </tr>\n",
       "    <tr>\n",
       "      <th>24</th>\n",
       "      <td>7.413015</td>\n",
       "      <td>6.356602</td>\n",
       "      <td>5.859874</td>\n",
       "      <td>5.545046</td>\n",
       "      <td>6.669402</td>\n",
       "      <td>7.335819</td>\n",
       "      <td>3.761386</td>\n",
       "      <td>6.524598</td>\n",
       "      <td>7.428695</td>\n",
       "      <td>8.333482</td>\n",
       "      <td>...</td>\n",
       "      <td>5.043082</td>\n",
       "      <td>6.665226</td>\n",
       "      <td>7.164357</td>\n",
       "      <td>8.645722</td>\n",
       "      <td>9.110185</td>\n",
       "      <td>5.493485</td>\n",
       "      <td>8.272426</td>\n",
       "      <td>9.164405</td>\n",
       "      <td>7.460569</td>\n",
       "      <td>3.116588</td>\n",
       "    </tr>\n",
       "    <tr>\n",
       "      <th>25</th>\n",
       "      <td>8.005346</td>\n",
       "      <td>6.980014</td>\n",
       "      <td>8.321450</td>\n",
       "      <td>5.114302</td>\n",
       "      <td>6.607747</td>\n",
       "      <td>7.850246</td>\n",
       "      <td>4.000554</td>\n",
       "      <td>3.662156</td>\n",
       "      <td>7.202546</td>\n",
       "      <td>7.289413</td>\n",
       "      <td>...</td>\n",
       "      <td>5.297515</td>\n",
       "      <td>6.862249</td>\n",
       "      <td>6.875607</td>\n",
       "      <td>8.040979</td>\n",
       "      <td>8.389155</td>\n",
       "      <td>7.068307</td>\n",
       "      <td>7.018111</td>\n",
       "      <td>5.341720</td>\n",
       "      <td>7.837300</td>\n",
       "      <td>5.173235</td>\n",
       "    </tr>\n",
       "    <tr>\n",
       "      <th>26</th>\n",
       "      <td>9.108786</td>\n",
       "      <td>5.813386</td>\n",
       "      <td>6.737492</td>\n",
       "      <td>6.704254</td>\n",
       "      <td>10.109823</td>\n",
       "      <td>7.285472</td>\n",
       "      <td>5.346662</td>\n",
       "      <td>5.834928</td>\n",
       "      <td>7.638936</td>\n",
       "      <td>7.034492</td>\n",
       "      <td>...</td>\n",
       "      <td>6.036505</td>\n",
       "      <td>6.408753</td>\n",
       "      <td>6.969567</td>\n",
       "      <td>6.377196</td>\n",
       "      <td>7.360157</td>\n",
       "      <td>4.431903</td>\n",
       "      <td>6.868443</td>\n",
       "      <td>6.408108</td>\n",
       "      <td>6.369626</td>\n",
       "      <td>3.172279</td>\n",
       "    </tr>\n",
       "    <tr>\n",
       "      <th>27</th>\n",
       "      <td>8.976220</td>\n",
       "      <td>5.540439</td>\n",
       "      <td>6.501357</td>\n",
       "      <td>8.155421</td>\n",
       "      <td>7.553900</td>\n",
       "      <td>7.133768</td>\n",
       "      <td>5.555333</td>\n",
       "      <td>5.931252</td>\n",
       "      <td>8.501305</td>\n",
       "      <td>7.709992</td>\n",
       "      <td>...</td>\n",
       "      <td>6.679390</td>\n",
       "      <td>6.813253</td>\n",
       "      <td>7.876319</td>\n",
       "      <td>8.378864</td>\n",
       "      <td>10.330024</td>\n",
       "      <td>5.895500</td>\n",
       "      <td>6.627017</td>\n",
       "      <td>8.755512</td>\n",
       "      <td>7.134091</td>\n",
       "      <td>6.373598</td>\n",
       "    </tr>\n",
       "    <tr>\n",
       "      <th>28</th>\n",
       "      <td>7.634169</td>\n",
       "      <td>5.711908</td>\n",
       "      <td>6.565069</td>\n",
       "      <td>6.396413</td>\n",
       "      <td>9.976249</td>\n",
       "      <td>7.323573</td>\n",
       "      <td>4.716781</td>\n",
       "      <td>6.233260</td>\n",
       "      <td>6.604305</td>\n",
       "      <td>6.876723</td>\n",
       "      <td>...</td>\n",
       "      <td>6.448229</td>\n",
       "      <td>7.179386</td>\n",
       "      <td>6.169808</td>\n",
       "      <td>6.829814</td>\n",
       "      <td>7.460106</td>\n",
       "      <td>4.958215</td>\n",
       "      <td>7.053154</td>\n",
       "      <td>8.771398</td>\n",
       "      <td>7.142944</td>\n",
       "      <td>5.165807</td>\n",
       "    </tr>\n",
       "    <tr>\n",
       "      <th>29</th>\n",
       "      <td>6.602390</td>\n",
       "      <td>7.393832</td>\n",
       "      <td>7.688523</td>\n",
       "      <td>6.414559</td>\n",
       "      <td>8.450949</td>\n",
       "      <td>8.089627</td>\n",
       "      <td>5.036730</td>\n",
       "      <td>5.537970</td>\n",
       "      <td>7.376743</td>\n",
       "      <td>7.515516</td>\n",
       "      <td>...</td>\n",
       "      <td>5.422208</td>\n",
       "      <td>5.460456</td>\n",
       "      <td>6.420329</td>\n",
       "      <td>6.947050</td>\n",
       "      <td>7.812634</td>\n",
       "      <td>4.774706</td>\n",
       "      <td>7.753107</td>\n",
       "      <td>7.369545</td>\n",
       "      <td>7.509230</td>\n",
       "      <td>2.052129</td>\n",
       "    </tr>\n",
       "  </tbody>\n",
       "</table>\n",
       "<p>20 rows × 50 columns</p>\n",
       "</div>"
      ],
      "text/plain": [
       "          i1         i2        i3        i4         i5         i6        i7  \\\n",
       "10  8.712999   9.412772  5.688119  6.433327   8.511733   7.921181  7.123087   \n",
       "11  6.360634   8.664996  5.241101  6.410194   7.975677   9.144519  7.624077   \n",
       "12  6.090075   9.142293  4.718285  6.723322   7.931308   8.422392  7.544365   \n",
       "13  7.218148   8.946298  5.916033  5.224751  10.091271   7.693957  6.014529   \n",
       "14  7.021896   9.715996  6.741302  6.707453   9.037569   8.934458  6.781105   \n",
       "15  7.362975  10.314232  5.210174  6.742689  10.378203   9.103637  6.936388   \n",
       "16  7.405107   7.745276  5.209245  6.857333   7.989235   8.928826  6.491648   \n",
       "17  7.789233   9.421355  6.026972  5.274091   8.075485   9.003570  7.536385   \n",
       "18  7.584727   8.925913  6.313144  5.201076   7.142034  10.744040  6.899991   \n",
       "19  7.506057   8.463671  5.816424  6.908130   8.557179   8.026578  6.732179   \n",
       "20  8.165588   5.571715  7.949497  5.788718   7.640728   7.963474  4.826977   \n",
       "21  6.996028   4.972005  7.244908  7.074716   8.592149   8.497600  4.383189   \n",
       "22  8.596727   5.343148  7.066918  5.423482   8.517058   8.643348  5.857370   \n",
       "23  8.823311   6.761822  7.339051  5.420411   9.958436   6.168703  5.079962   \n",
       "24  7.413015   6.356602  5.859874  5.545046   6.669402   7.335819  3.761386   \n",
       "25  8.005346   6.980014  8.321450  5.114302   6.607747   7.850246  4.000554   \n",
       "26  9.108786   5.813386  6.737492  6.704254  10.109823   7.285472  5.346662   \n",
       "27  8.976220   5.540439  6.501357  8.155421   7.553900   7.133768  5.555333   \n",
       "28  7.634169   5.711908  6.565069  6.396413   9.976249   7.323573  4.716781   \n",
       "29  6.602390   7.393832  7.688523  6.414559   8.450949   8.089627  5.036730   \n",
       "\n",
       "          i8         i9       i10  ...       i41       i42       i43  \\\n",
       "10  3.719889   9.616215  7.298325  ...  7.920081  5.397928  7.821117   \n",
       "11  6.063451  10.263643  5.485399  ...  9.171566  6.630324  7.882969   \n",
       "12  5.226247   8.672284  6.991891  ...  6.730315  5.248026  5.584349   \n",
       "13  4.978755   9.070569  6.763100  ...  7.142503  6.286601  6.842158   \n",
       "14  3.002377   7.818017  6.558954  ...  6.688833  8.599805  6.655126   \n",
       "15  6.271704   9.869259  6.535148  ...  7.170486  2.984940  6.182319   \n",
       "16  3.648482   8.967486  6.399959  ...  8.170121  3.073769  7.741454   \n",
       "17  6.228401   8.414768  9.534213  ...  5.659050  8.230008  5.631759   \n",
       "18  4.397781  11.103882  7.528516  ...  8.537858  6.890370  7.396424   \n",
       "19  3.848870   8.819400  7.777741  ...  7.060880  5.770010  5.451429   \n",
       "20  4.956500   8.604626  9.919182  ...  6.163625  6.315771  5.837270   \n",
       "21  6.457873   9.216366  9.148438  ...  6.302671  4.724075  6.705243   \n",
       "22  4.634340   7.498704  7.239053  ...  8.168878  7.188878  6.413544   \n",
       "23  5.418750   8.194305  7.058471  ...  5.283221  5.297533  6.401918   \n",
       "24  6.524598   7.428695  8.333482  ...  5.043082  6.665226  7.164357   \n",
       "25  3.662156   7.202546  7.289413  ...  5.297515  6.862249  6.875607   \n",
       "26  5.834928   7.638936  7.034492  ...  6.036505  6.408753  6.969567   \n",
       "27  5.931252   8.501305  7.709992  ...  6.679390  6.813253  7.876319   \n",
       "28  6.233260   6.604305  6.876723  ...  6.448229  7.179386  6.169808   \n",
       "29  5.537970   7.376743  7.515516  ...  5.422208  5.460456  6.420329   \n",
       "\n",
       "          i44        i45       i46       i47       i48       i49       i50  \n",
       "10   8.096789   7.949909  7.057214  5.368487  9.447059  5.354287  6.719346  \n",
       "11  10.948977   8.579722  6.310835  6.064067  7.632456  6.923696  4.789828  \n",
       "12   9.173114   8.150732  8.651711  4.607421  9.799180  5.992630  8.269456  \n",
       "13   8.855712   6.258930  7.542104  6.952829  8.565566  5.856657  6.224481  \n",
       "14   7.846287   8.533932  7.707485  6.190131  9.301824  7.569487  4.342657  \n",
       "15   8.277504   9.105471  5.440927  4.029377  8.903290  3.869687  6.718337  \n",
       "16   7.076504   8.971366  7.812555  4.692994  8.314042  5.665002  7.524255  \n",
       "17   8.427011   9.313853  5.453550  4.942950  9.435078  5.024799  7.869988  \n",
       "18   8.468523   9.727240  6.920978  4.796065  7.937293  6.510683  8.221190  \n",
       "19   7.240337   5.089624  5.574099  5.251940  8.486678  6.499713  8.581162  \n",
       "20   7.234096  10.129823  5.645942  7.418565  8.595196  7.603331  5.944024  \n",
       "21   6.473915   5.812839  6.067332  6.752533  7.480112  7.257097  4.987715  \n",
       "22   6.358408   9.361721  6.815576  7.546932  7.752516  8.575275  6.160871  \n",
       "23   7.920051   9.389245  5.501409  8.710950  6.783409  7.324229  5.683474  \n",
       "24   8.645722   9.110185  5.493485  8.272426  9.164405  7.460569  3.116588  \n",
       "25   8.040979   8.389155  7.068307  7.018111  5.341720  7.837300  5.173235  \n",
       "26   6.377196   7.360157  4.431903  6.868443  6.408108  6.369626  3.172279  \n",
       "27   8.378864  10.330024  5.895500  6.627017  8.755512  7.134091  6.373598  \n",
       "28   6.829814   7.460106  4.958215  7.053154  8.771398  7.142944  5.165807  \n",
       "29   6.947050   7.812634  4.774706  7.753107  7.369545  7.509230  2.052129  \n",
       "\n",
       "[20 rows x 50 columns]"
      ]
     },
     "execution_count": 852,
     "metadata": {},
     "output_type": "execute_result"
    }
   ],
   "source": [
    "df[10:30]"
   ]
  },
  {
   "cell_type": "code",
   "execution_count": 853,
   "metadata": {},
   "outputs": [
    {
     "data": {
      "text/plain": [
       "0     0.021439\n",
       "1     0.160283\n",
       "2     0.030547\n",
       "3     0.029730\n",
       "4     0.160345\n",
       "5     0.087429\n",
       "6     0.172088\n",
       "7     0.109319\n",
       "8     0.309218\n",
       "9    -0.058519\n",
       "10   -0.347318\n",
       "11   -0.216379\n",
       "12   -0.336855\n",
       "13   -0.183871\n",
       "14   -0.182978\n",
       "15   -0.251194\n",
       "16   -0.415899\n",
       "17   -0.174601\n",
       "18   -0.185992\n",
       "19   -0.427793\n",
       "dtype: float64"
      ]
     },
     "execution_count": 853,
     "metadata": {},
     "output_type": "execute_result"
    }
   ],
   "source": [
    "df2 = pd.DataFrame(df_scaled[10:30])\n",
    "df2.mean(axis=1)"
   ]
  },
  {
   "cell_type": "markdown",
   "metadata": {},
   "source": [
    "# Exercise 11"
   ]
  },
  {
   "cell_type": "code",
   "execution_count": 854,
   "metadata": {},
   "outputs": [],
   "source": [
    "def low_rank(X, M=1):\n",
    "    U, D, V = np.linalg.svd(X)\n",
    "    L = U[:,:M] * D[None,:M]\n",
    "    return L.dot(V[:M])"
   ]
  },
  {
   "cell_type": "code",
   "execution_count": 855,
   "metadata": {},
   "outputs": [],
   "source": [
    "def alg121(Xna, M, r_idx, c_idx, max_iter=15, print_progress=True):\n",
    "    # Step 1\n",
    "    Xhat = Xna.copy()\n",
    "    Xbar = np.nanmean(Xhat, axis=0)\n",
    "    Xhat[r_idx, c_idx] = Xbar[c_idx]\n",
    "    # Step 2\n",
    "    thresh = 1e-7\n",
    "    rel_err = 1\n",
    "    count = 0\n",
    "    ismiss = np.isnan(Xna)\n",
    "    mssold = np.mean(Xhat[~ismiss]**2)\n",
    "    mss0 = np.mean(Xna[~ismiss]**2)\n",
    "    mssold, mss0\n",
    "    mss_return = 0\n",
    "    Xapp_return = []\n",
    "    while rel_err > thresh and count <= max_iter:\n",
    "        count += 1\n",
    "        # Step 2(a)\n",
    "        Xapp = low_rank(Xhat, M)\n",
    "        Xapp_return.append(Xapp)\n",
    "        # Step 2(b)\n",
    "        Xhat[ismiss] = Xapp[ismiss]\n",
    "        # Step 2(c)\n",
    "        mss = np.mean(((Xna - Xapp)[~ismiss])**2)\n",
    "        rel_err = (mssold - mss) / mss0\n",
    "        mssold = mss\n",
    "        mss_return = mss\n",
    "        if print_progress:\n",
    "            print(\"Iteration: {0}, MSS:{1:.3f}, Rel.Err {2:.2e}\"\n",
    "            .format(count, mss, rel_err))\n",
    "\n",
    "    return mss, Xapp_return[-1]"
   ]
  },
  {
   "cell_type": "code",
   "execution_count": 896,
   "metadata": {},
   "outputs": [
    {
     "data": {
      "text/plain": [
       "(506, 13)"
      ]
     },
     "execution_count": 896,
     "metadata": {},
     "output_type": "execute_result"
    }
   ],
   "source": [
    "boston_df = load_data('Boston')\n",
    "boston_scaled = scaler.fit_transform(boston_df)\n",
    "boston_scaled.shape"
   ]
  },
  {
   "cell_type": "code",
   "execution_count": 897,
   "metadata": {},
   "outputs": [],
   "source": [
    "import math \n",
    "# NOT missing elements mss!!!!\n",
    "m_list = []\n",
    "for nr_m_comp in range(1,9,1):\n",
    "    it_list = []\n",
    "    for it in range(20):\n",
    "        array_with_indices_r = np.arange(boston_scaled.shape[0])\n",
    "        array_with_indices_c = np.arange(boston_scaled.shape[1])\n",
    "        r_idx = []\n",
    "        c_idx = []\n",
    "        perc_list = []\n",
    "        for percentage_missing in [5,5,5,5,5,5]:\n",
    "            n_omit = math.floor((percentage_missing/100)*boston_scaled.shape[0])\n",
    "            # r_idx.append(np.random.choice(array_with_indices_r,\n",
    "            #              n_omit,\n",
    "            #              replace=False)[0])\n",
    "            # c_idx.append(np.random.choice(array_with_indices_c,\n",
    "            #              n_omit,\n",
    "            #              replace=True)[0])\n",
    "            r_idx = r_idx + list(np.random.choice(array_with_indices_r,\n",
    "                         n_omit,\n",
    "                         replace=False))\n",
    "            c_idx = c_idx + list(np.random.choice(array_with_indices_c,\n",
    "                         n_omit,\n",
    "                         replace=True))\n",
    "            \n",
    "            Xna = boston_scaled.copy()\n",
    "            r_idx = np.array(r_idx)\n",
    "            c_idx = np.array(c_idx)\n",
    "            Xna[r_idx, c_idx] = np.nan\n",
    "            r_idx = list(r_idx)\n",
    "            c_idx = list(c_idx)\n",
    "            array_with_indices_r = np.setdiff1d(array_with_indices_r, r_idx)\n",
    "            # array_with_indices_c = np.setdiff1d(array_with_indices_c, c_idx)\n",
    "            _, Xapp = alg121(Xna=Xna, M=nr_m_comp, r_idx=r_idx, c_idx=c_idx, max_iter=30, print_progress=False)\n",
    "            Xapp = Xapp[r_idx,c_idx].flatten()\n",
    "            Xactual = boston_scaled[r_idx,c_idx].flatten()\n",
    "            mss = ((Xactual - Xapp)**2).sum()\n",
    "            perc_list.append(mss)\n",
    "        it_list.append(perc_list)\n",
    "\n",
    "    m_list.append(it_list)\n"
   ]
  },
  {
   "cell_type": "code",
   "execution_count": 898,
   "metadata": {},
   "outputs": [],
   "source": [
    "m_list = np.array(m_list)"
   ]
  },
  {
   "cell_type": "code",
   "execution_count": 899,
   "metadata": {},
   "outputs": [],
   "source": [
    "m_list = np.array([np.array(x) for x in m_list])"
   ]
  },
  {
   "cell_type": "code",
   "execution_count": 900,
   "metadata": {},
   "outputs": [],
   "source": [
    "new_m_list = []\n",
    "for l in m_list:\n",
    "    l = np.array([np.array(x) for x in l])\n",
    "    new_m_list.append(l)\n",
    "\n",
    "new_m_list = np.array(new_m_list)"
   ]
  },
  {
   "cell_type": "code",
   "execution_count": 901,
   "metadata": {},
   "outputs": [
    {
     "data": {
      "text/plain": [
       "(8, 20, 6)"
      ]
     },
     "execution_count": 901,
     "metadata": {},
     "output_type": "execute_result"
    }
   ],
   "source": [
    "new_m_list.shape"
   ]
  },
  {
   "cell_type": "code",
   "execution_count": 902,
   "metadata": {},
   "outputs": [
    {
     "data": {
      "text/plain": [
       "(8, 6)"
      ]
     },
     "execution_count": 902,
     "metadata": {},
     "output_type": "execute_result"
    }
   ],
   "source": [
    "mean_arr = new_m_list.mean(axis=1)\n",
    "mean_arr.shape"
   ]
  },
  {
   "cell_type": "code",
   "execution_count": 903,
   "metadata": {},
   "outputs": [
    {
     "data": {
      "text/html": [
       "<div>\n",
       "<style scoped>\n",
       "    .dataframe tbody tr th:only-of-type {\n",
       "        vertical-align: middle;\n",
       "    }\n",
       "\n",
       "    .dataframe tbody tr th {\n",
       "        vertical-align: top;\n",
       "    }\n",
       "\n",
       "    .dataframe thead th {\n",
       "        text-align: right;\n",
       "    }\n",
       "</style>\n",
       "<table border=\"1\" class=\"dataframe\">\n",
       "  <thead>\n",
       "    <tr style=\"text-align: right;\">\n",
       "      <th></th>\n",
       "      <th>0</th>\n",
       "      <th>1</th>\n",
       "      <th>2</th>\n",
       "      <th>3</th>\n",
       "      <th>4</th>\n",
       "      <th>5</th>\n",
       "    </tr>\n",
       "  </thead>\n",
       "  <tbody>\n",
       "    <tr>\n",
       "      <th>0</th>\n",
       "      <td>17.440130</td>\n",
       "      <td>30.044692</td>\n",
       "      <td>42.966386</td>\n",
       "      <td>57.230227</td>\n",
       "      <td>73.854771</td>\n",
       "      <td>89.939285</td>\n",
       "    </tr>\n",
       "    <tr>\n",
       "      <th>1</th>\n",
       "      <td>16.404171</td>\n",
       "      <td>29.120550</td>\n",
       "      <td>42.748718</td>\n",
       "      <td>55.015171</td>\n",
       "      <td>69.433857</td>\n",
       "      <td>80.651042</td>\n",
       "    </tr>\n",
       "    <tr>\n",
       "      <th>2</th>\n",
       "      <td>14.277028</td>\n",
       "      <td>26.636977</td>\n",
       "      <td>39.785532</td>\n",
       "      <td>52.603681</td>\n",
       "      <td>65.194024</td>\n",
       "      <td>79.367281</td>\n",
       "    </tr>\n",
       "    <tr>\n",
       "      <th>3</th>\n",
       "      <td>25.753449</td>\n",
       "      <td>48.198548</td>\n",
       "      <td>68.553058</td>\n",
       "      <td>85.399279</td>\n",
       "      <td>101.382073</td>\n",
       "      <td>123.593596</td>\n",
       "    </tr>\n",
       "    <tr>\n",
       "      <th>4</th>\n",
       "      <td>30.482236</td>\n",
       "      <td>58.681461</td>\n",
       "      <td>82.798420</td>\n",
       "      <td>99.254280</td>\n",
       "      <td>116.386923</td>\n",
       "      <td>132.066890</td>\n",
       "    </tr>\n",
       "    <tr>\n",
       "      <th>5</th>\n",
       "      <td>17.471587</td>\n",
       "      <td>36.560014</td>\n",
       "      <td>61.265909</td>\n",
       "      <td>78.630898</td>\n",
       "      <td>99.824805</td>\n",
       "      <td>122.411827</td>\n",
       "    </tr>\n",
       "    <tr>\n",
       "      <th>6</th>\n",
       "      <td>18.467600</td>\n",
       "      <td>36.312099</td>\n",
       "      <td>58.902902</td>\n",
       "      <td>81.384681</td>\n",
       "      <td>102.433973</td>\n",
       "      <td>121.280597</td>\n",
       "    </tr>\n",
       "    <tr>\n",
       "      <th>7</th>\n",
       "      <td>26.424623</td>\n",
       "      <td>50.183896</td>\n",
       "      <td>67.948961</td>\n",
       "      <td>92.910543</td>\n",
       "      <td>110.417210</td>\n",
       "      <td>136.651347</td>\n",
       "    </tr>\n",
       "  </tbody>\n",
       "</table>\n",
       "</div>"
      ],
      "text/plain": [
       "           0          1          2          3           4           5\n",
       "0  17.440130  30.044692  42.966386  57.230227   73.854771   89.939285\n",
       "1  16.404171  29.120550  42.748718  55.015171   69.433857   80.651042\n",
       "2  14.277028  26.636977  39.785532  52.603681   65.194024   79.367281\n",
       "3  25.753449  48.198548  68.553058  85.399279  101.382073  123.593596\n",
       "4  30.482236  58.681461  82.798420  99.254280  116.386923  132.066890\n",
       "5  17.471587  36.560014  61.265909  78.630898   99.824805  122.411827\n",
       "6  18.467600  36.312099  58.902902  81.384681  102.433973  121.280597\n",
       "7  26.424623  50.183896  67.948961  92.910543  110.417210  136.651347"
      ]
     },
     "execution_count": 903,
     "metadata": {},
     "output_type": "execute_result"
    }
   ],
   "source": [
    "pd.DataFrame(mean_arr)"
   ]
  },
  {
   "cell_type": "code",
   "execution_count": 904,
   "metadata": {},
   "outputs": [
    {
     "data": {
      "text/plain": [
       "array([1, 4, 5, 7, 8, 9])"
      ]
     },
     "execution_count": 904,
     "metadata": {},
     "output_type": "execute_result"
    }
   ],
   "source": [
    "a = np.array([1, 2, 3, 4, 5, 6, 7, 8, 9])\n",
    "index = np.array([2, 3, 6, 10, 15, 16])\n",
    "\n",
    "new_a = np.setdiff1d(a, index)\n",
    "\n",
    "new_a"
   ]
  },
  {
   "cell_type": "code",
   "execution_count": 905,
   "metadata": {},
   "outputs": [
    {
     "name": "stdout",
     "output_type": "stream",
     "text": [
      "[0 1 2 3 4 5 6 7 8 9] [0]\n",
      "[0 1 2 3 4 5 6 7 8 9] [0, 9]\n",
      "[0 1 2 3 4 5 6 7 8 9] [0, 9, 0]\n",
      "[0 1 2 3 4 5 6 7 8 9] [0, 9, 0, 6]\n",
      "[0 1 2 3 4 5 6 7 8 9] [0, 9, 0, 6, 3]\n",
      "[0 1 2 3 4 5 6 7 8 9] [0, 9, 0, 6, 3, 6]\n",
      "[0 1 2 3 4 5 6 7 8 9] [5]\n",
      "[0 1 2 3 4 5 6 7 8 9] [5, 3]\n",
      "[0 1 2 3 4 5 6 7 8 9] [5, 3, 8]\n",
      "[0 1 2 3 4 5 6 7 8 9] [5, 3, 8, 1]\n",
      "[0 1 2 3 4 5 6 7 8 9] [5, 3, 8, 1, 4]\n",
      "[0 1 2 3 4 5 6 7 8 9] [5, 3, 8, 1, 4, 7]\n",
      "[0 1 2 3 4 5 6 7 8 9] [8]\n",
      "[0 1 2 3 4 5 6 7 8 9] [8, 5]\n",
      "[0 1 2 3 4 5 6 7 8 9] [8, 5, 5]\n",
      "[0 1 2 3 4 5 6 7 8 9] [8, 5, 5, 3]\n",
      "[0 1 2 3 4 5 6 7 8 9] [8, 5, 5, 3, 4]\n",
      "[0 1 2 3 4 5 6 7 8 9] [8, 5, 5, 3, 4, 7]\n",
      "[0 1 2 3 4 5 6 7 8 9] [7]\n",
      "[0 1 2 3 4 5 6 7 8 9] [7, 8]\n",
      "[0 1 2 3 4 5 6 7 8 9] [7, 8, 8]\n",
      "[0 1 2 3 4 5 6 7 8 9] [7, 8, 8, 4]\n",
      "[0 1 2 3 4 5 6 7 8 9] [7, 8, 8, 4, 6]\n",
      "[0 1 2 3 4 5 6 7 8 9] [7, 8, 8, 4, 6, 1]\n",
      "[0 1 2 3 4 5 6 7 8 9] [2]\n",
      "[0 1 2 3 4 5 6 7 8 9] [2, 1]\n",
      "[0 1 2 3 4 5 6 7 8 9] [2, 1, 5]\n",
      "[0 1 2 3 4 5 6 7 8 9] [2, 1, 5, 4]\n",
      "[0 1 2 3 4 5 6 7 8 9] [2, 1, 5, 4, 3]\n",
      "[0 1 2 3 4 5 6 7 8 9] [2, 1, 5, 4, 3, 3]\n",
      "[0 1 2 3 4 5 6 7 8 9] [2]\n",
      "[0 1 2 3 4 5 6 7 8 9] [2, 1]\n",
      "[0 1 2 3 4 5 6 7 8 9] [2, 1, 8]\n",
      "[0 1 2 3 4 5 6 7 8 9] [2, 1, 8, 5]\n",
      "[0 1 2 3 4 5 6 7 8 9] [2, 1, 8, 5, 9]\n",
      "[0 1 2 3 4 5 6 7 8 9] [2, 1, 8, 5, 9, 8]\n",
      "[0 1 2 3 4 5 6 7 8 9] [2]\n",
      "[0 1 2 3 4 5 6 7 8 9] [2, 1]\n",
      "[0 1 2 3 4 5 6 7 8 9] [2, 1, 1]\n",
      "[0 1 2 3 4 5 6 7 8 9] [2, 1, 1, 5]\n",
      "[0 1 2 3 4 5 6 7 8 9] [2, 1, 1, 5, 8]\n",
      "[0 1 2 3 4 5 6 7 8 9] [2, 1, 1, 5, 8, 8]\n",
      "[0 1 2 3 4 5 6 7 8 9] [8]\n",
      "[0 1 2 3 4 5 6 7 8 9] [8, 5]\n",
      "[0 1 2 3 4 5 6 7 8 9] [8, 5, 3]\n",
      "[0 1 2 3 4 5 6 7 8 9] [8, 5, 3, 2]\n",
      "[0 1 2 3 4 5 6 7 8 9] [8, 5, 3, 2, 8]\n",
      "[0 1 2 3 4 5 6 7 8 9] [8, 5, 3, 2, 8, 0]\n",
      "[0 1 2 3 4 5 6 7 8 9] [8]\n",
      "[0 1 2 3 4 5 6 7 8 9] [8, 2]\n",
      "[0 1 2 3 4 5 6 7 8 9] [8, 2, 2]\n",
      "[0 1 2 3 4 5 6 7 8 9] [8, 2, 2, 1]\n",
      "[0 1 2 3 4 5 6 7 8 9] [8, 2, 2, 1, 6]\n",
      "[0 1 2 3 4 5 6 7 8 9] [8, 2, 2, 1, 6, 1]\n",
      "[0 1 2 3 4 5 6 7 8 9] [6]\n",
      "[0 1 2 3 4 5 6 7 8 9] [6, 8]\n",
      "[0 1 2 3 4 5 6 7 8 9] [6, 8, 8]\n",
      "[0 1 2 3 4 5 6 7 8 9] [6, 8, 8, 6]\n",
      "[0 1 2 3 4 5 6 7 8 9] [6, 8, 8, 6, 4]\n",
      "[0 1 2 3 4 5 6 7 8 9] [6, 8, 8, 6, 4, 1]\n"
     ]
    }
   ],
   "source": [
    "for it in range(10):\n",
    "        array_with_indices_r = np.arange(10)\n",
    "        array_with_indices_c = np.arange(10)\n",
    "        r_idx = []\n",
    "        c_idx = []\n",
    "        perc_list = []\n",
    "        for percentage_missing in [10,10,10,10,10,10]:\n",
    "            n_omit = math.floor((percentage_missing/100)*10)\n",
    "            r_idx.append(np.random.choice(array_with_indices_r,\n",
    "                         n_omit,\n",
    "                         replace=False)[0])\n",
    "            c_idx.append(np.random.choice(array_with_indices_c,\n",
    "                         n_omit,\n",
    "                         replace=True)[0])\n",
    "            print(array_with_indices_c, c_idx)\n",
    "            array_with_indices_r = np.setdiff1d(array_with_indices_r, r_idx)\n",
    "            # array_with_indices_c = np.setdiff1d(array_with_indices_c, c_idx)"
   ]
  },
  {
   "cell_type": "code",
   "execution_count": 906,
   "metadata": {},
   "outputs": [
    {
     "data": {
      "text/plain": [
       "array([[ 5.,  6.,  7.,  8.],\n",
       "       [17., 18., 19., 20.]])"
      ]
     },
     "execution_count": 906,
     "metadata": {},
     "output_type": "execute_result"
    }
   ],
   "source": [
    "x = np.array([[[1,2,3,4],[5,6,7,8], [9,10,11,12]], [[13,14, 15, 16],[17, 18, 19, 20], [21, 22, 23, 24]]])\n",
    "x.shape\n",
    "x.mean(axis=1)\n",
    "# y = x.mean(axis=0)\n",
    "# y.shape"
   ]
  },
  {
   "cell_type": "code",
   "execution_count": 907,
   "metadata": {},
   "outputs": [
    {
     "data": {
      "text/plain": [
       "(506, 13)"
      ]
     },
     "execution_count": 907,
     "metadata": {},
     "output_type": "execute_result"
    }
   ],
   "source": [
    "n_omit = 20\n",
    "r_idx = np.random.choice(np.arange(boston_scaled.shape[0]),\n",
    "                         n_omit,\n",
    "                         replace=False)\n",
    "c_idx = np.random.choice(np.arange(boston_scaled.shape[1]),\n",
    "                        n_omit,\n",
    "                        replace=True)\n",
    "\n",
    "Xna = boston_scaled.copy()\n",
    "Xna[r_idx,c_idx] = np.nan\n",
    "\n",
    "_, Xapp = alg121(Xna, 1, r_idx, c_idx, print_progress=False)\n",
    "Xapp.shape"
   ]
  },
  {
   "cell_type": "markdown",
   "metadata": {},
   "source": [
    "# Exercise 13"
   ]
  },
  {
   "cell_type": "code",
   "execution_count": 1010,
   "metadata": {},
   "outputs": [
    {
     "data": {
      "text/plain": [
       "(999, 40)"
      ]
     },
     "execution_count": 1010,
     "metadata": {},
     "output_type": "execute_result"
    }
   ],
   "source": [
    "gene_df = pd.read_csv('Ch12Ex13.csv')\n",
    "gene_df.shape"
   ]
  },
  {
   "cell_type": "code",
   "execution_count": 1011,
   "metadata": {},
   "outputs": [],
   "source": [
    "gene_df = gene_df.T\n",
    "gene_df.index = np.arange(40)"
   ]
  },
  {
   "cell_type": "code",
   "execution_count": 1012,
   "metadata": {},
   "outputs": [
    {
     "data": {
      "text/html": [
       "<div>\n",
       "<style scoped>\n",
       "    .dataframe tbody tr th:only-of-type {\n",
       "        vertical-align: middle;\n",
       "    }\n",
       "\n",
       "    .dataframe tbody tr th {\n",
       "        vertical-align: top;\n",
       "    }\n",
       "\n",
       "    .dataframe thead th {\n",
       "        text-align: right;\n",
       "    }\n",
       "</style>\n",
       "<table border=\"1\" class=\"dataframe\">\n",
       "  <thead>\n",
       "    <tr style=\"text-align: right;\">\n",
       "      <th></th>\n",
       "      <th>0</th>\n",
       "      <th>1</th>\n",
       "      <th>2</th>\n",
       "      <th>3</th>\n",
       "      <th>4</th>\n",
       "      <th>5</th>\n",
       "      <th>6</th>\n",
       "      <th>7</th>\n",
       "      <th>8</th>\n",
       "      <th>9</th>\n",
       "      <th>...</th>\n",
       "      <th>989</th>\n",
       "      <th>990</th>\n",
       "      <th>991</th>\n",
       "      <th>992</th>\n",
       "      <th>993</th>\n",
       "      <th>994</th>\n",
       "      <th>995</th>\n",
       "      <th>996</th>\n",
       "      <th>997</th>\n",
       "      <th>998</th>\n",
       "    </tr>\n",
       "  </thead>\n",
       "  <tbody>\n",
       "    <tr>\n",
       "      <th>0</th>\n",
       "      <td>-0.292526</td>\n",
       "      <td>0.258788</td>\n",
       "      <td>-1.152132</td>\n",
       "      <td>0.195783</td>\n",
       "      <td>0.030124</td>\n",
       "      <td>0.085418</td>\n",
       "      <td>1.116610</td>\n",
       "      <td>-1.218857</td>\n",
       "      <td>1.267369</td>\n",
       "      <td>-0.744782</td>\n",
       "      <td>...</td>\n",
       "      <td>1.325041</td>\n",
       "      <td>-0.116171</td>\n",
       "      <td>-1.470146</td>\n",
       "      <td>-0.379272</td>\n",
       "      <td>-1.465006</td>\n",
       "      <td>1.075148</td>\n",
       "      <td>-1.226125</td>\n",
       "      <td>-3.056328</td>\n",
       "      <td>1.450658</td>\n",
       "      <td>0.717977</td>\n",
       "    </tr>\n",
       "    <tr>\n",
       "      <th>1</th>\n",
       "      <td>-1.139267</td>\n",
       "      <td>-0.972845</td>\n",
       "      <td>-2.213168</td>\n",
       "      <td>0.593306</td>\n",
       "      <td>-0.691014</td>\n",
       "      <td>-1.113054</td>\n",
       "      <td>1.341700</td>\n",
       "      <td>-1.277279</td>\n",
       "      <td>-0.918349</td>\n",
       "      <td>0.796082</td>\n",
       "      <td>...</td>\n",
       "      <td>0.740838</td>\n",
       "      <td>-0.162392</td>\n",
       "      <td>-0.633375</td>\n",
       "      <td>-0.895521</td>\n",
       "      <td>2.034465</td>\n",
       "      <td>3.003267</td>\n",
       "      <td>-0.501702</td>\n",
       "      <td>0.449889</td>\n",
       "      <td>1.310348</td>\n",
       "      <td>0.763482</td>\n",
       "    </tr>\n",
       "    <tr>\n",
       "      <th>2</th>\n",
       "      <td>0.195837</td>\n",
       "      <td>0.588486</td>\n",
       "      <td>-0.861525</td>\n",
       "      <td>0.282992</td>\n",
       "      <td>-0.403426</td>\n",
       "      <td>-0.677969</td>\n",
       "      <td>0.103278</td>\n",
       "      <td>-0.558925</td>\n",
       "      <td>-1.253500</td>\n",
       "      <td>0.578544</td>\n",
       "      <td>...</td>\n",
       "      <td>-0.435533</td>\n",
       "      <td>-0.235912</td>\n",
       "      <td>1.446660</td>\n",
       "      <td>-1.127459</td>\n",
       "      <td>0.440849</td>\n",
       "      <td>-0.123441</td>\n",
       "      <td>-0.717430</td>\n",
       "      <td>1.880362</td>\n",
       "      <td>0.383837</td>\n",
       "      <td>0.313576</td>\n",
       "    </tr>\n",
       "    <tr>\n",
       "      <th>3</th>\n",
       "      <td>-1.281121</td>\n",
       "      <td>-0.800258</td>\n",
       "      <td>0.630925</td>\n",
       "      <td>0.247147</td>\n",
       "      <td>-0.729859</td>\n",
       "      <td>-0.562929</td>\n",
       "      <td>0.390963</td>\n",
       "      <td>-1.344493</td>\n",
       "      <td>-1.067114</td>\n",
       "      <td>-1.128211</td>\n",
       "      <td>...</td>\n",
       "      <td>-3.065529</td>\n",
       "      <td>1.597294</td>\n",
       "      <td>0.737478</td>\n",
       "      <td>-0.631248</td>\n",
       "      <td>-0.530442</td>\n",
       "      <td>-1.036740</td>\n",
       "      <td>-0.169113</td>\n",
       "      <td>-0.742841</td>\n",
       "      <td>-0.408860</td>\n",
       "      <td>-0.326473</td>\n",
       "    </tr>\n",
       "    <tr>\n",
       "      <th>4</th>\n",
       "      <td>-0.251439</td>\n",
       "      <td>-1.820398</td>\n",
       "      <td>0.951772</td>\n",
       "      <td>1.978668</td>\n",
       "      <td>-0.364099</td>\n",
       "      <td>0.938194</td>\n",
       "      <td>-1.927491</td>\n",
       "      <td>1.159115</td>\n",
       "      <td>-0.240638</td>\n",
       "      <td>-1.070943</td>\n",
       "      <td>...</td>\n",
       "      <td>-2.378938</td>\n",
       "      <td>-0.086946</td>\n",
       "      <td>-0.122342</td>\n",
       "      <td>1.418029</td>\n",
       "      <td>1.075337</td>\n",
       "      <td>-1.270604</td>\n",
       "      <td>0.599530</td>\n",
       "      <td>2.238346</td>\n",
       "      <td>-0.471111</td>\n",
       "      <td>-0.158700</td>\n",
       "    </tr>\n",
       "    <tr>\n",
       "      <th>5</th>\n",
       "      <td>2.511997</td>\n",
       "      <td>-2.058924</td>\n",
       "      <td>-1.165724</td>\n",
       "      <td>-0.871018</td>\n",
       "      <td>1.125349</td>\n",
       "      <td>0.118809</td>\n",
       "      <td>0.451692</td>\n",
       "      <td>-1.501044</td>\n",
       "      <td>1.163889</td>\n",
       "      <td>-0.406788</td>\n",
       "      <td>...</td>\n",
       "      <td>0.101693</td>\n",
       "      <td>1.019600</td>\n",
       "      <td>-0.553600</td>\n",
       "      <td>0.731371</td>\n",
       "      <td>0.298128</td>\n",
       "      <td>-1.277029</td>\n",
       "      <td>-0.997987</td>\n",
       "      <td>-0.291738</td>\n",
       "      <td>-1.392396</td>\n",
       "      <td>0.468113</td>\n",
       "    </tr>\n",
       "    <tr>\n",
       "      <th>6</th>\n",
       "      <td>-0.922206</td>\n",
       "      <td>-0.064764</td>\n",
       "      <td>-0.391559</td>\n",
       "      <td>-0.989715</td>\n",
       "      <td>-1.404041</td>\n",
       "      <td>-2.192225</td>\n",
       "      <td>-1.345070</td>\n",
       "      <td>-0.554120</td>\n",
       "      <td>0.565089</td>\n",
       "      <td>1.423884</td>\n",
       "      <td>...</td>\n",
       "      <td>0.263076</td>\n",
       "      <td>0.583638</td>\n",
       "      <td>1.779488</td>\n",
       "      <td>0.636580</td>\n",
       "      <td>2.515097</td>\n",
       "      <td>-0.278504</td>\n",
       "      <td>0.028236</td>\n",
       "      <td>1.270233</td>\n",
       "      <td>-0.805808</td>\n",
       "      <td>0.519161</td>\n",
       "    </tr>\n",
       "    <tr>\n",
       "      <th>7</th>\n",
       "      <td>0.059543</td>\n",
       "      <td>1.592124</td>\n",
       "      <td>1.063619</td>\n",
       "      <td>-1.032253</td>\n",
       "      <td>-0.806130</td>\n",
       "      <td>0.685073</td>\n",
       "      <td>0.625336</td>\n",
       "      <td>0.691499</td>\n",
       "      <td>0.949329</td>\n",
       "      <td>0.582569</td>\n",
       "      <td>...</td>\n",
       "      <td>-0.603931</td>\n",
       "      <td>-0.581503</td>\n",
       "      <td>-0.346134</td>\n",
       "      <td>-0.083600</td>\n",
       "      <td>0.191902</td>\n",
       "      <td>1.249723</td>\n",
       "      <td>0.200508</td>\n",
       "      <td>0.696415</td>\n",
       "      <td>0.210900</td>\n",
       "      <td>-0.427099</td>\n",
       "    </tr>\n",
       "    <tr>\n",
       "      <th>8</th>\n",
       "      <td>-1.409645</td>\n",
       "      <td>-0.173117</td>\n",
       "      <td>-0.350009</td>\n",
       "      <td>-1.109654</td>\n",
       "      <td>-1.237924</td>\n",
       "      <td>0.262304</td>\n",
       "      <td>0.816305</td>\n",
       "      <td>-0.881673</td>\n",
       "      <td>2.372266</td>\n",
       "      <td>0.438686</td>\n",
       "      <td>...</td>\n",
       "      <td>-0.427227</td>\n",
       "      <td>-0.127644</td>\n",
       "      <td>1.196953</td>\n",
       "      <td>1.078757</td>\n",
       "      <td>0.325376</td>\n",
       "      <td>-0.706994</td>\n",
       "      <td>-1.364865</td>\n",
       "      <td>1.242857</td>\n",
       "      <td>1.727079</td>\n",
       "      <td>2.759068</td>\n",
       "    </tr>\n",
       "    <tr>\n",
       "      <th>9</th>\n",
       "      <td>-0.656712</td>\n",
       "      <td>-0.121087</td>\n",
       "      <td>-1.489058</td>\n",
       "      <td>-0.385142</td>\n",
       "      <td>0.577602</td>\n",
       "      <td>-1.229459</td>\n",
       "      <td>-0.358081</td>\n",
       "      <td>0.454120</td>\n",
       "      <td>1.706587</td>\n",
       "      <td>-1.481767</td>\n",
       "      <td>...</td>\n",
       "      <td>-0.205602</td>\n",
       "      <td>-0.105960</td>\n",
       "      <td>-0.181468</td>\n",
       "      <td>-0.539269</td>\n",
       "      <td>0.790791</td>\n",
       "      <td>-0.704671</td>\n",
       "      <td>0.564957</td>\n",
       "      <td>0.429148</td>\n",
       "      <td>0.862870</td>\n",
       "      <td>-2.571514</td>\n",
       "    </tr>\n",
       "    <tr>\n",
       "      <th>10</th>\n",
       "      <td>-0.115765</td>\n",
       "      <td>-0.187579</td>\n",
       "      <td>-0.243219</td>\n",
       "      <td>1.650957</td>\n",
       "      <td>-0.272064</td>\n",
       "      <td>-0.488366</td>\n",
       "      <td>-0.304619</td>\n",
       "      <td>0.195527</td>\n",
       "      <td>1.576088</td>\n",
       "      <td>-0.277535</td>\n",
       "      <td>...</td>\n",
       "      <td>-0.189856</td>\n",
       "      <td>-0.016484</td>\n",
       "      <td>0.175246</td>\n",
       "      <td>0.097714</td>\n",
       "      <td>-0.307409</td>\n",
       "      <td>0.137414</td>\n",
       "      <td>0.032998</td>\n",
       "      <td>1.560240</td>\n",
       "      <td>0.820755</td>\n",
       "      <td>-1.037164</td>\n",
       "    </tr>\n",
       "    <tr>\n",
       "      <th>11</th>\n",
       "      <td>0.825978</td>\n",
       "      <td>-1.500163</td>\n",
       "      <td>-0.433034</td>\n",
       "      <td>-1.744909</td>\n",
       "      <td>2.176562</td>\n",
       "      <td>-0.741054</td>\n",
       "      <td>0.985715</td>\n",
       "      <td>1.378114</td>\n",
       "      <td>0.916068</td>\n",
       "      <td>1.367359</td>\n",
       "      <td>...</td>\n",
       "      <td>0.210086</td>\n",
       "      <td>0.529153</td>\n",
       "      <td>0.204599</td>\n",
       "      <td>-0.042698</td>\n",
       "      <td>-1.445376</td>\n",
       "      <td>-0.545526</td>\n",
       "      <td>-1.902298</td>\n",
       "      <td>1.698944</td>\n",
       "      <td>-0.748894</td>\n",
       "      <td>-1.530438</td>\n",
       "    </tr>\n",
       "    <tr>\n",
       "      <th>12</th>\n",
       "      <td>0.346450</td>\n",
       "      <td>-1.228737</td>\n",
       "      <td>-0.038791</td>\n",
       "      <td>-0.378885</td>\n",
       "      <td>1.436407</td>\n",
       "      <td>0.253504</td>\n",
       "      <td>-0.773110</td>\n",
       "      <td>-0.370561</td>\n",
       "      <td>0.264296</td>\n",
       "      <td>-0.282559</td>\n",
       "      <td>...</td>\n",
       "      <td>1.726559</td>\n",
       "      <td>1.320573</td>\n",
       "      <td>1.407051</td>\n",
       "      <td>0.956756</td>\n",
       "      <td>-0.462178</td>\n",
       "      <td>1.237348</td>\n",
       "      <td>-0.437141</td>\n",
       "      <td>-2.109933</td>\n",
       "      <td>1.560224</td>\n",
       "      <td>1.692381</td>\n",
       "    </tr>\n",
       "    <tr>\n",
       "      <th>13</th>\n",
       "      <td>-0.569549</td>\n",
       "      <td>0.855989</td>\n",
       "      <td>-0.057897</td>\n",
       "      <td>-0.679826</td>\n",
       "      <td>-1.025781</td>\n",
       "      <td>-0.749054</td>\n",
       "      <td>2.017286</td>\n",
       "      <td>0.804883</td>\n",
       "      <td>0.140770</td>\n",
       "      <td>1.096762</td>\n",
       "      <td>...</td>\n",
       "      <td>0.425689</td>\n",
       "      <td>0.684255</td>\n",
       "      <td>-0.730480</td>\n",
       "      <td>-0.810308</td>\n",
       "      <td>0.286564</td>\n",
       "      <td>-0.115167</td>\n",
       "      <td>-1.046251</td>\n",
       "      <td>-0.807240</td>\n",
       "      <td>-0.509583</td>\n",
       "      <td>0.300096</td>\n",
       "    </tr>\n",
       "    <tr>\n",
       "      <th>14</th>\n",
       "      <td>-0.131537</td>\n",
       "      <td>1.249855</td>\n",
       "      <td>-1.397762</td>\n",
       "      <td>-2.131584</td>\n",
       "      <td>0.298158</td>\n",
       "      <td>0.854232</td>\n",
       "      <td>-0.605265</td>\n",
       "      <td>0.740193</td>\n",
       "      <td>-1.672722</td>\n",
       "      <td>0.645298</td>\n",
       "      <td>...</td>\n",
       "      <td>0.230818</td>\n",
       "      <td>0.640030</td>\n",
       "      <td>-1.503089</td>\n",
       "      <td>0.314016</td>\n",
       "      <td>-0.000341</td>\n",
       "      <td>-0.188576</td>\n",
       "      <td>0.665139</td>\n",
       "      <td>-1.146654</td>\n",
       "      <td>1.071049</td>\n",
       "      <td>-0.643579</td>\n",
       "    </tr>\n",
       "    <tr>\n",
       "      <th>15</th>\n",
       "      <td>0.690229</td>\n",
       "      <td>-0.898081</td>\n",
       "      <td>-0.156187</td>\n",
       "      <td>-0.230172</td>\n",
       "      <td>-0.555966</td>\n",
       "      <td>0.354744</td>\n",
       "      <td>0.520390</td>\n",
       "      <td>0.070931</td>\n",
       "      <td>1.568677</td>\n",
       "      <td>0.610196</td>\n",
       "      <td>...</td>\n",
       "      <td>0.146904</td>\n",
       "      <td>0.252300</td>\n",
       "      <td>-1.305663</td>\n",
       "      <td>0.345203</td>\n",
       "      <td>-0.271390</td>\n",
       "      <td>-0.335445</td>\n",
       "      <td>-0.443117</td>\n",
       "      <td>-2.119410</td>\n",
       "      <td>-0.969547</td>\n",
       "      <td>0.056759</td>\n",
       "    </tr>\n",
       "    <tr>\n",
       "      <th>16</th>\n",
       "      <td>-0.909038</td>\n",
       "      <td>0.870206</td>\n",
       "      <td>-2.735982</td>\n",
       "      <td>0.466124</td>\n",
       "      <td>0.204653</td>\n",
       "      <td>2.651606</td>\n",
       "      <td>0.266984</td>\n",
       "      <td>0.122554</td>\n",
       "      <td>-0.390499</td>\n",
       "      <td>-0.076356</td>\n",
       "      <td>...</td>\n",
       "      <td>0.682763</td>\n",
       "      <td>-0.558269</td>\n",
       "      <td>-1.278102</td>\n",
       "      <td>1.403212</td>\n",
       "      <td>0.986357</td>\n",
       "      <td>-1.039042</td>\n",
       "      <td>0.179952</td>\n",
       "      <td>-1.382769</td>\n",
       "      <td>-1.436005</td>\n",
       "      <td>-1.265215</td>\n",
       "    </tr>\n",
       "    <tr>\n",
       "      <th>17</th>\n",
       "      <td>1.302642</td>\n",
       "      <td>-0.225253</td>\n",
       "      <td>0.775617</td>\n",
       "      <td>-1.800449</td>\n",
       "      <td>-1.191648</td>\n",
       "      <td>-0.303511</td>\n",
       "      <td>0.318984</td>\n",
       "      <td>0.012029</td>\n",
       "      <td>0.226263</td>\n",
       "      <td>0.607003</td>\n",
       "      <td>...</td>\n",
       "      <td>0.615246</td>\n",
       "      <td>-0.099880</td>\n",
       "      <td>1.145779</td>\n",
       "      <td>0.178372</td>\n",
       "      <td>0.493799</td>\n",
       "      <td>2.098071</td>\n",
       "      <td>-0.504088</td>\n",
       "      <td>0.975307</td>\n",
       "      <td>0.424573</td>\n",
       "      <td>0.278177</td>\n",
       "    </tr>\n",
       "    <tr>\n",
       "      <th>18</th>\n",
       "      <td>-1.672695</td>\n",
       "      <td>0.450289</td>\n",
       "      <td>0.614156</td>\n",
       "      <td>0.626290</td>\n",
       "      <td>0.235092</td>\n",
       "      <td>-1.686913</td>\n",
       "      <td>-0.347158</td>\n",
       "      <td>-0.625985</td>\n",
       "      <td>1.324377</td>\n",
       "      <td>-0.356783</td>\n",
       "      <td>...</td>\n",
       "      <td>-0.715490</td>\n",
       "      <td>0.225333</td>\n",
       "      <td>0.771537</td>\n",
       "      <td>0.439871</td>\n",
       "      <td>-0.143558</td>\n",
       "      <td>1.189881</td>\n",
       "      <td>-0.297914</td>\n",
       "      <td>-0.815841</td>\n",
       "      <td>-0.688211</td>\n",
       "      <td>-0.499156</td>\n",
       "    </tr>\n",
       "    <tr>\n",
       "      <th>19</th>\n",
       "      <td>-0.525504</td>\n",
       "      <td>0.551440</td>\n",
       "      <td>2.019194</td>\n",
       "      <td>-0.097723</td>\n",
       "      <td>0.670965</td>\n",
       "      <td>-0.142455</td>\n",
       "      <td>0.072211</td>\n",
       "      <td>-0.411758</td>\n",
       "      <td>-0.502616</td>\n",
       "      <td>-0.965128</td>\n",
       "      <td>...</td>\n",
       "      <td>-0.197562</td>\n",
       "      <td>-0.586523</td>\n",
       "      <td>-0.140592</td>\n",
       "      <td>-0.413133</td>\n",
       "      <td>1.882245</td>\n",
       "      <td>-0.488302</td>\n",
       "      <td>1.380388</td>\n",
       "      <td>-1.797123</td>\n",
       "      <td>-0.413003</td>\n",
       "      <td>-0.442702</td>\n",
       "    </tr>\n",
       "    <tr>\n",
       "      <th>20</th>\n",
       "      <td>0.797970</td>\n",
       "      <td>0.146294</td>\n",
       "      <td>1.081139</td>\n",
       "      <td>-0.299711</td>\n",
       "      <td>0.130799</td>\n",
       "      <td>-1.155041</td>\n",
       "      <td>-0.023922</td>\n",
       "      <td>-0.479532</td>\n",
       "      <td>-0.175790</td>\n",
       "      <td>3.810641</td>\n",
       "      <td>...</td>\n",
       "      <td>1.644762</td>\n",
       "      <td>-0.327635</td>\n",
       "      <td>-0.433659</td>\n",
       "      <td>-1.447535</td>\n",
       "      <td>0.651650</td>\n",
       "      <td>-1.131076</td>\n",
       "      <td>-1.166284</td>\n",
       "      <td>1.583854</td>\n",
       "      <td>-0.367009</td>\n",
       "      <td>1.204610</td>\n",
       "    </tr>\n",
       "    <tr>\n",
       "      <th>21</th>\n",
       "      <td>-0.689793</td>\n",
       "      <td>0.129740</td>\n",
       "      <td>-1.076618</td>\n",
       "      <td>-0.529559</td>\n",
       "      <td>1.068994</td>\n",
       "      <td>-1.663616</td>\n",
       "      <td>0.640895</td>\n",
       "      <td>2.071019</td>\n",
       "      <td>-1.069898</td>\n",
       "      <td>3.524993</td>\n",
       "      <td>...</td>\n",
       "      <td>0.247933</td>\n",
       "      <td>1.448734</td>\n",
       "      <td>-0.416883</td>\n",
       "      <td>-0.562070</td>\n",
       "      <td>-1.494485</td>\n",
       "      <td>0.532700</td>\n",
       "      <td>1.143079</td>\n",
       "      <td>1.546694</td>\n",
       "      <td>-2.349555</td>\n",
       "      <td>0.311026</td>\n",
       "    </tr>\n",
       "    <tr>\n",
       "      <th>22</th>\n",
       "      <td>0.899531</td>\n",
       "      <td>1.304229</td>\n",
       "      <td>-0.243418</td>\n",
       "      <td>-2.023567</td>\n",
       "      <td>1.230987</td>\n",
       "      <td>0.401222</td>\n",
       "      <td>0.134736</td>\n",
       "      <td>2.147213</td>\n",
       "      <td>-0.464928</td>\n",
       "      <td>2.198272</td>\n",
       "      <td>...</td>\n",
       "      <td>-0.655502</td>\n",
       "      <td>2.045453</td>\n",
       "      <td>0.520641</td>\n",
       "      <td>1.774069</td>\n",
       "      <td>-0.885706</td>\n",
       "      <td>1.715767</td>\n",
       "      <td>0.411273</td>\n",
       "      <td>1.932612</td>\n",
       "      <td>1.323857</td>\n",
       "      <td>-0.886118</td>\n",
       "    </tr>\n",
       "    <tr>\n",
       "      <th>23</th>\n",
       "      <td>0.428581</td>\n",
       "      <td>-1.661908</td>\n",
       "      <td>0.513482</td>\n",
       "      <td>-0.510840</td>\n",
       "      <td>1.134469</td>\n",
       "      <td>-0.424682</td>\n",
       "      <td>-1.447761</td>\n",
       "      <td>-0.271481</td>\n",
       "      <td>0.279239</td>\n",
       "      <td>2.346375</td>\n",
       "      <td>...</td>\n",
       "      <td>0.422054</td>\n",
       "      <td>1.369483</td>\n",
       "      <td>-0.545482</td>\n",
       "      <td>0.219935</td>\n",
       "      <td>0.826793</td>\n",
       "      <td>-0.584761</td>\n",
       "      <td>1.201187</td>\n",
       "      <td>-1.480001</td>\n",
       "      <td>-0.777649</td>\n",
       "      <td>-0.246301</td>\n",
       "    </tr>\n",
       "    <tr>\n",
       "      <th>24</th>\n",
       "      <td>-0.676114</td>\n",
       "      <td>-1.630376</td>\n",
       "      <td>-0.512858</td>\n",
       "      <td>0.046003</td>\n",
       "      <td>0.556368</td>\n",
       "      <td>1.375743</td>\n",
       "      <td>-0.655116</td>\n",
       "      <td>0.542169</td>\n",
       "      <td>-0.363173</td>\n",
       "      <td>3.135629</td>\n",
       "      <td>...</td>\n",
       "      <td>0.067946</td>\n",
       "      <td>-0.259028</td>\n",
       "      <td>-0.285758</td>\n",
       "      <td>-0.748426</td>\n",
       "      <td>-0.078125</td>\n",
       "      <td>-1.416804</td>\n",
       "      <td>0.215367</td>\n",
       "      <td>-0.721724</td>\n",
       "      <td>-0.052395</td>\n",
       "      <td>-0.888155</td>\n",
       "    </tr>\n",
       "    <tr>\n",
       "      <th>25</th>\n",
       "      <td>-0.534095</td>\n",
       "      <td>-0.077425</td>\n",
       "      <td>2.551676</td>\n",
       "      <td>1.268030</td>\n",
       "      <td>-0.358766</td>\n",
       "      <td>-0.754978</td>\n",
       "      <td>-1.368402</td>\n",
       "      <td>0.583574</td>\n",
       "      <td>-0.709282</td>\n",
       "      <td>1.574138</td>\n",
       "      <td>...</td>\n",
       "      <td>0.015234</td>\n",
       "      <td>-1.407117</td>\n",
       "      <td>0.498203</td>\n",
       "      <td>0.016735</td>\n",
       "      <td>1.152476</td>\n",
       "      <td>-0.934369</td>\n",
       "      <td>-0.072307</td>\n",
       "      <td>0.166487</td>\n",
       "      <td>1.011977</td>\n",
       "      <td>-0.487949</td>\n",
       "    </tr>\n",
       "    <tr>\n",
       "      <th>26</th>\n",
       "      <td>-1.732507</td>\n",
       "      <td>1.306182</td>\n",
       "      <td>-2.314301</td>\n",
       "      <td>-0.743987</td>\n",
       "      <td>1.079865</td>\n",
       "      <td>-0.091307</td>\n",
       "      <td>1.281157</td>\n",
       "      <td>-0.712774</td>\n",
       "      <td>-1.398798</td>\n",
       "      <td>1.473596</td>\n",
       "      <td>...</td>\n",
       "      <td>0.146329</td>\n",
       "      <td>0.869550</td>\n",
       "      <td>0.373024</td>\n",
       "      <td>0.013928</td>\n",
       "      <td>0.853654</td>\n",
       "      <td>-0.825359</td>\n",
       "      <td>-0.171082</td>\n",
       "      <td>0.790498</td>\n",
       "      <td>1.719617</td>\n",
       "      <td>0.923207</td>\n",
       "    </tr>\n",
       "    <tr>\n",
       "      <th>27</th>\n",
       "      <td>-1.603447</td>\n",
       "      <td>0.792600</td>\n",
       "      <td>-1.276470</td>\n",
       "      <td>0.223132</td>\n",
       "      <td>-0.206490</td>\n",
       "      <td>0.078280</td>\n",
       "      <td>0.399954</td>\n",
       "      <td>-1.053290</td>\n",
       "      <td>0.123811</td>\n",
       "      <td>1.680235</td>\n",
       "      <td>...</td>\n",
       "      <td>0.614378</td>\n",
       "      <td>1.089907</td>\n",
       "      <td>1.459461</td>\n",
       "      <td>0.359534</td>\n",
       "      <td>0.402255</td>\n",
       "      <td>-0.096313</td>\n",
       "      <td>-0.523842</td>\n",
       "      <td>-0.231710</td>\n",
       "      <td>-0.571475</td>\n",
       "      <td>-0.564243</td>\n",
       "    </tr>\n",
       "    <tr>\n",
       "      <th>28</th>\n",
       "      <td>-1.083620</td>\n",
       "      <td>1.559465</td>\n",
       "      <td>-1.229271</td>\n",
       "      <td>0.858463</td>\n",
       "      <td>-0.006165</td>\n",
       "      <td>0.969986</td>\n",
       "      <td>1.766725</td>\n",
       "      <td>-0.792966</td>\n",
       "      <td>0.340306</td>\n",
       "      <td>3.015593</td>\n",
       "      <td>...</td>\n",
       "      <td>-0.401514</td>\n",
       "      <td>0.629989</td>\n",
       "      <td>1.637902</td>\n",
       "      <td>0.430283</td>\n",
       "      <td>0.239163</td>\n",
       "      <td>-0.503350</td>\n",
       "      <td>1.125239</td>\n",
       "      <td>-1.906912</td>\n",
       "      <td>1.165922</td>\n",
       "      <td>0.174598</td>\n",
       "    </tr>\n",
       "    <tr>\n",
       "      <th>29</th>\n",
       "      <td>0.033422</td>\n",
       "      <td>-0.688512</td>\n",
       "      <td>1.434396</td>\n",
       "      <td>0.274726</td>\n",
       "      <td>0.164255</td>\n",
       "      <td>1.052131</td>\n",
       "      <td>0.108889</td>\n",
       "      <td>-1.219865</td>\n",
       "      <td>-0.144773</td>\n",
       "      <td>2.280847</td>\n",
       "      <td>...</td>\n",
       "      <td>0.216282</td>\n",
       "      <td>-0.587752</td>\n",
       "      <td>0.735038</td>\n",
       "      <td>-1.296073</td>\n",
       "      <td>1.045731</td>\n",
       "      <td>-0.216360</td>\n",
       "      <td>-1.952056</td>\n",
       "      <td>-0.718626</td>\n",
       "      <td>1.456871</td>\n",
       "      <td>-0.359066</td>\n",
       "    </tr>\n",
       "    <tr>\n",
       "      <th>30</th>\n",
       "      <td>1.700708</td>\n",
       "      <td>-0.615472</td>\n",
       "      <td>-0.284277</td>\n",
       "      <td>-0.692998</td>\n",
       "      <td>1.156737</td>\n",
       "      <td>-1.706679</td>\n",
       "      <td>0.742530</td>\n",
       "      <td>-1.201160</td>\n",
       "      <td>-0.792698</td>\n",
       "      <td>0.681233</td>\n",
       "      <td>...</td>\n",
       "      <td>-0.017899</td>\n",
       "      <td>1.036959</td>\n",
       "      <td>0.246202</td>\n",
       "      <td>0.989132</td>\n",
       "      <td>-1.421523</td>\n",
       "      <td>0.842161</td>\n",
       "      <td>-1.012523</td>\n",
       "      <td>0.135085</td>\n",
       "      <td>0.109018</td>\n",
       "      <td>-1.105732</td>\n",
       "    </tr>\n",
       "    <tr>\n",
       "      <th>31</th>\n",
       "      <td>0.007290</td>\n",
       "      <td>0.009999</td>\n",
       "      <td>0.198946</td>\n",
       "      <td>-0.845707</td>\n",
       "      <td>0.241775</td>\n",
       "      <td>-0.272883</td>\n",
       "      <td>0.906267</td>\n",
       "      <td>-0.190726</td>\n",
       "      <td>-0.249607</td>\n",
       "      <td>0.146994</td>\n",
       "      <td>...</td>\n",
       "      <td>-0.231747</td>\n",
       "      <td>-0.667394</td>\n",
       "      <td>-1.361881</td>\n",
       "      <td>-1.234378</td>\n",
       "      <td>-0.311045</td>\n",
       "      <td>-0.762154</td>\n",
       "      <td>0.593252</td>\n",
       "      <td>-0.732077</td>\n",
       "      <td>-0.128522</td>\n",
       "      <td>-0.876950</td>\n",
       "    </tr>\n",
       "    <tr>\n",
       "      <th>32</th>\n",
       "      <td>0.099062</td>\n",
       "      <td>0.945810</td>\n",
       "      <td>-0.091833</td>\n",
       "      <td>-0.177497</td>\n",
       "      <td>0.088640</td>\n",
       "      <td>-1.767506</td>\n",
       "      <td>-0.628453</td>\n",
       "      <td>-0.434516</td>\n",
       "      <td>-0.670957</td>\n",
       "      <td>2.572552</td>\n",
       "      <td>...</td>\n",
       "      <td>1.342449</td>\n",
       "      <td>-0.401456</td>\n",
       "      <td>-0.309532</td>\n",
       "      <td>-0.227191</td>\n",
       "      <td>0.914104</td>\n",
       "      <td>0.546881</td>\n",
       "      <td>-0.594506</td>\n",
       "      <td>-0.037468</td>\n",
       "      <td>0.860270</td>\n",
       "      <td>-0.298792</td>\n",
       "    </tr>\n",
       "    <tr>\n",
       "      <th>33</th>\n",
       "      <td>0.563853</td>\n",
       "      <td>-0.318521</td>\n",
       "      <td>0.349628</td>\n",
       "      <td>-0.166491</td>\n",
       "      <td>0.182954</td>\n",
       "      <td>0.412261</td>\n",
       "      <td>-0.550899</td>\n",
       "      <td>-1.365349</td>\n",
       "      <td>-1.050847</td>\n",
       "      <td>3.430821</td>\n",
       "      <td>...</td>\n",
       "      <td>-1.008630</td>\n",
       "      <td>-1.593596</td>\n",
       "      <td>-0.087040</td>\n",
       "      <td>-0.248620</td>\n",
       "      <td>-1.549967</td>\n",
       "      <td>1.586981</td>\n",
       "      <td>-1.443559</td>\n",
       "      <td>-0.836689</td>\n",
       "      <td>0.765015</td>\n",
       "      <td>-0.576146</td>\n",
       "    </tr>\n",
       "    <tr>\n",
       "      <th>34</th>\n",
       "      <td>-0.257275</td>\n",
       "      <td>-0.117889</td>\n",
       "      <td>-0.298910</td>\n",
       "      <td>1.483155</td>\n",
       "      <td>0.942677</td>\n",
       "      <td>0.707907</td>\n",
       "      <td>-0.710504</td>\n",
       "      <td>0.138637</td>\n",
       "      <td>0.064282</td>\n",
       "      <td>2.278654</td>\n",
       "      <td>...</td>\n",
       "      <td>-1.281250</td>\n",
       "      <td>1.388591</td>\n",
       "      <td>-1.698148</td>\n",
       "      <td>0.185019</td>\n",
       "      <td>1.324033</td>\n",
       "      <td>-0.242043</td>\n",
       "      <td>-0.028870</td>\n",
       "      <td>0.020274</td>\n",
       "      <td>-2.360090</td>\n",
       "      <td>-1.196780</td>\n",
       "    </tr>\n",
       "    <tr>\n",
       "      <th>35</th>\n",
       "      <td>-0.581781</td>\n",
       "      <td>0.621366</td>\n",
       "      <td>1.513696</td>\n",
       "      <td>-1.687946</td>\n",
       "      <td>-0.209600</td>\n",
       "      <td>1.046001</td>\n",
       "      <td>0.734773</td>\n",
       "      <td>0.956855</td>\n",
       "      <td>1.413005</td>\n",
       "      <td>1.649749</td>\n",
       "      <td>...</td>\n",
       "      <td>0.241465</td>\n",
       "      <td>-0.876963</td>\n",
       "      <td>-0.480112</td>\n",
       "      <td>0.264909</td>\n",
       "      <td>1.027569</td>\n",
       "      <td>0.507189</td>\n",
       "      <td>0.052170</td>\n",
       "      <td>-0.803306</td>\n",
       "      <td>0.252699</td>\n",
       "      <td>0.409031</td>\n",
       "    </tr>\n",
       "    <tr>\n",
       "      <th>36</th>\n",
       "      <td>-0.169887</td>\n",
       "      <td>-0.070764</td>\n",
       "      <td>0.671185</td>\n",
       "      <td>-0.141430</td>\n",
       "      <td>0.536262</td>\n",
       "      <td>-0.275772</td>\n",
       "      <td>0.728955</td>\n",
       "      <td>-1.052269</td>\n",
       "      <td>0.290409</td>\n",
       "      <td>1.685545</td>\n",
       "      <td>...</td>\n",
       "      <td>0.527906</td>\n",
       "      <td>-2.420576</td>\n",
       "      <td>-1.385459</td>\n",
       "      <td>-0.155981</td>\n",
       "      <td>0.464695</td>\n",
       "      <td>1.297424</td>\n",
       "      <td>-0.867227</td>\n",
       "      <td>-0.907277</td>\n",
       "      <td>-1.461818</td>\n",
       "      <td>-0.032282</td>\n",
       "    </tr>\n",
       "    <tr>\n",
       "      <th>37</th>\n",
       "      <td>-0.542304</td>\n",
       "      <td>0.401682</td>\n",
       "      <td>0.010855</td>\n",
       "      <td>0.200778</td>\n",
       "      <td>-1.185226</td>\n",
       "      <td>-0.180286</td>\n",
       "      <td>-0.022312</td>\n",
       "      <td>-0.418607</td>\n",
       "      <td>0.519561</td>\n",
       "      <td>1.696202</td>\n",
       "      <td>...</td>\n",
       "      <td>0.231124</td>\n",
       "      <td>-0.109711</td>\n",
       "      <td>0.289388</td>\n",
       "      <td>-1.318970</td>\n",
       "      <td>-1.259852</td>\n",
       "      <td>0.314290</td>\n",
       "      <td>0.228531</td>\n",
       "      <td>-0.781791</td>\n",
       "      <td>-0.812342</td>\n",
       "      <td>-0.562064</td>\n",
       "    </tr>\n",
       "    <tr>\n",
       "      <th>38</th>\n",
       "      <td>0.312939</td>\n",
       "      <td>-0.016227</td>\n",
       "      <td>-1.043689</td>\n",
       "      <td>-0.675942</td>\n",
       "      <td>-0.422748</td>\n",
       "      <td>0.335658</td>\n",
       "      <td>0.965941</td>\n",
       "      <td>-1.134572</td>\n",
       "      <td>-0.949221</td>\n",
       "      <td>1.898409</td>\n",
       "      <td>...</td>\n",
       "      <td>0.427988</td>\n",
       "      <td>1.768674</td>\n",
       "      <td>0.739277</td>\n",
       "      <td>-0.401478</td>\n",
       "      <td>0.737909</td>\n",
       "      <td>-1.513097</td>\n",
       "      <td>-0.207759</td>\n",
       "      <td>0.069908</td>\n",
       "      <td>-1.095099</td>\n",
       "      <td>-0.315811</td>\n",
       "    </tr>\n",
       "    <tr>\n",
       "      <th>39</th>\n",
       "      <td>-1.284377</td>\n",
       "      <td>-0.526553</td>\n",
       "      <td>1.625275</td>\n",
       "      <td>2.220611</td>\n",
       "      <td>0.624360</td>\n",
       "      <td>-0.489265</td>\n",
       "      <td>-1.298200</td>\n",
       "      <td>-0.333719</td>\n",
       "      <td>0.722572</td>\n",
       "      <td>2.156966</td>\n",
       "      <td>...</td>\n",
       "      <td>-1.385103</td>\n",
       "      <td>1.490871</td>\n",
       "      <td>-1.067035</td>\n",
       "      <td>0.185938</td>\n",
       "      <td>0.957475</td>\n",
       "      <td>-0.074709</td>\n",
       "      <td>-0.209665</td>\n",
       "      <td>1.336894</td>\n",
       "      <td>-1.460114</td>\n",
       "      <td>0.192863</td>\n",
       "    </tr>\n",
       "  </tbody>\n",
       "</table>\n",
       "<p>40 rows × 999 columns</p>\n",
       "</div>"
      ],
      "text/plain": [
       "         0         1         2         3         4         5         6    \\\n",
       "0  -0.292526  0.258788 -1.152132  0.195783  0.030124  0.085418  1.116610   \n",
       "1  -1.139267 -0.972845 -2.213168  0.593306 -0.691014 -1.113054  1.341700   \n",
       "2   0.195837  0.588486 -0.861525  0.282992 -0.403426 -0.677969  0.103278   \n",
       "3  -1.281121 -0.800258  0.630925  0.247147 -0.729859 -0.562929  0.390963   \n",
       "4  -0.251439 -1.820398  0.951772  1.978668 -0.364099  0.938194 -1.927491   \n",
       "5   2.511997 -2.058924 -1.165724 -0.871018  1.125349  0.118809  0.451692   \n",
       "6  -0.922206 -0.064764 -0.391559 -0.989715 -1.404041 -2.192225 -1.345070   \n",
       "7   0.059543  1.592124  1.063619 -1.032253 -0.806130  0.685073  0.625336   \n",
       "8  -1.409645 -0.173117 -0.350009 -1.109654 -1.237924  0.262304  0.816305   \n",
       "9  -0.656712 -0.121087 -1.489058 -0.385142  0.577602 -1.229459 -0.358081   \n",
       "10 -0.115765 -0.187579 -0.243219  1.650957 -0.272064 -0.488366 -0.304619   \n",
       "11  0.825978 -1.500163 -0.433034 -1.744909  2.176562 -0.741054  0.985715   \n",
       "12  0.346450 -1.228737 -0.038791 -0.378885  1.436407  0.253504 -0.773110   \n",
       "13 -0.569549  0.855989 -0.057897 -0.679826 -1.025781 -0.749054  2.017286   \n",
       "14 -0.131537  1.249855 -1.397762 -2.131584  0.298158  0.854232 -0.605265   \n",
       "15  0.690229 -0.898081 -0.156187 -0.230172 -0.555966  0.354744  0.520390   \n",
       "16 -0.909038  0.870206 -2.735982  0.466124  0.204653  2.651606  0.266984   \n",
       "17  1.302642 -0.225253  0.775617 -1.800449 -1.191648 -0.303511  0.318984   \n",
       "18 -1.672695  0.450289  0.614156  0.626290  0.235092 -1.686913 -0.347158   \n",
       "19 -0.525504  0.551440  2.019194 -0.097723  0.670965 -0.142455  0.072211   \n",
       "20  0.797970  0.146294  1.081139 -0.299711  0.130799 -1.155041 -0.023922   \n",
       "21 -0.689793  0.129740 -1.076618 -0.529559  1.068994 -1.663616  0.640895   \n",
       "22  0.899531  1.304229 -0.243418 -2.023567  1.230987  0.401222  0.134736   \n",
       "23  0.428581 -1.661908  0.513482 -0.510840  1.134469 -0.424682 -1.447761   \n",
       "24 -0.676114 -1.630376 -0.512858  0.046003  0.556368  1.375743 -0.655116   \n",
       "25 -0.534095 -0.077425  2.551676  1.268030 -0.358766 -0.754978 -1.368402   \n",
       "26 -1.732507  1.306182 -2.314301 -0.743987  1.079865 -0.091307  1.281157   \n",
       "27 -1.603447  0.792600 -1.276470  0.223132 -0.206490  0.078280  0.399954   \n",
       "28 -1.083620  1.559465 -1.229271  0.858463 -0.006165  0.969986  1.766725   \n",
       "29  0.033422 -0.688512  1.434396  0.274726  0.164255  1.052131  0.108889   \n",
       "30  1.700708 -0.615472 -0.284277 -0.692998  1.156737 -1.706679  0.742530   \n",
       "31  0.007290  0.009999  0.198946 -0.845707  0.241775 -0.272883  0.906267   \n",
       "32  0.099062  0.945810 -0.091833 -0.177497  0.088640 -1.767506 -0.628453   \n",
       "33  0.563853 -0.318521  0.349628 -0.166491  0.182954  0.412261 -0.550899   \n",
       "34 -0.257275 -0.117889 -0.298910  1.483155  0.942677  0.707907 -0.710504   \n",
       "35 -0.581781  0.621366  1.513696 -1.687946 -0.209600  1.046001  0.734773   \n",
       "36 -0.169887 -0.070764  0.671185 -0.141430  0.536262 -0.275772  0.728955   \n",
       "37 -0.542304  0.401682  0.010855  0.200778 -1.185226 -0.180286 -0.022312   \n",
       "38  0.312939 -0.016227 -1.043689 -0.675942 -0.422748  0.335658  0.965941   \n",
       "39 -1.284377 -0.526553  1.625275  2.220611  0.624360 -0.489265 -1.298200   \n",
       "\n",
       "         7         8         9    ...       989       990       991       992  \\\n",
       "0  -1.218857  1.267369 -0.744782  ...  1.325041 -0.116171 -1.470146 -0.379272   \n",
       "1  -1.277279 -0.918349  0.796082  ...  0.740838 -0.162392 -0.633375 -0.895521   \n",
       "2  -0.558925 -1.253500  0.578544  ... -0.435533 -0.235912  1.446660 -1.127459   \n",
       "3  -1.344493 -1.067114 -1.128211  ... -3.065529  1.597294  0.737478 -0.631248   \n",
       "4   1.159115 -0.240638 -1.070943  ... -2.378938 -0.086946 -0.122342  1.418029   \n",
       "5  -1.501044  1.163889 -0.406788  ...  0.101693  1.019600 -0.553600  0.731371   \n",
       "6  -0.554120  0.565089  1.423884  ...  0.263076  0.583638  1.779488  0.636580   \n",
       "7   0.691499  0.949329  0.582569  ... -0.603931 -0.581503 -0.346134 -0.083600   \n",
       "8  -0.881673  2.372266  0.438686  ... -0.427227 -0.127644  1.196953  1.078757   \n",
       "9   0.454120  1.706587 -1.481767  ... -0.205602 -0.105960 -0.181468 -0.539269   \n",
       "10  0.195527  1.576088 -0.277535  ... -0.189856 -0.016484  0.175246  0.097714   \n",
       "11  1.378114  0.916068  1.367359  ...  0.210086  0.529153  0.204599 -0.042698   \n",
       "12 -0.370561  0.264296 -0.282559  ...  1.726559  1.320573  1.407051  0.956756   \n",
       "13  0.804883  0.140770  1.096762  ...  0.425689  0.684255 -0.730480 -0.810308   \n",
       "14  0.740193 -1.672722  0.645298  ...  0.230818  0.640030 -1.503089  0.314016   \n",
       "15  0.070931  1.568677  0.610196  ...  0.146904  0.252300 -1.305663  0.345203   \n",
       "16  0.122554 -0.390499 -0.076356  ...  0.682763 -0.558269 -1.278102  1.403212   \n",
       "17  0.012029  0.226263  0.607003  ...  0.615246 -0.099880  1.145779  0.178372   \n",
       "18 -0.625985  1.324377 -0.356783  ... -0.715490  0.225333  0.771537  0.439871   \n",
       "19 -0.411758 -0.502616 -0.965128  ... -0.197562 -0.586523 -0.140592 -0.413133   \n",
       "20 -0.479532 -0.175790  3.810641  ...  1.644762 -0.327635 -0.433659 -1.447535   \n",
       "21  2.071019 -1.069898  3.524993  ...  0.247933  1.448734 -0.416883 -0.562070   \n",
       "22  2.147213 -0.464928  2.198272  ... -0.655502  2.045453  0.520641  1.774069   \n",
       "23 -0.271481  0.279239  2.346375  ...  0.422054  1.369483 -0.545482  0.219935   \n",
       "24  0.542169 -0.363173  3.135629  ...  0.067946 -0.259028 -0.285758 -0.748426   \n",
       "25  0.583574 -0.709282  1.574138  ...  0.015234 -1.407117  0.498203  0.016735   \n",
       "26 -0.712774 -1.398798  1.473596  ...  0.146329  0.869550  0.373024  0.013928   \n",
       "27 -1.053290  0.123811  1.680235  ...  0.614378  1.089907  1.459461  0.359534   \n",
       "28 -0.792966  0.340306  3.015593  ... -0.401514  0.629989  1.637902  0.430283   \n",
       "29 -1.219865 -0.144773  2.280847  ...  0.216282 -0.587752  0.735038 -1.296073   \n",
       "30 -1.201160 -0.792698  0.681233  ... -0.017899  1.036959  0.246202  0.989132   \n",
       "31 -0.190726 -0.249607  0.146994  ... -0.231747 -0.667394 -1.361881 -1.234378   \n",
       "32 -0.434516 -0.670957  2.572552  ...  1.342449 -0.401456 -0.309532 -0.227191   \n",
       "33 -1.365349 -1.050847  3.430821  ... -1.008630 -1.593596 -0.087040 -0.248620   \n",
       "34  0.138637  0.064282  2.278654  ... -1.281250  1.388591 -1.698148  0.185019   \n",
       "35  0.956855  1.413005  1.649749  ...  0.241465 -0.876963 -0.480112  0.264909   \n",
       "36 -1.052269  0.290409  1.685545  ...  0.527906 -2.420576 -1.385459 -0.155981   \n",
       "37 -0.418607  0.519561  1.696202  ...  0.231124 -0.109711  0.289388 -1.318970   \n",
       "38 -1.134572 -0.949221  1.898409  ...  0.427988  1.768674  0.739277 -0.401478   \n",
       "39 -0.333719  0.722572  2.156966  ... -1.385103  1.490871 -1.067035  0.185938   \n",
       "\n",
       "         993       994       995       996       997       998  \n",
       "0  -1.465006  1.075148 -1.226125 -3.056328  1.450658  0.717977  \n",
       "1   2.034465  3.003267 -0.501702  0.449889  1.310348  0.763482  \n",
       "2   0.440849 -0.123441 -0.717430  1.880362  0.383837  0.313576  \n",
       "3  -0.530442 -1.036740 -0.169113 -0.742841 -0.408860 -0.326473  \n",
       "4   1.075337 -1.270604  0.599530  2.238346 -0.471111 -0.158700  \n",
       "5   0.298128 -1.277029 -0.997987 -0.291738 -1.392396  0.468113  \n",
       "6   2.515097 -0.278504  0.028236  1.270233 -0.805808  0.519161  \n",
       "7   0.191902  1.249723  0.200508  0.696415  0.210900 -0.427099  \n",
       "8   0.325376 -0.706994 -1.364865  1.242857  1.727079  2.759068  \n",
       "9   0.790791 -0.704671  0.564957  0.429148  0.862870 -2.571514  \n",
       "10 -0.307409  0.137414  0.032998  1.560240  0.820755 -1.037164  \n",
       "11 -1.445376 -0.545526 -1.902298  1.698944 -0.748894 -1.530438  \n",
       "12 -0.462178  1.237348 -0.437141 -2.109933  1.560224  1.692381  \n",
       "13  0.286564 -0.115167 -1.046251 -0.807240 -0.509583  0.300096  \n",
       "14 -0.000341 -0.188576  0.665139 -1.146654  1.071049 -0.643579  \n",
       "15 -0.271390 -0.335445 -0.443117 -2.119410 -0.969547  0.056759  \n",
       "16  0.986357 -1.039042  0.179952 -1.382769 -1.436005 -1.265215  \n",
       "17  0.493799  2.098071 -0.504088  0.975307  0.424573  0.278177  \n",
       "18 -0.143558  1.189881 -0.297914 -0.815841 -0.688211 -0.499156  \n",
       "19  1.882245 -0.488302  1.380388 -1.797123 -0.413003 -0.442702  \n",
       "20  0.651650 -1.131076 -1.166284  1.583854 -0.367009  1.204610  \n",
       "21 -1.494485  0.532700  1.143079  1.546694 -2.349555  0.311026  \n",
       "22 -0.885706  1.715767  0.411273  1.932612  1.323857 -0.886118  \n",
       "23  0.826793 -0.584761  1.201187 -1.480001 -0.777649 -0.246301  \n",
       "24 -0.078125 -1.416804  0.215367 -0.721724 -0.052395 -0.888155  \n",
       "25  1.152476 -0.934369 -0.072307  0.166487  1.011977 -0.487949  \n",
       "26  0.853654 -0.825359 -0.171082  0.790498  1.719617  0.923207  \n",
       "27  0.402255 -0.096313 -0.523842 -0.231710 -0.571475 -0.564243  \n",
       "28  0.239163 -0.503350  1.125239 -1.906912  1.165922  0.174598  \n",
       "29  1.045731 -0.216360 -1.952056 -0.718626  1.456871 -0.359066  \n",
       "30 -1.421523  0.842161 -1.012523  0.135085  0.109018 -1.105732  \n",
       "31 -0.311045 -0.762154  0.593252 -0.732077 -0.128522 -0.876950  \n",
       "32  0.914104  0.546881 -0.594506 -0.037468  0.860270 -0.298792  \n",
       "33 -1.549967  1.586981 -1.443559 -0.836689  0.765015 -0.576146  \n",
       "34  1.324033 -0.242043 -0.028870  0.020274 -2.360090 -1.196780  \n",
       "35  1.027569  0.507189  0.052170 -0.803306  0.252699  0.409031  \n",
       "36  0.464695  1.297424 -0.867227 -0.907277 -1.461818 -0.032282  \n",
       "37 -1.259852  0.314290  0.228531 -0.781791 -0.812342 -0.562064  \n",
       "38  0.737909 -1.513097 -0.207759  0.069908 -1.095099 -0.315811  \n",
       "39  0.957475 -0.074709 -0.209665  1.336894 -1.460114  0.192863  \n",
       "\n",
       "[40 rows x 999 columns]"
      ]
     },
     "execution_count": 1012,
     "metadata": {},
     "output_type": "execute_result"
    }
   ],
   "source": [
    "gene_df"
   ]
  },
  {
   "cell_type": "code",
   "execution_count": 1013,
   "metadata": {},
   "outputs": [],
   "source": [
    "gene_scaled = scaler.fit_transform(gene_df)"
   ]
  },
  {
   "cell_type": "code",
   "execution_count": 1014,
   "metadata": {},
   "outputs": [
    {
     "data": {
      "text/html": [
       "<style>#sk-container-id-33 {color: black;background-color: white;}#sk-container-id-33 pre{padding: 0;}#sk-container-id-33 div.sk-toggleable {background-color: white;}#sk-container-id-33 label.sk-toggleable__label {cursor: pointer;display: block;width: 100%;margin-bottom: 0;padding: 0.3em;box-sizing: border-box;text-align: center;}#sk-container-id-33 label.sk-toggleable__label-arrow:before {content: \"▸\";float: left;margin-right: 0.25em;color: #696969;}#sk-container-id-33 label.sk-toggleable__label-arrow:hover:before {color: black;}#sk-container-id-33 div.sk-estimator:hover label.sk-toggleable__label-arrow:before {color: black;}#sk-container-id-33 div.sk-toggleable__content {max-height: 0;max-width: 0;overflow: hidden;text-align: left;background-color: #f0f8ff;}#sk-container-id-33 div.sk-toggleable__content pre {margin: 0.2em;color: black;border-radius: 0.25em;background-color: #f0f8ff;}#sk-container-id-33 input.sk-toggleable__control:checked~div.sk-toggleable__content {max-height: 200px;max-width: 100%;overflow: auto;}#sk-container-id-33 input.sk-toggleable__control:checked~label.sk-toggleable__label-arrow:before {content: \"▾\";}#sk-container-id-33 div.sk-estimator input.sk-toggleable__control:checked~label.sk-toggleable__label {background-color: #d4ebff;}#sk-container-id-33 div.sk-label input.sk-toggleable__control:checked~label.sk-toggleable__label {background-color: #d4ebff;}#sk-container-id-33 input.sk-hidden--visually {border: 0;clip: rect(1px 1px 1px 1px);clip: rect(1px, 1px, 1px, 1px);height: 1px;margin: -1px;overflow: hidden;padding: 0;position: absolute;width: 1px;}#sk-container-id-33 div.sk-estimator {font-family: monospace;background-color: #f0f8ff;border: 1px dotted black;border-radius: 0.25em;box-sizing: border-box;margin-bottom: 0.5em;}#sk-container-id-33 div.sk-estimator:hover {background-color: #d4ebff;}#sk-container-id-33 div.sk-parallel-item::after {content: \"\";width: 100%;border-bottom: 1px solid gray;flex-grow: 1;}#sk-container-id-33 div.sk-label:hover label.sk-toggleable__label {background-color: #d4ebff;}#sk-container-id-33 div.sk-serial::before {content: \"\";position: absolute;border-left: 1px solid gray;box-sizing: border-box;top: 0;bottom: 0;left: 50%;z-index: 0;}#sk-container-id-33 div.sk-serial {display: flex;flex-direction: column;align-items: center;background-color: white;padding-right: 0.2em;padding-left: 0.2em;position: relative;}#sk-container-id-33 div.sk-item {position: relative;z-index: 1;}#sk-container-id-33 div.sk-parallel {display: flex;align-items: stretch;justify-content: center;background-color: white;position: relative;}#sk-container-id-33 div.sk-item::before, #sk-container-id-33 div.sk-parallel-item::before {content: \"\";position: absolute;border-left: 1px solid gray;box-sizing: border-box;top: 0;bottom: 0;left: 50%;z-index: -1;}#sk-container-id-33 div.sk-parallel-item {display: flex;flex-direction: column;z-index: 1;position: relative;background-color: white;}#sk-container-id-33 div.sk-parallel-item:first-child::after {align-self: flex-end;width: 50%;}#sk-container-id-33 div.sk-parallel-item:last-child::after {align-self: flex-start;width: 50%;}#sk-container-id-33 div.sk-parallel-item:only-child::after {width: 0;}#sk-container-id-33 div.sk-dashed-wrapped {border: 1px dashed gray;margin: 0 0.4em 0.5em 0.4em;box-sizing: border-box;padding-bottom: 0.4em;background-color: white;}#sk-container-id-33 div.sk-label label {font-family: monospace;font-weight: bold;display: inline-block;line-height: 1.2em;}#sk-container-id-33 div.sk-label-container {text-align: center;}#sk-container-id-33 div.sk-container {/* jupyter's `normalize.less` sets `[hidden] { display: none; }` but bootstrap.min.css set `[hidden] { display: none !important; }` so we also need the `!important` here to be able to override the default hidden behavior on the sphinx rendered scikit-learn.org. See: https://github.com/scikit-learn/scikit-learn/issues/21755 */display: inline-block !important;position: relative;}#sk-container-id-33 div.sk-text-repr-fallback {display: none;}</style><div id=\"sk-container-id-33\" class=\"sk-top-container\"><div class=\"sk-text-repr-fallback\"><pre>AgglomerativeClustering(distance_threshold=0, linkage=&#x27;complete&#x27;,\n",
       "                        n_clusters=None)</pre><b>In a Jupyter environment, please rerun this cell to show the HTML representation or trust the notebook. <br />On GitHub, the HTML representation is unable to render, please try loading this page with nbviewer.org.</b></div><div class=\"sk-container\" hidden><div class=\"sk-item\"><div class=\"sk-estimator sk-toggleable\"><input class=\"sk-toggleable__control sk-hidden--visually\" id=\"sk-estimator-id-33\" type=\"checkbox\" checked><label for=\"sk-estimator-id-33\" class=\"sk-toggleable__label sk-toggleable__label-arrow\">AgglomerativeClustering</label><div class=\"sk-toggleable__content\"><pre>AgglomerativeClustering(distance_threshold=0, linkage=&#x27;complete&#x27;,\n",
       "                        n_clusters=None)</pre></div></div></div></div></div>"
      ],
      "text/plain": [
       "AgglomerativeClustering(distance_threshold=0, linkage='complete',\n",
       "                        n_clusters=None)"
      ]
     },
     "execution_count": 1014,
     "metadata": {},
     "output_type": "execute_result"
    }
   ],
   "source": [
    "hc_comp = hclust(distance_threshold=0,\n",
    "                 n_clusters=None,\n",
    "                 linkage='complete')\n",
    "hc_comp.fit(gene_scaled)"
   ]
  },
  {
   "cell_type": "code",
   "execution_count": 1015,
   "metadata": {},
   "outputs": [
    {
     "name": "stdout",
     "output_type": "stream",
     "text": [
      "['C1', 'C1', 'C1', 'C1', 'C1', 'C1', 'C1', 'C1', 'C1', 'C1', 'C1', 'C1', 'C1', 'C1', 'C1', 'C1', 'C1', 'C1', 'C1', 'C1', 'C2', 'C2', 'C2', 'C2', 'C2', 'C2', 'C2', 'C2', 'C2', 'C2', 'C2', 'C2', 'C2', 'C2', 'C2', 'C2', 'C2', 'C2', 'C2', 'C2']\n"
     ]
    },
    {
     "data": {
      "image/png": "[encoded data removed]",
      "text/plain": [
       "<Figure size 800x800 with 1 Axes>"
      ]
     },
     "metadata": {},
     "output_type": "display_data"
    }
   ],
   "source": [
    "linkage_comp = compute_linkage(hc_comp)\n",
    "fig, ax = plt.subplots(1, 1, figsize=(8, 8))\n",
    "ddata = dendrogram(linkage_comp,\n",
    "           ax=ax,\n",
    "           color_threshold=48,\n",
    "           above_threshold_color='black',\n",
    "           labels=gene_df.index)\n",
    "\n",
    "print(ddata.items().mapping['leaves_color_list'])"
   ]
  },
  {
   "cell_type": "code",
   "execution_count": 1016,
   "metadata": {},
   "outputs": [
    {
     "name": "stdout",
     "output_type": "stream",
     "text": [
      "['C1', 'C1', 'C1', 'C1', 'C1', 'C1', 'C1', 'C1', 'C1', 'C1', 'C1', 'C1', 'C1', 'C1', 'C1', 'C1', 'C1', 'C1', 'C1', 'C1', 'C2', 'C2', 'C2', 'C2', 'C2', 'C2', 'C2', 'C2', 'C2', 'C2', 'C2', 'C2', 'C2', 'C2', 'C2', 'C2', 'C2', 'C2', 'C2', 'C2'] [0, 1, 2, 3, 4, 5, 6, 7, 8, 9, 10, 11, 12, 13, 14, 15, 16, 17, 18, 19, 20, 21, 22, 23, 24, 25, 26, 27, 28, 29, 30, 31, 32, 33, 34, 35, 36, 37, 38, 39]\n"
     ]
    }
   ],
   "source": [
    "X = ddata.items().mapping['leaves_color_list']\n",
    "Y = ddata.items().mapping['leaves']\n",
    "\n",
    "Z = [x for _,x in sorted(zip(Y,X))]\n",
    "print(Z, sorted(Y))"
   ]
  },
  {
   "cell_type": "code",
   "execution_count": 1017,
   "metadata": {},
   "outputs": [
    {
     "data": {
      "text/plain": [
       "(40, 40)"
      ]
     },
     "execution_count": 1017,
     "metadata": {},
     "output_type": "execute_result"
    }
   ],
   "source": [
    "pca = PCA()\n",
    "pca.fit(gene_df)\n",
    "scores = pca.transform(gene_df)\n",
    "scores.shape"
   ]
  },
  {
   "cell_type": "code",
   "execution_count": 1018,
   "metadata": {},
   "outputs": [
    {
     "data": {
      "text/plain": [
       "Text(0, 0.5, 'PC2')"
      ]
     },
     "execution_count": 1018,
     "metadata": {},
     "output_type": "execute_result"
    },
    {
     "data": {
      "image/png": "[encoded data removed]",
      "text/plain": [
       "<Figure size 800x800 with 1 Axes>"
      ]
     },
     "metadata": {},
     "output_type": "display_data"
    }
   ],
   "source": [
    "i, j = 0, 1 # which components\n",
    "fig, ax = plt.subplots(1, 1, figsize=(8, 8))\n",
    "ax.scatter(scores[:,0], scores[:,1])\n",
    "ax.set_xlabel('PC%d' % (i+1))\n",
    "ax.set_ylabel('PC%d' % (j+1))"
   ]
  },
  {
   "cell_type": "code",
   "execution_count": 1019,
   "metadata": {},
   "outputs": [],
   "source": [
    "pca.components_.shape\n",
    "transp = pca.components_.T # for getting the loadings on the first 2 principal components for each gene"
   ]
  },
  {
   "cell_type": "code",
   "execution_count": 1020,
   "metadata": {},
   "outputs": [
    {
     "data": {
      "text/plain": [
       "(999, 2)"
      ]
     },
     "execution_count": 1020,
     "metadata": {},
     "output_type": "execute_result"
    }
   ],
   "source": [
    "first_2_comp = transp[:, :2]\n",
    "transp[:, :2].shape\n"
   ]
  },
  {
   "cell_type": "code",
   "execution_count": 1021,
   "metadata": {},
   "outputs": [
    {
     "data": {
      "text/plain": [
       "(0.14857218555820967, 567)"
      ]
     },
     "execution_count": 1021,
     "metadata": {},
     "output_type": "execute_result"
    }
   ],
   "source": [
    "max_mag = -1\n",
    "max_mag_gene = -1\n",
    "gene = 1\n",
    "for i in first_2_comp:\n",
    "    magnitude = math.sqrt(i[0]**2 + i[1]**2)\n",
    "    if magnitude > max_mag:\n",
    "        max_mag = magnitude\n",
    "        max_mag_gene = gene\n",
    "    gene += 1\n",
    "\n",
    "max_mag, max_mag_gene"
   ]
  },
  {
   "cell_type": "code",
   "execution_count": 1022,
   "metadata": {},
   "outputs": [
    {
     "name": "stdout",
     "output_type": "stream",
     "text": [
      "0.14857218555820967 567\n",
      "0.12461766819409988 594\n",
      "0.11585875430408463 597\n",
      "0.11487415996902177 563\n",
      "0.11437997435178392 548\n",
      "0.11228382866633294 559\n",
      "0.11147081169615594 565\n",
      "0.11098403595389439 16\n",
      "0.11080898183423876 564\n",
      "0.11066825898217934 576\n",
      "0.10954016212503764 560\n",
      "0.10870947108517003 538\n",
      "0.10747287199843186 500\n",
      "0.1072196280841255 508\n",
      "0.10655665657963591 570\n",
      "0.10645476288380373 506\n",
      "0.10576163162913634 583\n",
      "0.10560866078148069 531\n",
      "0.1050646299534171 970\n",
      "0.10498542904821732 508\n"
     ]
    }
   ],
   "source": [
    "first_n_genes = 20\n",
    "\n",
    "comp_2 = first_2_comp\n",
    "for j in range(first_n_genes):\n",
    "    max_mag = -1\n",
    "    max_mag_gene = -1\n",
    "    gene = 1\n",
    "    for i in comp_2:\n",
    "        magnitude = math.sqrt(i[0]**2 + i[1]**2)\n",
    "        if magnitude > max_mag:\n",
    "            max_mag = magnitude\n",
    "            max_mag_gene = gene\n",
    "        gene += 1\n",
    "\n",
    "    print(max_mag, max_mag_gene)\n",
    "    comp_2 = np.delete(comp_2, (max_mag_gene-1), 0)"
   ]
  }
 ],
 "metadata": {
  "kernelspec": {
   "display_name": "Python 3.10.7 64-bit",
   "language": "python",
   "name": "python3"
  },
  "language_info": {
   "codemirror_mode": {
    "name": "ipython",
    "version": 3
   },
   "file_extension": ".py",
   "mimetype": "text/x-python",
   "name": "python",
   "nbconvert_exporter": "python",
   "pygments_lexer": "ipython3",
   "version": "3.10.7"
  },
  "orig_nbformat": 4,
  "vscode": {
   "interpreter": {
    "hash": "aee8b7b246df8f9039afb4144a1f6fd8d2ca17a180786b69acc140d282b71a49"
   }
  }
 },
 "nbformat": 4,
 "nbformat_minor": 2
}
